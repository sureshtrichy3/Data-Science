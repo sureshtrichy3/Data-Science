{
  "cells": [
    {
      "cell_type": "code",
      "execution_count": 104,
      "metadata": {
        "id": "gF5GPNnAjHii"
      },
      "outputs": [],
      "source": [
        "import pandas as pd\n",
        "import numpy as np\n",
        "import requests\n",
        "from time import time\n",
        "\n",
        "#dataprocessing lib\n",
        "\n",
        "from sklearn import preprocessing\n",
        "\n",
        "import nltk\n",
        "from nltk.stem.porter import PorterStemmer\n",
        "\n",
        "from sklearn.model_selection import train_test_split\n",
        "from sklearn.feature_extraction.text import CountVectorizer\n",
        "from sklearn.naive_bayes import MultinomialNB\n",
        "from sklearn.naive_bayes import GaussianNB\n",
        "from sklearn.ensemble import RandomForestClassifier\n",
        "from sklearn.neighbors import KNeighborsClassifier\n",
        "from sklearn.linear_model import LogisticRegression\n",
        "from sklearn.svm import SVC\n",
        "from sklearn import tree\n",
        "import tensorflow as tf\n",
        "from keras.models import Sequential\n",
        "from keras.layers import Dense\n",
        "from tensorflow.keras.optimizers import Adam\n",
        "import warnings\n",
        "import re\n",
        "warnings.filterwarnings('ignore')\n",
        "\n",
        "\n",
        "\n",
        "\n",
        "#Model Evaluation\n",
        "from sklearn.metrics import classification_report\n",
        "from sklearn.metrics import confusion_matrix\n",
        "from sklearn.metrics import accuracy_score\n",
        "\n"
      ]
    },
    {
      "cell_type": "code",
      "execution_count": 2,
      "metadata": {
        "colab": {
          "base_uri": "https://localhost:8080/"
        },
        "id": "ABKavWfjjHio",
        "outputId": "f1af16e1-b521-4c03-da90-e5e88e31d2d1"
      },
      "outputs": [
        {
          "output_type": "stream",
          "name": "stdout",
          "text": [
            "Requirement already satisfied: tensorflow in /usr/local/lib/python3.7/dist-packages (2.7.0)\n",
            "Requirement already satisfied: tensorboard~=2.6 in /usr/local/lib/python3.7/dist-packages (from tensorflow) (2.7.0)\n",
            "Requirement already satisfied: termcolor>=1.1.0 in /usr/local/lib/python3.7/dist-packages (from tensorflow) (1.1.0)\n",
            "Requirement already satisfied: gast<0.5.0,>=0.2.1 in /usr/local/lib/python3.7/dist-packages (from tensorflow) (0.4.0)\n",
            "Requirement already satisfied: typing-extensions>=3.6.6 in /usr/local/lib/python3.7/dist-packages (from tensorflow) (3.10.0.2)\n",
            "Requirement already satisfied: tensorflow-io-gcs-filesystem>=0.21.0 in /usr/local/lib/python3.7/dist-packages (from tensorflow) (0.22.0)\n",
            "Requirement already satisfied: protobuf>=3.9.2 in /usr/local/lib/python3.7/dist-packages (from tensorflow) (3.17.3)\n",
            "Requirement already satisfied: tensorflow-estimator<2.8,~=2.7.0rc0 in /usr/local/lib/python3.7/dist-packages (from tensorflow) (2.7.0)\n",
            "Requirement already satisfied: absl-py>=0.4.0 in /usr/local/lib/python3.7/dist-packages (from tensorflow) (0.12.0)\n",
            "Requirement already satisfied: flatbuffers<3.0,>=1.12 in /usr/local/lib/python3.7/dist-packages (from tensorflow) (2.0)\n",
            "Requirement already satisfied: opt-einsum>=2.3.2 in /usr/local/lib/python3.7/dist-packages (from tensorflow) (3.3.0)\n",
            "Requirement already satisfied: keras<2.8,>=2.7.0rc0 in /usr/local/lib/python3.7/dist-packages (from tensorflow) (2.7.0)\n",
            "Requirement already satisfied: libclang>=9.0.1 in /usr/local/lib/python3.7/dist-packages (from tensorflow) (12.0.0)\n",
            "Requirement already satisfied: grpcio<2.0,>=1.24.3 in /usr/local/lib/python3.7/dist-packages (from tensorflow) (1.42.0)\n",
            "Requirement already satisfied: six>=1.12.0 in /usr/local/lib/python3.7/dist-packages (from tensorflow) (1.15.0)\n",
            "Requirement already satisfied: google-pasta>=0.1.1 in /usr/local/lib/python3.7/dist-packages (from tensorflow) (0.2.0)\n",
            "Requirement already satisfied: wheel<1.0,>=0.32.0 in /usr/local/lib/python3.7/dist-packages (from tensorflow) (0.37.0)\n",
            "Requirement already satisfied: astunparse>=1.6.0 in /usr/local/lib/python3.7/dist-packages (from tensorflow) (1.6.3)\n",
            "Requirement already satisfied: h5py>=2.9.0 in /usr/local/lib/python3.7/dist-packages (from tensorflow) (3.1.0)\n",
            "Requirement already satisfied: keras-preprocessing>=1.1.1 in /usr/local/lib/python3.7/dist-packages (from tensorflow) (1.1.2)\n",
            "Requirement already satisfied: wrapt>=1.11.0 in /usr/local/lib/python3.7/dist-packages (from tensorflow) (1.13.3)\n",
            "Requirement already satisfied: numpy>=1.14.5 in /usr/local/lib/python3.7/dist-packages (from tensorflow) (1.19.5)\n",
            "Requirement already satisfied: cached-property in /usr/local/lib/python3.7/dist-packages (from h5py>=2.9.0->tensorflow) (1.5.2)\n",
            "Requirement already satisfied: setuptools>=41.0.0 in /usr/local/lib/python3.7/dist-packages (from tensorboard~=2.6->tensorflow) (57.4.0)\n",
            "Requirement already satisfied: tensorboard-data-server<0.7.0,>=0.6.0 in /usr/local/lib/python3.7/dist-packages (from tensorboard~=2.6->tensorflow) (0.6.1)\n",
            "Requirement already satisfied: requests<3,>=2.21.0 in /usr/local/lib/python3.7/dist-packages (from tensorboard~=2.6->tensorflow) (2.23.0)\n",
            "Requirement already satisfied: google-auth-oauthlib<0.5,>=0.4.1 in /usr/local/lib/python3.7/dist-packages (from tensorboard~=2.6->tensorflow) (0.4.6)\n",
            "Requirement already satisfied: tensorboard-plugin-wit>=1.6.0 in /usr/local/lib/python3.7/dist-packages (from tensorboard~=2.6->tensorflow) (1.8.0)\n",
            "Requirement already satisfied: google-auth<3,>=1.6.3 in /usr/local/lib/python3.7/dist-packages (from tensorboard~=2.6->tensorflow) (1.35.0)\n",
            "Requirement already satisfied: markdown>=2.6.8 in /usr/local/lib/python3.7/dist-packages (from tensorboard~=2.6->tensorflow) (3.3.6)\n",
            "Requirement already satisfied: werkzeug>=0.11.15 in /usr/local/lib/python3.7/dist-packages (from tensorboard~=2.6->tensorflow) (1.0.1)\n",
            "Requirement already satisfied: rsa<5,>=3.1.4 in /usr/local/lib/python3.7/dist-packages (from google-auth<3,>=1.6.3->tensorboard~=2.6->tensorflow) (4.8)\n",
            "Requirement already satisfied: pyasn1-modules>=0.2.1 in /usr/local/lib/python3.7/dist-packages (from google-auth<3,>=1.6.3->tensorboard~=2.6->tensorflow) (0.2.8)\n",
            "Requirement already satisfied: cachetools<5.0,>=2.0.0 in /usr/local/lib/python3.7/dist-packages (from google-auth<3,>=1.6.3->tensorboard~=2.6->tensorflow) (4.2.4)\n",
            "Requirement already satisfied: requests-oauthlib>=0.7.0 in /usr/local/lib/python3.7/dist-packages (from google-auth-oauthlib<0.5,>=0.4.1->tensorboard~=2.6->tensorflow) (1.3.0)\n",
            "Requirement already satisfied: importlib-metadata>=4.4 in /usr/local/lib/python3.7/dist-packages (from markdown>=2.6.8->tensorboard~=2.6->tensorflow) (4.8.2)\n",
            "Requirement already satisfied: zipp>=0.5 in /usr/local/lib/python3.7/dist-packages (from importlib-metadata>=4.4->markdown>=2.6.8->tensorboard~=2.6->tensorflow) (3.6.0)\n",
            "Requirement already satisfied: pyasn1<0.5.0,>=0.4.6 in /usr/local/lib/python3.7/dist-packages (from pyasn1-modules>=0.2.1->google-auth<3,>=1.6.3->tensorboard~=2.6->tensorflow) (0.4.8)\n",
            "Requirement already satisfied: certifi>=2017.4.17 in /usr/local/lib/python3.7/dist-packages (from requests<3,>=2.21.0->tensorboard~=2.6->tensorflow) (2021.10.8)\n",
            "Requirement already satisfied: chardet<4,>=3.0.2 in /usr/local/lib/python3.7/dist-packages (from requests<3,>=2.21.0->tensorboard~=2.6->tensorflow) (3.0.4)\n",
            "Requirement already satisfied: urllib3!=1.25.0,!=1.25.1,<1.26,>=1.21.1 in /usr/local/lib/python3.7/dist-packages (from requests<3,>=2.21.0->tensorboard~=2.6->tensorflow) (1.24.3)\n",
            "Requirement already satisfied: idna<3,>=2.5 in /usr/local/lib/python3.7/dist-packages (from requests<3,>=2.21.0->tensorboard~=2.6->tensorflow) (2.10)\n",
            "Requirement already satisfied: oauthlib>=3.0.0 in /usr/local/lib/python3.7/dist-packages (from requests-oauthlib>=0.7.0->google-auth-oauthlib<0.5,>=0.4.1->tensorboard~=2.6->tensorflow) (3.1.1)\n"
          ]
        }
      ],
      "source": [
        "pip install tensorflow"
      ]
    },
    {
      "cell_type": "code",
      "source": [
        ""
      ],
      "metadata": {
        "id": "-8XkWe4rg8Sz"
      },
      "execution_count": null,
      "outputs": []
    },
    {
      "cell_type": "markdown",
      "source": [
        "IMPORTING DATASET FROM LOCAL MACHINE"
      ],
      "metadata": {
        "id": "csTDlakEg9GU"
      }
    },
    {
      "cell_type": "code",
      "execution_count": 105,
      "metadata": {
        "id": "RZ-0K1QXjHis"
      },
      "outputs": [],
      "source": [
        "books = pd.read_csv('/content/BRS.csv')\n"
      ]
    },
    {
      "cell_type": "code",
      "execution_count": 106,
      "metadata": {
        "colab": {
          "base_uri": "https://localhost:8080/"
        },
        "id": "NBH3u7iMjHit",
        "outputId": "3fa37514-bcb0-44fb-dc57-02d274f79a20"
      },
      "outputs": [
        {
          "output_type": "stream",
          "name": "stdout",
          "text": [
            "<class 'pandas.core.frame.DataFrame'>\n",
            "RangeIndex: 6585 entries, 0 to 6584\n",
            "Data columns (total 9 columns):\n",
            " #   Column          Non-Null Count  Dtype  \n",
            "---  ------          --------------  -----  \n",
            " 0   Unnamed: 0      6585 non-null   int64  \n",
            " 1   book_id         6585 non-null   int64  \n",
            " 2   title           6585 non-null   object \n",
            " 3   author          6585 non-null   object \n",
            " 4   average_rating  6585 non-null   float64\n",
            " 5   genre           6585 non-null   object \n",
            " 6   description     6584 non-null   object \n",
            " 7   url             6585 non-null   object \n",
            " 8   image_url       6585 non-null   object \n",
            "dtypes: float64(1), int64(2), object(6)\n",
            "memory usage: 463.1+ KB\n"
          ]
        }
      ],
      "source": [
        "books.info()"
      ]
    },
    {
      "cell_type": "code",
      "execution_count": 108,
      "metadata": {
        "scrolled": true,
        "colab": {
          "base_uri": "https://localhost:8080/"
        },
        "id": "9EG2LEtLjHiv",
        "outputId": "5370936b-d8c0-44d1-a8c4-382ea3ba1b8c"
      },
      "outputs": [
        {
          "output_type": "execute_result",
          "data": {
            "text/plain": [
              "(6585, 9)"
            ]
          },
          "metadata": {},
          "execution_count": 108
        }
      ],
      "source": [
        "books.shape"
      ]
    },
    {
      "cell_type": "markdown",
      "metadata": {
        "id": "v7GwswX6jHiv"
      },
      "source": [
        "## Exploratory Data Analysis"
      ]
    },
    {
      "cell_type": "code",
      "execution_count": 110,
      "metadata": {
        "id": "A0NV4W0UjHix",
        "colab": {
          "base_uri": "https://localhost:8080/"
        },
        "outputId": "585a471a-633e-4049-d8cc-131c4383d245"
      },
      "outputs": [
        {
          "output_type": "execute_result",
          "data": {
            "text/plain": [
              "Unnamed: 0        0\n",
              "book_id           0\n",
              "title             0\n",
              "author            0\n",
              "average_rating    0\n",
              "genre             0\n",
              "description       1\n",
              "url               0\n",
              "image_url         0\n",
              "dtype: int64"
            ]
          },
          "metadata": {},
          "execution_count": 110
        }
      ],
      "source": [
        "books.isnull().sum()"
      ]
    },
    {
      "cell_type": "code",
      "execution_count": 111,
      "metadata": {
        "id": "QvP2i_XsjHiy",
        "colab": {
          "base_uri": "https://localhost:8080/",
          "height": 214
        },
        "outputId": "d80f71ce-907d-4afb-b89d-a254188b5396"
      },
      "outputs": [
        {
          "output_type": "execute_result",
          "data": {
            "text/html": [
              "\n",
              "  <div id=\"df-12ccec1c-6e54-4042-a680-2912d315fa2d\">\n",
              "    <div class=\"colab-df-container\">\n",
              "      <div>\n",
              "<style scoped>\n",
              "    .dataframe tbody tr th:only-of-type {\n",
              "        vertical-align: middle;\n",
              "    }\n",
              "\n",
              "    .dataframe tbody tr th {\n",
              "        vertical-align: top;\n",
              "    }\n",
              "\n",
              "    .dataframe thead th {\n",
              "        text-align: right;\n",
              "    }\n",
              "</style>\n",
              "<table border=\"1\" class=\"dataframe\">\n",
              "  <thead>\n",
              "    <tr style=\"text-align: right;\">\n",
              "      <th></th>\n",
              "      <th>Unnamed: 0</th>\n",
              "      <th>book_id</th>\n",
              "      <th>title</th>\n",
              "      <th>author</th>\n",
              "      <th>average_rating</th>\n",
              "      <th>genre</th>\n",
              "      <th>description</th>\n",
              "      <th>url</th>\n",
              "      <th>image_url</th>\n",
              "    </tr>\n",
              "  </thead>\n",
              "  <tbody>\n",
              "    <tr>\n",
              "      <th>6567</th>\n",
              "      <td>6567</td>\n",
              "      <td>117531</td>\n",
              "      <td>Dark Night of the Soul</td>\n",
              "      <td>John of the Cross</td>\n",
              "      <td>4.1</td>\n",
              "      <td>Religion</td>\n",
              "      <td>NaN</td>\n",
              "      <td>https://www.goodreads.com/book/show/117531.Dar...</td>\n",
              "      <td>https://i.gr-assets.com/images/S/compressed.ph...</td>\n",
              "    </tr>\n",
              "  </tbody>\n",
              "</table>\n",
              "</div>\n",
              "      <button class=\"colab-df-convert\" onclick=\"convertToInteractive('df-12ccec1c-6e54-4042-a680-2912d315fa2d')\"\n",
              "              title=\"Convert this dataframe to an interactive table.\"\n",
              "              style=\"display:none;\">\n",
              "        \n",
              "  <svg xmlns=\"http://www.w3.org/2000/svg\" height=\"24px\"viewBox=\"0 0 24 24\"\n",
              "       width=\"24px\">\n",
              "    <path d=\"M0 0h24v24H0V0z\" fill=\"none\"/>\n",
              "    <path d=\"M18.56 5.44l.94 2.06.94-2.06 2.06-.94-2.06-.94-.94-2.06-.94 2.06-2.06.94zm-11 1L8.5 8.5l.94-2.06 2.06-.94-2.06-.94L8.5 2.5l-.94 2.06-2.06.94zm10 10l.94 2.06.94-2.06 2.06-.94-2.06-.94-.94-2.06-.94 2.06-2.06.94z\"/><path d=\"M17.41 7.96l-1.37-1.37c-.4-.4-.92-.59-1.43-.59-.52 0-1.04.2-1.43.59L10.3 9.45l-7.72 7.72c-.78.78-.78 2.05 0 2.83L4 21.41c.39.39.9.59 1.41.59.51 0 1.02-.2 1.41-.59l7.78-7.78 2.81-2.81c.8-.78.8-2.07 0-2.86zM5.41 20L4 18.59l7.72-7.72 1.47 1.35L5.41 20z\"/>\n",
              "  </svg>\n",
              "      </button>\n",
              "      \n",
              "  <style>\n",
              "    .colab-df-container {\n",
              "      display:flex;\n",
              "      flex-wrap:wrap;\n",
              "      gap: 12px;\n",
              "    }\n",
              "\n",
              "    .colab-df-convert {\n",
              "      background-color: #E8F0FE;\n",
              "      border: none;\n",
              "      border-radius: 50%;\n",
              "      cursor: pointer;\n",
              "      display: none;\n",
              "      fill: #1967D2;\n",
              "      height: 32px;\n",
              "      padding: 0 0 0 0;\n",
              "      width: 32px;\n",
              "    }\n",
              "\n",
              "    .colab-df-convert:hover {\n",
              "      background-color: #E2EBFA;\n",
              "      box-shadow: 0px 1px 2px rgba(60, 64, 67, 0.3), 0px 1px 3px 1px rgba(60, 64, 67, 0.15);\n",
              "      fill: #174EA6;\n",
              "    }\n",
              "\n",
              "    [theme=dark] .colab-df-convert {\n",
              "      background-color: #3B4455;\n",
              "      fill: #D2E3FC;\n",
              "    }\n",
              "\n",
              "    [theme=dark] .colab-df-convert:hover {\n",
              "      background-color: #434B5C;\n",
              "      box-shadow: 0px 1px 3px 1px rgba(0, 0, 0, 0.15);\n",
              "      filter: drop-shadow(0px 1px 2px rgba(0, 0, 0, 0.3));\n",
              "      fill: #FFFFFF;\n",
              "    }\n",
              "  </style>\n",
              "\n",
              "      <script>\n",
              "        const buttonEl =\n",
              "          document.querySelector('#df-12ccec1c-6e54-4042-a680-2912d315fa2d button.colab-df-convert');\n",
              "        buttonEl.style.display =\n",
              "          google.colab.kernel.accessAllowed ? 'block' : 'none';\n",
              "\n",
              "        async function convertToInteractive(key) {\n",
              "          const element = document.querySelector('#df-12ccec1c-6e54-4042-a680-2912d315fa2d');\n",
              "          const dataTable =\n",
              "            await google.colab.kernel.invokeFunction('convertToInteractive',\n",
              "                                                     [key], {});\n",
              "          if (!dataTable) return;\n",
              "\n",
              "          const docLinkHtml = 'Like what you see? Visit the ' +\n",
              "            '<a target=\"_blank\" href=https://colab.research.google.com/notebooks/data_table.ipynb>data table notebook</a>'\n",
              "            + ' to learn more about interactive tables.';\n",
              "          element.innerHTML = '';\n",
              "          dataTable['output_type'] = 'display_data';\n",
              "          await google.colab.output.renderOutput(dataTable, element);\n",
              "          const docLink = document.createElement('div');\n",
              "          docLink.innerHTML = docLinkHtml;\n",
              "          element.appendChild(docLink);\n",
              "        }\n",
              "      </script>\n",
              "    </div>\n",
              "  </div>\n",
              "  "
            ],
            "text/plain": [
              "      Unnamed: 0  ...                                          image_url\n",
              "6567        6567  ...  https://i.gr-assets.com/images/S/compressed.ph...\n",
              "\n",
              "[1 rows x 9 columns]"
            ]
          },
          "metadata": {},
          "execution_count": 111
        }
      ],
      "source": [
        "is_NaN = books.isnull()\n",
        "row_has_NaN = is_NaN.any(axis=1)\n",
        "rows_with_NaN = books[row_has_NaN]\n",
        "rows_with_NaN\n"
      ]
    },
    {
      "cell_type": "code",
      "execution_count": 112,
      "metadata": {
        "id": "kjK9UujPjHiz"
      },
      "outputs": [],
      "source": [
        "books= books.drop(6567)"
      ]
    },
    {
      "cell_type": "code",
      "execution_count": 113,
      "metadata": {
        "id": "i8d-F-G6jHiz",
        "colab": {
          "base_uri": "https://localhost:8080/"
        },
        "outputId": "e4027780-6376-4731-88ee-dfe7d529d494"
      },
      "outputs": [
        {
          "output_type": "execute_result",
          "data": {
            "text/plain": [
              "Unnamed: 0        0\n",
              "book_id           0\n",
              "title             0\n",
              "author            0\n",
              "average_rating    0\n",
              "genre             0\n",
              "description       0\n",
              "url               0\n",
              "image_url         0\n",
              "dtype: int64"
            ]
          },
          "metadata": {},
          "execution_count": 113
        }
      ],
      "source": [
        "books.isnull().sum()"
      ]
    },
    {
      "cell_type": "code",
      "execution_count": 115,
      "metadata": {
        "id": "evCcJcvpjHi0",
        "colab": {
          "base_uri": "https://localhost:8080/"
        },
        "outputId": "75b13b7f-d9b9-4c6b-a9f0-6acc2bc4b46c"
      },
      "outputs": [
        {
          "output_type": "execute_result",
          "data": {
            "text/plain": [
              "0"
            ]
          },
          "metadata": {},
          "execution_count": 115
        }
      ],
      "source": [
        "books.duplicated().sum()"
      ]
    },
    {
      "cell_type": "code",
      "execution_count": 117,
      "metadata": {
        "id": "AX4f6Hf-jHi1",
        "colab": {
          "base_uri": "https://localhost:8080/"
        },
        "outputId": "9e2de058-023e-4dc2-db57-0e00438a6c71"
      },
      "outputs": [
        {
          "output_type": "execute_result",
          "data": {
            "text/plain": [
              "Fiction            1372\n",
              "Fantasy             734\n",
              "Nonfiction          678\n",
              "Classics            425\n",
              "Young Adult         340\n",
              "                   ... \n",
              "Gothic                1\n",
              "Christianity          1\n",
              "Northern Africa       1\n",
              "Humanities            1\n",
              "Race                  1\n",
              "Name: genre, Length: 101, dtype: int64"
            ]
          },
          "metadata": {},
          "execution_count": 117
        }
      ],
      "source": [
        "#Genre Value Count\n",
        "books.genre.value_counts()"
      ]
    },
    {
      "cell_type": "markdown",
      "metadata": {
        "id": "aYEJ1BmcjHi2"
      },
      "source": [
        "### Genre Distribution"
      ]
    },
    {
      "cell_type": "markdown",
      "source": [
        "###Showing Top 20 Genres"
      ],
      "metadata": {
        "id": "3MDKejnJlHLl"
      }
    },
    {
      "cell_type": "code",
      "source": [
        "books['genre'].value_counts().nlargest(20).plot(x='genre',y = 'count',kind = 'bar',figsize = (20,5))"
      ],
      "metadata": {
        "colab": {
          "base_uri": "https://localhost:8080/",
          "height": 350
        },
        "id": "UO2ElkzYjpr2",
        "outputId": "60ad37fe-a181-48fe-f24b-ed766ef8ceab"
      },
      "execution_count": 141,
      "outputs": [
        {
          "output_type": "execute_result",
          "data": {
            "text/plain": [
              "<matplotlib.axes._subplots.AxesSubplot at 0x7fea98ed5810>"
            ]
          },
          "metadata": {},
          "execution_count": 141
        },
        {
          "output_type": "display_data",
          "data": {
            "image/png": "[encoded data removed]",
            "text/plain": [
              "<Figure size 1440x360 with 1 Axes>"
            ]
          },
          "metadata": {
            "needs_background": "light"
          }
        }
      ]
    },
    {
      "cell_type": "code",
      "source": [
        "books['genre'].value_counts().nlargest(20).plot(x='genre',y = 'count',kind = 'pie',figsize = (20,5))"
      ],
      "metadata": {
        "colab": {
          "base_uri": "https://localhost:8080/",
          "height": 321
        },
        "id": "QY5n9backvY0",
        "outputId": "6ddbc5d9-90e4-4557-e173-32dfb011ea99"
      },
      "execution_count": 140,
      "outputs": [
        {
          "output_type": "execute_result",
          "data": {
            "text/plain": [
              "<matplotlib.axes._subplots.AxesSubplot at 0x7fea98fb2710>"
            ]
          },
          "metadata": {},
          "execution_count": 140
        },
        {
          "output_type": "display_data",
          "data": {
            "image/png": "[encoded data removed]",
            "text/plain": [
              "<Figure size 1440x360 with 1 Axes>"
            ]
          },
          "metadata": {}
        }
      ]
    },
    {
      "cell_type": "markdown",
      "source": [
        "###Balancing Data"
      ],
      "metadata": {
        "id": "zW5zCDfgkRcc"
      }
    },
    {
      "cell_type": "code",
      "execution_count": 142,
      "metadata": {
        "id": "mYMavxb9jHi2",
        "colab": {
          "base_uri": "https://localhost:8080/"
        },
        "outputId": "4c900412-aea9-4189-9a48-d726ec57f9ea"
      },
      "outputs": [
        {
          "output_type": "execute_result",
          "data": {
            "text/plain": [
              "0"
            ]
          },
          "metadata": {},
          "execution_count": 142
        }
      ],
      "source": [
        "books.duplicated().sum()"
      ]
    },
    {
      "cell_type": "markdown",
      "source": [
        "###Word Count"
      ],
      "metadata": {
        "id": "F8hfbia0lcQs"
      }
    },
    {
      "cell_type": "code",
      "execution_count": 147,
      "metadata": {
        "id": "_DyU8wOxjHi2",
        "colab": {
          "base_uri": "https://localhost:8080/",
          "height": 405
        },
        "outputId": "78656f14-f4e0-409c-e785-d37220fac86d"
      },
      "outputs": [
        {
          "output_type": "execute_result",
          "data": {
            "text/plain": [
              "<seaborn.axisgrid.FacetGrid at 0x7fea987a0f10>"
            ]
          },
          "metadata": {},
          "execution_count": 147
        },
        {
          "output_type": "display_data",
          "data": {
            "text/plain": [
              "<Figure size 864x720 with 0 Axes>"
            ]
          },
          "metadata": {}
        },
        {
          "output_type": "display_data",
          "data": {
            "image/png": "[encoded data removed]",
            "text/plain": [
              "<Figure size 360x360 with 1 Axes>"
            ]
          },
          "metadata": {
            "needs_background": "light"
          }
        }
      ],
      "source": [
        "import seaborn as sns\n",
        "import matplotlib.pyplot as plt\n",
        "\n",
        "books['word_count'] = books['description'].apply(lambda x: len(str(x).split()))\n",
        "plt.figure(figsize=[12, 10])\n",
        "sns.displot(books['word_count'])\n"
      ]
    },
    {
      "cell_type": "code",
      "execution_count": 148,
      "metadata": {
        "id": "VzJHT2UBjHi3",
        "colab": {
          "base_uri": "https://localhost:8080/",
          "height": 478
        },
        "outputId": "2bc739b6-541d-434c-d19e-fd17a60e1d07"
      },
      "outputs": [
        {
          "output_type": "execute_result",
          "data": {
            "text/html": [
              "\n",
              "  <div id=\"df-56b3fced-fa30-474b-9e6a-a9320d00199e\">\n",
              "    <div class=\"colab-df-container\">\n",
              "      <div>\n",
              "<style scoped>\n",
              "    .dataframe tbody tr th:only-of-type {\n",
              "        vertical-align: middle;\n",
              "    }\n",
              "\n",
              "    .dataframe tbody tr th {\n",
              "        vertical-align: top;\n",
              "    }\n",
              "\n",
              "    .dataframe thead th {\n",
              "        text-align: right;\n",
              "    }\n",
              "</style>\n",
              "<table border=\"1\" class=\"dataframe\">\n",
              "  <thead>\n",
              "    <tr style=\"text-align: right;\">\n",
              "      <th></th>\n",
              "      <th>Unnamed: 0</th>\n",
              "      <th>book_id</th>\n",
              "      <th>title</th>\n",
              "      <th>author</th>\n",
              "      <th>average_rating</th>\n",
              "      <th>genre</th>\n",
              "      <th>description</th>\n",
              "      <th>url</th>\n",
              "      <th>image_url</th>\n",
              "      <th>word_count</th>\n",
              "    </tr>\n",
              "  </thead>\n",
              "  <tbody>\n",
              "    <tr>\n",
              "      <th>0</th>\n",
              "      <td>0</td>\n",
              "      <td>2657</td>\n",
              "      <td>To Kill a Mockingbird</td>\n",
              "      <td>Harper Lee</td>\n",
              "      <td>4.27</td>\n",
              "      <td>Classics</td>\n",
              "      <td>The unforgettable novel of a childhood in a sl...</td>\n",
              "      <td>https://www.goodreads.com/book/show/2657.To_Ki...</td>\n",
              "      <td>https://i.gr-assets.com/images/S/compressed.ph...</td>\n",
              "      <td>137</td>\n",
              "    </tr>\n",
              "    <tr>\n",
              "      <th>1</th>\n",
              "      <td>1</td>\n",
              "      <td>3</td>\n",
              "      <td>Harry Potter and the Sorcerer's Stone</td>\n",
              "      <td>J.K. Rowling</td>\n",
              "      <td>4.47</td>\n",
              "      <td>Fantasy</td>\n",
              "      <td>Harry Potter's life is miserable. His parents ...</td>\n",
              "      <td>https://www.goodreads.com/book/show/3.Harry_Po...</td>\n",
              "      <td>https://i.gr-assets.com/images/S/compressed.ph...</td>\n",
              "      <td>220</td>\n",
              "    </tr>\n",
              "    <tr>\n",
              "      <th>2</th>\n",
              "      <td>2</td>\n",
              "      <td>1885</td>\n",
              "      <td>Pride and Prejudice</td>\n",
              "      <td>Jane Austen</td>\n",
              "      <td>4.27</td>\n",
              "      <td>Classics</td>\n",
              "      <td>Alternate cover edition of ISBN 9780679783268S...</td>\n",
              "      <td>https://www.goodreads.com/book/show/1885.Pride...</td>\n",
              "      <td>https://i.gr-assets.com/images/S/compressed.ph...</td>\n",
              "      <td>100</td>\n",
              "    </tr>\n",
              "    <tr>\n",
              "      <th>3</th>\n",
              "      <td>3</td>\n",
              "      <td>48855</td>\n",
              "      <td>The Diary of a Young Girl</td>\n",
              "      <td>Anne Frank</td>\n",
              "      <td>4.17</td>\n",
              "      <td>Nonfiction</td>\n",
              "      <td>Discovered in the attic in which she spent the...</td>\n",
              "      <td>https://www.goodreads.com/book/show/48855.The_...</td>\n",
              "      <td>https://i.gr-assets.com/images/S/compressed.ph...</td>\n",
              "      <td>166</td>\n",
              "    </tr>\n",
              "    <tr>\n",
              "      <th>4</th>\n",
              "      <td>4</td>\n",
              "      <td>170448</td>\n",
              "      <td>Animal Farm</td>\n",
              "      <td>George Orwell</td>\n",
              "      <td>3.97</td>\n",
              "      <td>Classics</td>\n",
              "      <td>Librarian's note: There is an Alternate Cover ...</td>\n",
              "      <td>https://www.goodreads.com/book/show/170448.Ani...</td>\n",
              "      <td>https://i.gr-assets.com/images/S/compressed.ph...</td>\n",
              "      <td>123</td>\n",
              "    </tr>\n",
              "  </tbody>\n",
              "</table>\n",
              "</div>\n",
              "      <button class=\"colab-df-convert\" onclick=\"convertToInteractive('df-56b3fced-fa30-474b-9e6a-a9320d00199e')\"\n",
              "              title=\"Convert this dataframe to an interactive table.\"\n",
              "              style=\"display:none;\">\n",
              "        \n",
              "  <svg xmlns=\"http://www.w3.org/2000/svg\" height=\"24px\"viewBox=\"0 0 24 24\"\n",
              "       width=\"24px\">\n",
              "    <path d=\"M0 0h24v24H0V0z\" fill=\"none\"/>\n",
              "    <path d=\"M18.56 5.44l.94 2.06.94-2.06 2.06-.94-2.06-.94-.94-2.06-.94 2.06-2.06.94zm-11 1L8.5 8.5l.94-2.06 2.06-.94-2.06-.94L8.5 2.5l-.94 2.06-2.06.94zm10 10l.94 2.06.94-2.06 2.06-.94-2.06-.94-.94-2.06-.94 2.06-2.06.94z\"/><path d=\"M17.41 7.96l-1.37-1.37c-.4-.4-.92-.59-1.43-.59-.52 0-1.04.2-1.43.59L10.3 9.45l-7.72 7.72c-.78.78-.78 2.05 0 2.83L4 21.41c.39.39.9.59 1.41.59.51 0 1.02-.2 1.41-.59l7.78-7.78 2.81-2.81c.8-.78.8-2.07 0-2.86zM5.41 20L4 18.59l7.72-7.72 1.47 1.35L5.41 20z\"/>\n",
              "  </svg>\n",
              "      </button>\n",
              "      \n",
              "  <style>\n",
              "    .colab-df-container {\n",
              "      display:flex;\n",
              "      flex-wrap:wrap;\n",
              "      gap: 12px;\n",
              "    }\n",
              "\n",
              "    .colab-df-convert {\n",
              "      background-color: #E8F0FE;\n",
              "      border: none;\n",
              "      border-radius: 50%;\n",
              "      cursor: pointer;\n",
              "      display: none;\n",
              "      fill: #1967D2;\n",
              "      height: 32px;\n",
              "      padding: 0 0 0 0;\n",
              "      width: 32px;\n",
              "    }\n",
              "\n",
              "    .colab-df-convert:hover {\n",
              "      background-color: #E2EBFA;\n",
              "      box-shadow: 0px 1px 2px rgba(60, 64, 67, 0.3), 0px 1px 3px 1px rgba(60, 64, 67, 0.15);\n",
              "      fill: #174EA6;\n",
              "    }\n",
              "\n",
              "    [theme=dark] .colab-df-convert {\n",
              "      background-color: #3B4455;\n",
              "      fill: #D2E3FC;\n",
              "    }\n",
              "\n",
              "    [theme=dark] .colab-df-convert:hover {\n",
              "      background-color: #434B5C;\n",
              "      box-shadow: 0px 1px 3px 1px rgba(0, 0, 0, 0.15);\n",
              "      filter: drop-shadow(0px 1px 2px rgba(0, 0, 0, 0.3));\n",
              "      fill: #FFFFFF;\n",
              "    }\n",
              "  </style>\n",
              "\n",
              "      <script>\n",
              "        const buttonEl =\n",
              "          document.querySelector('#df-56b3fced-fa30-474b-9e6a-a9320d00199e button.colab-df-convert');\n",
              "        buttonEl.style.display =\n",
              "          google.colab.kernel.accessAllowed ? 'block' : 'none';\n",
              "\n",
              "        async function convertToInteractive(key) {\n",
              "          const element = document.querySelector('#df-56b3fced-fa30-474b-9e6a-a9320d00199e');\n",
              "          const dataTable =\n",
              "            await google.colab.kernel.invokeFunction('convertToInteractive',\n",
              "                                                     [key], {});\n",
              "          if (!dataTable) return;\n",
              "\n",
              "          const docLinkHtml = 'Like what you see? Visit the ' +\n",
              "            '<a target=\"_blank\" href=https://colab.research.google.com/notebooks/data_table.ipynb>data table notebook</a>'\n",
              "            + ' to learn more about interactive tables.';\n",
              "          element.innerHTML = '';\n",
              "          dataTable['output_type'] = 'display_data';\n",
              "          await google.colab.output.renderOutput(dataTable, element);\n",
              "          const docLink = document.createElement('div');\n",
              "          docLink.innerHTML = docLinkHtml;\n",
              "          element.appendChild(docLink);\n",
              "        }\n",
              "      </script>\n",
              "    </div>\n",
              "  </div>\n",
              "  "
            ],
            "text/plain": [
              "   Unnamed: 0  ...  word_count\n",
              "0           0  ...         137\n",
              "1           1  ...         220\n",
              "2           2  ...         100\n",
              "3           3  ...         166\n",
              "4           4  ...         123\n",
              "\n",
              "[5 rows x 10 columns]"
            ]
          },
          "metadata": {},
          "execution_count": 148
        }
      ],
      "source": [
        "books.head()"
      ]
    },
    {
      "cell_type": "markdown",
      "metadata": {
        "id": "QcRovpaljHi3"
      },
      "source": [
        "## DataPreprocessing"
      ]
    },
    {
      "cell_type": "code",
      "execution_count": 149,
      "metadata": {
        "id": "8V5wU1fyjHi3",
        "colab": {
          "base_uri": "https://localhost:8080/"
        },
        "outputId": "c97e2556-a2aa-4b89-9b46-0d564d65aaa4"
      },
      "outputs": [
        {
          "output_type": "execute_result",
          "data": {
            "text/plain": [
              "array(['Classics', 'Fantasy', 'Nonfiction', 'Historical', 'Fiction',\n",
              "       'Young Adult', 'Childrens', 'Science Fiction', 'Poetry', 'Horror',\n",
              "       'Religion', 'History', 'Mystery', 'Travel', 'Romance',\n",
              "       'Philosophy', 'Thriller', 'Sequential Art', 'Academic', 'Science',\n",
              "       'Self Help', 'Language', 'Plays', 'Christian', 'Contemporary',\n",
              "       'Drama', 'Autobiography', 'Esoterica', 'Short Stories', 'Crime',\n",
              "       'Psychology', 'Feminism', 'Christian Fiction', 'Biography',\n",
              "       'Business', 'Novels', 'Paranormal', 'Apocalyptic', 'Inspirational',\n",
              "       'Economics', 'Spirituality', 'Epic', 'Book Club', 'Marriage',\n",
              "       'Education', 'Humor', 'Art', 'Politics', 'Polyamorous',\n",
              "       'Womens Fiction', 'Health', 'New Adult', 'Erotica',\n",
              "       'Shapeshifters', 'War', 'Design', 'Cultural', 'Adult', 'Parenting',\n",
              "       'Realistic Fiction', 'Gender', 'Gothic', 'Animals', 'LGBT',\n",
              "       'Modern', 'Literature', 'Music', 'Dark', 'Leadership', 'Adventure',\n",
              "       'Suspense', 'Westerns', 'Adult Fiction', 'Holiday',\n",
              "       'Food and Drink', 'Architecture', 'Relationships',\n",
              "       'Asian Literature', 'Games', 'World War II', 'Occult', 'Sports',\n",
              "       'True Story', 'Anthologies', 'Military History', 'Audiobook',\n",
              "       'Sociology', 'Christianity', 'Lds', 'Northern Africa', 'Death',\n",
              "       'Race', 'Anthropology', 'European Literature', 'Media Tie In',\n",
              "       'Love', 'Writing', 'Mental Health', 'Humanities', 'Culture',\n",
              "       'Prayer'], dtype=object)"
            ]
          },
          "metadata": {},
          "execution_count": 149
        }
      ],
      "source": [
        "books['genre'].unique()"
      ]
    },
    {
      "cell_type": "code",
      "execution_count": 150,
      "metadata": {
        "id": "fXB9Cw7rjHi4"
      },
      "outputs": [],
      "source": [
        "#removing multiple genres which are greater than 100\n",
        "df = books[books['genre'].map(books['genre'].value_counts()) > 100]"
      ]
    },
    {
      "cell_type": "code",
      "execution_count": 151,
      "metadata": {
        "id": "CVvNcychjHi4",
        "colab": {
          "base_uri": "https://localhost:8080/"
        },
        "outputId": "ce6e94bd-f1d2-494a-a739-9692ff079d19"
      },
      "outputs": [
        {
          "output_type": "execute_result",
          "data": {
            "text/plain": [
              "Fiction            1372\n",
              "Fantasy             734\n",
              "Nonfiction          678\n",
              "Classics            425\n",
              "Young Adult         340\n",
              "Historical          331\n",
              "Mystery             257\n",
              "Romance             223\n",
              "Science Fiction     213\n",
              "Thriller            156\n",
              "History             151\n",
              "Horror              150\n",
              "Philosophy          104\n",
              "Poetry              101\n",
              "Name: genre, dtype: int64"
            ]
          },
          "metadata": {},
          "execution_count": 151
        }
      ],
      "source": [
        "df['genre'].value_counts()"
      ]
    },
    {
      "cell_type": "code",
      "execution_count": 152,
      "metadata": {
        "id": "xMcgRYQ2jHi5"
      },
      "outputs": [],
      "source": [
        "# Making a sub dataframe of fiction books with under 160 word count.\n",
        "# As depiction is our fundamental measures for model precision and forecast , we are eliminating the books which has low word count.\n",
        "df2 = df[(df.genre == 'Fiction') & (df.word_count <= 160)]\n",
        "# Dropping the lines made in df2 from the df segment.\n",
        "df.drop(df2.index,axis=0,inplace=True)"
      ]
    },
    {
      "cell_type": "code",
      "execution_count": 153,
      "metadata": {
        "id": "v44C3jPVjHi5",
        "colab": {
          "base_uri": "https://localhost:8080/"
        },
        "outputId": "20f39de5-ba8e-4d00-9c77-477922725666"
      },
      "outputs": [
        {
          "output_type": "execute_result",
          "data": {
            "text/plain": [
              "Fantasy            734\n",
              "Nonfiction         678\n",
              "Fiction            499\n",
              "Classics           425\n",
              "Young Adult        340\n",
              "Historical         331\n",
              "Mystery            257\n",
              "Romance            223\n",
              "Science Fiction    213\n",
              "Thriller           156\n",
              "History            151\n",
              "Horror             150\n",
              "Philosophy         104\n",
              "Poetry             101\n",
              "Name: genre, dtype: int64"
            ]
          },
          "metadata": {},
          "execution_count": 153
        }
      ],
      "source": [
        "df.genre.value_counts()"
      ]
    },
    {
      "cell_type": "code",
      "execution_count": 158,
      "metadata": {
        "id": "jCx_D6ntjHi6",
        "colab": {
          "base_uri": "https://localhost:8080/",
          "height": 611
        },
        "outputId": "10d7844e-fc7e-45a8-9625-486e47761bb1"
      },
      "outputs": [
        {
          "output_type": "execute_result",
          "data": {
            "text/plain": [
              "array([<matplotlib.axes._subplots.AxesSubplot object at 0x7fea98443390>],\n",
              "      dtype=object)"
            ]
          },
          "metadata": {},
          "execution_count": 158
        },
        {
          "output_type": "display_data",
          "data": {
            "image/png": "[encoded data removed]",
            "text/plain": [
              "<Figure size 1080x720 with 1 Axes>"
            ]
          },
          "metadata": {}
        }
      ],
      "source": [
        "df.genre.value_counts().plot(kind='pie', subplots=True, startangle=90,\n",
        "figsize=(15,10), autopct='%1.1f%%')"
      ]
    },
    {
      "cell_type": "code",
      "execution_count": 160,
      "metadata": {
        "id": "EpxKjA7EjHi6"
      },
      "outputs": [],
      "source": [
        "# Checking curse words\n",
        "\n",
        "le = preprocessing.LabelEncoder()\n",
        "le_fit = le.fit_transform(df.genre)\n",
        "df['genre_le'] = le.fit_transform(df.genre)\n"
      ]
    },
    {
      "cell_type": "code",
      "execution_count": 161,
      "metadata": {
        "id": "hGAW9KB3jHi7",
        "colab": {
          "base_uri": "https://localhost:8080/"
        },
        "outputId": "bef9bc28-42f6-4057-a42b-024f21900662"
      },
      "outputs": [
        {
          "output_type": "execute_result",
          "data": {
            "text/plain": [
              "array([ 0,  1,  0, ...,  0, 13,  4])"
            ]
          },
          "metadata": {},
          "execution_count": 161
        }
      ],
      "source": [
        "le_fit"
      ]
    },
    {
      "cell_type": "code",
      "execution_count": 162,
      "metadata": {
        "id": "TrVieJ45jHi7"
      },
      "outputs": [],
      "source": [
        "df['author'] = df['author'].str.replace(\" \",\"\")\n",
        "df['tags'] = df['author'] + \" \" + df['title'] + \" \" + df['description']\n",
        "df.drop(['word_count', 'author', 'description'], axis=1, inplace=True)\n",
        "\n"
      ]
    },
    {
      "cell_type": "code",
      "execution_count": 163,
      "metadata": {
        "id": "HP5jofEvjHi7"
      },
      "outputs": [],
      "source": [
        "#Regularized Text\n",
        "#stemming\n",
        "ps = PorterStemmer()\n",
        "def clean_summary(text):\n",
        "   \n",
        "    text = re.sub('\\W+', ' ', text)\n",
        "    text = text.lower() \n",
        "   \n",
        "    y = []\n",
        "    for i in text.split():\n",
        "        y.append(ps.stem(i))\n",
        "    return \" \".join(y)\n"
      ]
    },
    {
      "cell_type": "code",
      "execution_count": 164,
      "metadata": {
        "id": "G3pT__wcjHi8",
        "colab": {
          "base_uri": "https://localhost:8080/",
          "height": 895
        },
        "outputId": "094256ed-1fd8-4d6a-8ed4-4f52dcec1b46"
      },
      "outputs": [
        {
          "output_type": "execute_result",
          "data": {
            "text/html": [
              "\n",
              "  <div id=\"df-4908fa56-28d5-427a-b1d6-59ba63316ce1\">\n",
              "    <div class=\"colab-df-container\">\n",
              "      <div>\n",
              "<style scoped>\n",
              "    .dataframe tbody tr th:only-of-type {\n",
              "        vertical-align: middle;\n",
              "    }\n",
              "\n",
              "    .dataframe tbody tr th {\n",
              "        vertical-align: top;\n",
              "    }\n",
              "\n",
              "    .dataframe thead th {\n",
              "        text-align: right;\n",
              "    }\n",
              "</style>\n",
              "<table border=\"1\" class=\"dataframe\">\n",
              "  <thead>\n",
              "    <tr style=\"text-align: right;\">\n",
              "      <th></th>\n",
              "      <th>Unnamed: 0</th>\n",
              "      <th>book_id</th>\n",
              "      <th>title</th>\n",
              "      <th>average_rating</th>\n",
              "      <th>genre</th>\n",
              "      <th>url</th>\n",
              "      <th>image_url</th>\n",
              "      <th>genre_le</th>\n",
              "      <th>tags</th>\n",
              "    </tr>\n",
              "  </thead>\n",
              "  <tbody>\n",
              "    <tr>\n",
              "      <th>3795</th>\n",
              "      <td>3795</td>\n",
              "      <td>32149989</td>\n",
              "      <td>Revel</td>\n",
              "      <td>4.83</td>\n",
              "      <td>Poetry</td>\n",
              "      <td>https://www.goodreads.com/book/show/32149989-r...</td>\n",
              "      <td>https://i.gr-assets.com/images/S/compressed.ph...</td>\n",
              "      <td>9</td>\n",
              "      <td>michaelindemaio revel michael indemaio is a mo...</td>\n",
              "    </tr>\n",
              "    <tr>\n",
              "      <th>2109</th>\n",
              "      <td>2109</td>\n",
              "      <td>125190</td>\n",
              "      <td>Swallows and Amazons</td>\n",
              "      <td>3.98</td>\n",
              "      <td>Classics</td>\n",
              "      <td>https://www.goodreads.com/book/show/125190.Swa...</td>\n",
              "      <td>https://i.gr-assets.com/images/S/compressed.ph...</td>\n",
              "      <td>0</td>\n",
              "      <td>arthurransom swallow and amazon the first titl...</td>\n",
              "    </tr>\n",
              "    <tr>\n",
              "      <th>2343</th>\n",
              "      <td>2343</td>\n",
              "      <td>15842439</td>\n",
              "      <td>Warm Bodies</td>\n",
              "      <td>3.91</td>\n",
              "      <td>Romance</td>\n",
              "      <td>https://www.goodreads.com/book/show/15842439-w...</td>\n",
              "      <td>https://i.gr-assets.com/images/S/compressed.ph...</td>\n",
              "      <td>10</td>\n",
              "      <td>isaacmarion warm bodi now a major motion pictu...</td>\n",
              "    </tr>\n",
              "    <tr>\n",
              "      <th>5012</th>\n",
              "      <td>5012</td>\n",
              "      <td>7544603</td>\n",
              "      <td>Smaragdgrün</td>\n",
              "      <td>4.17</td>\n",
              "      <td>Fantasy</td>\n",
              "      <td>https://www.goodreads.com/book/show/7544603-sm...</td>\n",
              "      <td>https://i.gr-assets.com/images/S/compressed.ph...</td>\n",
              "      <td>1</td>\n",
              "      <td>kerstingi smaragdgrün gwendolyn ist am boden z...</td>\n",
              "    </tr>\n",
              "    <tr>\n",
              "      <th>2205</th>\n",
              "      <td>2205</td>\n",
              "      <td>16331</td>\n",
              "      <td>Murder at the Vicarage</td>\n",
              "      <td>4.06</td>\n",
              "      <td>Mystery</td>\n",
              "      <td>https://www.goodreads.com/book/show/16331.Murd...</td>\n",
              "      <td>https://i.gr-assets.com/images/S/compressed.ph...</td>\n",
              "      <td>6</td>\n",
              "      <td>agathachristi murder at the vicarag anyon who ...</td>\n",
              "    </tr>\n",
              "    <tr>\n",
              "      <th>886</th>\n",
              "      <td>886</td>\n",
              "      <td>10603</td>\n",
              "      <td>Cujo</td>\n",
              "      <td>3.75</td>\n",
              "      <td>Horror</td>\n",
              "      <td>https://www.goodreads.com/book/show/10603.Cujo</td>\n",
              "      <td>https://i.gr-assets.com/images/S/compressed.ph...</td>\n",
              "      <td>5</td>\n",
              "      <td>stephenk cujo outsid a peac town in central ma...</td>\n",
              "    </tr>\n",
              "    <tr>\n",
              "      <th>6474</th>\n",
              "      <td>6474</td>\n",
              "      <td>39028</td>\n",
              "      <td>The Wheel of Darkness</td>\n",
              "      <td>3.95</td>\n",
              "      <td>Thriller</td>\n",
              "      <td>https://www.goodreads.com/book/show/39028.The_...</td>\n",
              "      <td>https://i.gr-assets.com/images/S/compressed.ph...</td>\n",
              "      <td>12</td>\n",
              "      <td>douglaspreston the wheel of dark at a remot mo...</td>\n",
              "    </tr>\n",
              "    <tr>\n",
              "      <th>2152</th>\n",
              "      <td>2152</td>\n",
              "      <td>32978448</td>\n",
              "      <td>The Last Valentine</td>\n",
              "      <td>4.09</td>\n",
              "      <td>Romance</td>\n",
              "      <td>https://www.goodreads.com/book/show/32978448-t...</td>\n",
              "      <td>https://i.gr-assets.com/images/S/compressed.ph...</td>\n",
              "      <td>10</td>\n",
              "      <td>felixalexand the last valentin when olivia vil...</td>\n",
              "    </tr>\n",
              "    <tr>\n",
              "      <th>43</th>\n",
              "      <td>43</td>\n",
              "      <td>1381</td>\n",
              "      <td>The Odyssey</td>\n",
              "      <td>3.78</td>\n",
              "      <td>Classics</td>\n",
              "      <td>https://www.goodreads.com/book/show/1381.The_O...</td>\n",
              "      <td>https://i.gr-assets.com/images/S/compressed.ph...</td>\n",
              "      <td>0</td>\n",
              "      <td>homer the odyssey sing to me of the man muse t...</td>\n",
              "    </tr>\n",
              "    <tr>\n",
              "      <th>3256</th>\n",
              "      <td>3256</td>\n",
              "      <td>43841</td>\n",
              "      <td>When Christ and His Saints Slept</td>\n",
              "      <td>4.21</td>\n",
              "      <td>Historical</td>\n",
              "      <td>https://www.goodreads.com/book/show/43841.When...</td>\n",
              "      <td>https://i.gr-assets.com/images/S/compressed.ph...</td>\n",
              "      <td>3</td>\n",
              "      <td>sharonkaypenman when christ and hi saint slept...</td>\n",
              "    </tr>\n",
              "  </tbody>\n",
              "</table>\n",
              "</div>\n",
              "      <button class=\"colab-df-convert\" onclick=\"convertToInteractive('df-4908fa56-28d5-427a-b1d6-59ba63316ce1')\"\n",
              "              title=\"Convert this dataframe to an interactive table.\"\n",
              "              style=\"display:none;\">\n",
              "        \n",
              "  <svg xmlns=\"http://www.w3.org/2000/svg\" height=\"24px\"viewBox=\"0 0 24 24\"\n",
              "       width=\"24px\">\n",
              "    <path d=\"M0 0h24v24H0V0z\" fill=\"none\"/>\n",
              "    <path d=\"M18.56 5.44l.94 2.06.94-2.06 2.06-.94-2.06-.94-.94-2.06-.94 2.06-2.06.94zm-11 1L8.5 8.5l.94-2.06 2.06-.94-2.06-.94L8.5 2.5l-.94 2.06-2.06.94zm10 10l.94 2.06.94-2.06 2.06-.94-2.06-.94-.94-2.06-.94 2.06-2.06.94z\"/><path d=\"M17.41 7.96l-1.37-1.37c-.4-.4-.92-.59-1.43-.59-.52 0-1.04.2-1.43.59L10.3 9.45l-7.72 7.72c-.78.78-.78 2.05 0 2.83L4 21.41c.39.39.9.59 1.41.59.51 0 1.02-.2 1.41-.59l7.78-7.78 2.81-2.81c.8-.78.8-2.07 0-2.86zM5.41 20L4 18.59l7.72-7.72 1.47 1.35L5.41 20z\"/>\n",
              "  </svg>\n",
              "      </button>\n",
              "      \n",
              "  <style>\n",
              "    .colab-df-container {\n",
              "      display:flex;\n",
              "      flex-wrap:wrap;\n",
              "      gap: 12px;\n",
              "    }\n",
              "\n",
              "    .colab-df-convert {\n",
              "      background-color: #E8F0FE;\n",
              "      border: none;\n",
              "      border-radius: 50%;\n",
              "      cursor: pointer;\n",
              "      display: none;\n",
              "      fill: #1967D2;\n",
              "      height: 32px;\n",
              "      padding: 0 0 0 0;\n",
              "      width: 32px;\n",
              "    }\n",
              "\n",
              "    .colab-df-convert:hover {\n",
              "      background-color: #E2EBFA;\n",
              "      box-shadow: 0px 1px 2px rgba(60, 64, 67, 0.3), 0px 1px 3px 1px rgba(60, 64, 67, 0.15);\n",
              "      fill: #174EA6;\n",
              "    }\n",
              "\n",
              "    [theme=dark] .colab-df-convert {\n",
              "      background-color: #3B4455;\n",
              "      fill: #D2E3FC;\n",
              "    }\n",
              "\n",
              "    [theme=dark] .colab-df-convert:hover {\n",
              "      background-color: #434B5C;\n",
              "      box-shadow: 0px 1px 3px 1px rgba(0, 0, 0, 0.15);\n",
              "      filter: drop-shadow(0px 1px 2px rgba(0, 0, 0, 0.3));\n",
              "      fill: #FFFFFF;\n",
              "    }\n",
              "  </style>\n",
              "\n",
              "      <script>\n",
              "        const buttonEl =\n",
              "          document.querySelector('#df-4908fa56-28d5-427a-b1d6-59ba63316ce1 button.colab-df-convert');\n",
              "        buttonEl.style.display =\n",
              "          google.colab.kernel.accessAllowed ? 'block' : 'none';\n",
              "\n",
              "        async function convertToInteractive(key) {\n",
              "          const element = document.querySelector('#df-4908fa56-28d5-427a-b1d6-59ba63316ce1');\n",
              "          const dataTable =\n",
              "            await google.colab.kernel.invokeFunction('convertToInteractive',\n",
              "                                                     [key], {});\n",
              "          if (!dataTable) return;\n",
              "\n",
              "          const docLinkHtml = 'Like what you see? Visit the ' +\n",
              "            '<a target=\"_blank\" href=https://colab.research.google.com/notebooks/data_table.ipynb>data table notebook</a>'\n",
              "            + ' to learn more about interactive tables.';\n",
              "          element.innerHTML = '';\n",
              "          dataTable['output_type'] = 'display_data';\n",
              "          await google.colab.output.renderOutput(dataTable, element);\n",
              "          const docLink = document.createElement('div');\n",
              "          docLink.innerHTML = docLinkHtml;\n",
              "          element.appendChild(docLink);\n",
              "        }\n",
              "      </script>\n",
              "    </div>\n",
              "  </div>\n",
              "  "
            ],
            "text/plain": [
              "      Unnamed: 0  ...                                               tags\n",
              "3795        3795  ...  michaelindemaio revel michael indemaio is a mo...\n",
              "2109        2109  ...  arthurransom swallow and amazon the first titl...\n",
              "2343        2343  ...  isaacmarion warm bodi now a major motion pictu...\n",
              "5012        5012  ...  kerstingi smaragdgrün gwendolyn ist am boden z...\n",
              "2205        2205  ...  agathachristi murder at the vicarag anyon who ...\n",
              "886          886  ...  stephenk cujo outsid a peac town in central ma...\n",
              "6474        6474  ...  douglaspreston the wheel of dark at a remot mo...\n",
              "2152        2152  ...  felixalexand the last valentin when olivia vil...\n",
              "43            43  ...  homer the odyssey sing to me of the man muse t...\n",
              "3256        3256  ...  sharonkaypenman when christ and hi saint slept...\n",
              "\n",
              "[10 rows x 9 columns]"
            ]
          },
          "metadata": {},
          "execution_count": 164
        }
      ],
      "source": [
        "df['tags'] = df['tags'].apply(clean_summary)\n",
        "df.sample(10)"
      ]
    },
    {
      "cell_type": "code",
      "execution_count": 165,
      "metadata": {
        "id": "q3VHHp6XjHi8"
      },
      "outputs": [],
      "source": [
        "#relegate the free highlights (text) to X variable and the objective to y\n",
        "X = pd.DataFrame(df['tags'])\n",
        "y = df['genre_le']"
      ]
    },
    {
      "cell_type": "code",
      "execution_count": 166,
      "metadata": {
        "id": "m_l1TG6ajHi8",
        "colab": {
          "base_uri": "https://localhost:8080/"
        },
        "outputId": "a642f79a-b0b3-4e97-deaa-aac017e09aa3"
      },
      "outputs": [
        {
          "output_type": "execute_result",
          "data": {
            "text/plain": [
              "0        0\n",
              "1        1\n",
              "2        0\n",
              "3        7\n",
              "4        0\n",
              "        ..\n",
              "6579     0\n",
              "6580     1\n",
              "6582     0\n",
              "6583    13\n",
              "6584     4\n",
              "Name: genre_le, Length: 4362, dtype: int64"
            ]
          },
          "metadata": {},
          "execution_count": 166
        }
      ],
      "source": [
        "y"
      ]
    },
    {
      "cell_type": "code",
      "execution_count": 167,
      "metadata": {
        "id": "7kMdI5FEjHi8"
      },
      "outputs": [],
      "source": [
        "from imblearn.over_sampling import RandomOverSampler\n",
        "from imblearn.under_sampling import RandomUnderSampler"
      ]
    },
    {
      "cell_type": "code",
      "execution_count": 168,
      "metadata": {
        "scrolled": true,
        "id": "Elt_bY68jHi9",
        "colab": {
          "base_uri": "https://localhost:8080/"
        },
        "outputId": "ac151a4a-361d-44a7-af87-91317583793a"
      },
      "outputs": [
        {
          "output_type": "execute_result",
          "data": {
            "text/plain": [
              "1     734\n",
              "7     678\n",
              "2     499\n",
              "0     425\n",
              "13    340\n",
              "3     331\n",
              "6     257\n",
              "10    223\n",
              "11    213\n",
              "12    156\n",
              "4     151\n",
              "5     150\n",
              "8     104\n",
              "9     101\n",
              "Name: genre_le, dtype: int64"
            ]
          },
          "metadata": {},
          "execution_count": 168
        }
      ],
      "source": [
        "y.value_counts()"
      ]
    },
    {
      "cell_type": "code",
      "execution_count": 169,
      "metadata": {
        "id": "yyZdkcOxjHi9"
      },
      "outputs": [],
      "source": [
        "#Oversampling\n",
        "strategy = {0:500, 1:734, 2:500, 3:500, 4:500, 5:500,6:500,7:678,8:500,9:500,10:500,11:500,12:500,13:500}\n",
        "os = RandomOverSampler(sampling_strategy = strategy)"
      ]
    },
    {
      "cell_type": "code",
      "execution_count": 170,
      "metadata": {
        "id": "qr3ZOBJMjHi9"
      },
      "outputs": [],
      "source": [
        "X_rs, y_rs = os.fit_resample(X,y)"
      ]
    },
    {
      "cell_type": "code",
      "execution_count": 172,
      "metadata": {
        "id": "6kHWO9H4jHi9",
        "colab": {
          "base_uri": "https://localhost:8080/"
        },
        "outputId": "69ccd413-9874-4b2e-ff32-0196b12e4727"
      },
      "outputs": [
        {
          "output_type": "stream",
          "name": "stdout",
          "text": [
            "Counter({1: 734, 7: 678, 2: 499, 0: 425, 13: 340, 3: 331, 6: 257, 10: 223, 11: 213, 12: 156, 4: 151, 5: 150, 8: 104, 9: 101})\n"
          ]
        }
      ],
      "source": [
        "from collections import Counter\n",
        "print(Counter(y))"
      ]
    },
    {
      "cell_type": "code",
      "execution_count": 173,
      "metadata": {
        "id": "1kb-M2m9jHi9",
        "colab": {
          "base_uri": "https://localhost:8080/"
        },
        "outputId": "5c5b014b-7539-4538-c330-ba289798942a"
      },
      "outputs": [
        {
          "output_type": "stream",
          "name": "stdout",
          "text": [
            "Counter({1: 734, 7: 678, 0: 500, 3: 500, 13: 500, 11: 500, 9: 500, 2: 500, 5: 500, 4: 500, 6: 500, 10: 500, 8: 500, 12: 500})\n"
          ]
        }
      ],
      "source": [
        "print(Counter(y_rs))"
      ]
    },
    {
      "cell_type": "code",
      "execution_count": 174,
      "metadata": {
        "id": "8f0B3fbjjHi9"
      },
      "outputs": [],
      "source": [
        "#Undersampling\n",
        "strategy = {0:500, 1:500, 2:500, 3:500, 4:500, 5:500,6:500,7:500,8:500,9:500,10:500,11:500,12:500,13:500}\n",
        "us = RandomUnderSampler(sampling_strategy = strategy)"
      ]
    },
    {
      "cell_type": "code",
      "execution_count": 175,
      "metadata": {
        "id": "nB_hoawVjHi-"
      },
      "outputs": [],
      "source": [
        "X_new, y_new = us.fit_resample(X_rs,y_rs)"
      ]
    },
    {
      "cell_type": "code",
      "execution_count": 176,
      "metadata": {
        "id": "8c7v2GPZjHi-",
        "colab": {
          "base_uri": "https://localhost:8080/"
        },
        "outputId": "e947c2f3-6b7b-4984-d652-53656da9a704"
      },
      "outputs": [
        {
          "output_type": "stream",
          "name": "stdout",
          "text": [
            "Counter({0: 500, 1: 500, 2: 500, 3: 500, 4: 500, 5: 500, 6: 500, 7: 500, 8: 500, 9: 500, 10: 500, 11: 500, 12: 500, 13: 500})\n"
          ]
        }
      ],
      "source": [
        "print(Counter(y_new))"
      ]
    },
    {
      "cell_type": "code",
      "execution_count": 178,
      "metadata": {
        "scrolled": true,
        "id": "_jaShJ9zjHi-",
        "colab": {
          "base_uri": "https://localhost:8080/",
          "height": 266
        },
        "outputId": "cd2054d6-95fc-40c0-a205-44a6bb88a315"
      },
      "outputs": [
        {
          "output_type": "execute_result",
          "data": {
            "text/plain": [
              "<matplotlib.axes._subplots.AxesSubplot at 0x7fea982bd250>"
            ]
          },
          "metadata": {},
          "execution_count": 178
        },
        {
          "output_type": "display_data",
          "data": {
            "image/png": "[encoded data removed]",
            "text/plain": [
              "<Figure size 432x288 with 1 Axes>"
            ]
          },
          "metadata": {}
        }
      ],
      "source": [
        "y_new.value_counts().plot(x='y_new',y = 'count',kind = 'pie')"
      ]
    },
    {
      "cell_type": "code",
      "execution_count": 179,
      "metadata": {
        "id": "k-KigMPGjHi-",
        "colab": {
          "base_uri": "https://localhost:8080/"
        },
        "outputId": "0b9b434c-3409-4268-c122-a44e179af963"
      },
      "outputs": [
        {
          "output_type": "execute_result",
          "data": {
            "text/plain": [
              "(7000,)"
            ]
          },
          "metadata": {},
          "execution_count": 179
        }
      ],
      "source": [
        "y_new.shape"
      ]
    },
    {
      "cell_type": "markdown",
      "metadata": {
        "id": "ni-n_eEajHi-"
      },
      "source": [
        "## Split the dataset into Train and Test sets"
      ]
    },
    {
      "cell_type": "code",
      "execution_count": 180,
      "metadata": {
        "id": "_PrpoHREjHi-"
      },
      "outputs": [],
      "source": [
        "#Training 70% and Test 30%\n",
        "X_train, X_test, y_train, y_test = train_test_split(X_new, y_new, test_size=0.30)"
      ]
    },
    {
      "cell_type": "code",
      "execution_count": 181,
      "metadata": {
        "scrolled": false,
        "id": "gEDxd_nwjHi_",
        "colab": {
          "base_uri": "https://localhost:8080/",
          "height": 206
        },
        "outputId": "83a7d33d-1e94-4d97-d43f-7ea2e694a108"
      },
      "outputs": [
        {
          "output_type": "execute_result",
          "data": {
            "text/html": [
              "\n",
              "  <div id=\"df-81877f08-05ed-4488-a868-16bc85c8300b\">\n",
              "    <div class=\"colab-df-container\">\n",
              "      <div>\n",
              "<style scoped>\n",
              "    .dataframe tbody tr th:only-of-type {\n",
              "        vertical-align: middle;\n",
              "    }\n",
              "\n",
              "    .dataframe tbody tr th {\n",
              "        vertical-align: top;\n",
              "    }\n",
              "\n",
              "    .dataframe thead th {\n",
              "        text-align: right;\n",
              "    }\n",
              "</style>\n",
              "<table border=\"1\" class=\"dataframe\">\n",
              "  <thead>\n",
              "    <tr style=\"text-align: right;\">\n",
              "      <th></th>\n",
              "      <th>tags</th>\n",
              "    </tr>\n",
              "  </thead>\n",
              "  <tbody>\n",
              "    <tr>\n",
              "      <th>6844</th>\n",
              "      <td>jennydownham befor i die the stori of tessa a ...</td>\n",
              "    </tr>\n",
              "    <tr>\n",
              "      <th>5988</th>\n",
              "      <td>clairenorth the first fifteen live of harri au...</td>\n",
              "    </tr>\n",
              "    <tr>\n",
              "      <th>4571</th>\n",
              "      <td>dorothypark the collect dorothi parker dorothi...</td>\n",
              "    </tr>\n",
              "    <tr>\n",
              "      <th>3017</th>\n",
              "      <td>ellenraskin the west game a bizarr chain of ev...</td>\n",
              "    </tr>\n",
              "    <tr>\n",
              "      <th>6026</th>\n",
              "      <td>tayloradam no exit a thriller about four stran...</td>\n",
              "    </tr>\n",
              "  </tbody>\n",
              "</table>\n",
              "</div>\n",
              "      <button class=\"colab-df-convert\" onclick=\"convertToInteractive('df-81877f08-05ed-4488-a868-16bc85c8300b')\"\n",
              "              title=\"Convert this dataframe to an interactive table.\"\n",
              "              style=\"display:none;\">\n",
              "        \n",
              "  <svg xmlns=\"http://www.w3.org/2000/svg\" height=\"24px\"viewBox=\"0 0 24 24\"\n",
              "       width=\"24px\">\n",
              "    <path d=\"M0 0h24v24H0V0z\" fill=\"none\"/>\n",
              "    <path d=\"M18.56 5.44l.94 2.06.94-2.06 2.06-.94-2.06-.94-.94-2.06-.94 2.06-2.06.94zm-11 1L8.5 8.5l.94-2.06 2.06-.94-2.06-.94L8.5 2.5l-.94 2.06-2.06.94zm10 10l.94 2.06.94-2.06 2.06-.94-2.06-.94-.94-2.06-.94 2.06-2.06.94z\"/><path d=\"M17.41 7.96l-1.37-1.37c-.4-.4-.92-.59-1.43-.59-.52 0-1.04.2-1.43.59L10.3 9.45l-7.72 7.72c-.78.78-.78 2.05 0 2.83L4 21.41c.39.39.9.59 1.41.59.51 0 1.02-.2 1.41-.59l7.78-7.78 2.81-2.81c.8-.78.8-2.07 0-2.86zM5.41 20L4 18.59l7.72-7.72 1.47 1.35L5.41 20z\"/>\n",
              "  </svg>\n",
              "      </button>\n",
              "      \n",
              "  <style>\n",
              "    .colab-df-container {\n",
              "      display:flex;\n",
              "      flex-wrap:wrap;\n",
              "      gap: 12px;\n",
              "    }\n",
              "\n",
              "    .colab-df-convert {\n",
              "      background-color: #E8F0FE;\n",
              "      border: none;\n",
              "      border-radius: 50%;\n",
              "      cursor: pointer;\n",
              "      display: none;\n",
              "      fill: #1967D2;\n",
              "      height: 32px;\n",
              "      padding: 0 0 0 0;\n",
              "      width: 32px;\n",
              "    }\n",
              "\n",
              "    .colab-df-convert:hover {\n",
              "      background-color: #E2EBFA;\n",
              "      box-shadow: 0px 1px 2px rgba(60, 64, 67, 0.3), 0px 1px 3px 1px rgba(60, 64, 67, 0.15);\n",
              "      fill: #174EA6;\n",
              "    }\n",
              "\n",
              "    [theme=dark] .colab-df-convert {\n",
              "      background-color: #3B4455;\n",
              "      fill: #D2E3FC;\n",
              "    }\n",
              "\n",
              "    [theme=dark] .colab-df-convert:hover {\n",
              "      background-color: #434B5C;\n",
              "      box-shadow: 0px 1px 3px 1px rgba(0, 0, 0, 0.15);\n",
              "      filter: drop-shadow(0px 1px 2px rgba(0, 0, 0, 0.3));\n",
              "      fill: #FFFFFF;\n",
              "    }\n",
              "  </style>\n",
              "\n",
              "      <script>\n",
              "        const buttonEl =\n",
              "          document.querySelector('#df-81877f08-05ed-4488-a868-16bc85c8300b button.colab-df-convert');\n",
              "        buttonEl.style.display =\n",
              "          google.colab.kernel.accessAllowed ? 'block' : 'none';\n",
              "\n",
              "        async function convertToInteractive(key) {\n",
              "          const element = document.querySelector('#df-81877f08-05ed-4488-a868-16bc85c8300b');\n",
              "          const dataTable =\n",
              "            await google.colab.kernel.invokeFunction('convertToInteractive',\n",
              "                                                     [key], {});\n",
              "          if (!dataTable) return;\n",
              "\n",
              "          const docLinkHtml = 'Like what you see? Visit the ' +\n",
              "            '<a target=\"_blank\" href=https://colab.research.google.com/notebooks/data_table.ipynb>data table notebook</a>'\n",
              "            + ' to learn more about interactive tables.';\n",
              "          element.innerHTML = '';\n",
              "          dataTable['output_type'] = 'display_data';\n",
              "          await google.colab.output.renderOutput(dataTable, element);\n",
              "          const docLink = document.createElement('div');\n",
              "          docLink.innerHTML = docLinkHtml;\n",
              "          element.appendChild(docLink);\n",
              "        }\n",
              "      </script>\n",
              "    </div>\n",
              "  </div>\n",
              "  "
            ],
            "text/plain": [
              "                                                   tags\n",
              "6844  jennydownham befor i die the stori of tessa a ...\n",
              "5988  clairenorth the first fifteen live of harri au...\n",
              "4571  dorothypark the collect dorothi parker dorothi...\n",
              "3017  ellenraskin the west game a bizarr chain of ev...\n",
              "6026  tayloradam no exit a thriller about four stran..."
            ]
          },
          "metadata": {},
          "execution_count": 181
        }
      ],
      "source": [
        "X_train.head()"
      ]
    },
    {
      "cell_type": "code",
      "execution_count": 182,
      "metadata": {
        "id": "2mKALyjXjHi_",
        "colab": {
          "base_uri": "https://localhost:8080/"
        },
        "outputId": "3367c50f-5cf3-4121-89a4-20273e82024b"
      },
      "outputs": [
        {
          "output_type": "execute_result",
          "data": {
            "text/plain": [
              "6844    jennydownham befor i die the stori of tessa a ...\n",
              "5988    clairenorth the first fifteen live of harri au...\n",
              "4571    dorothypark the collect dorothi parker dorothi...\n",
              "3017    ellenraskin the west game a bizarr chain of ev...\n",
              "6026    tayloradam no exit a thriller about four stran...\n",
              "Name: tags, dtype: object"
            ]
          },
          "metadata": {},
          "execution_count": 182
        }
      ],
      "source": [
        "x_train = X_train.iloc[:,0]\n",
        "x_train.head()"
      ]
    },
    {
      "cell_type": "markdown",
      "metadata": {
        "id": "Dt_nqwGYjHi_"
      },
      "source": [
        "## CountVectorizer - Feature Extraction"
      ]
    },
    {
      "cell_type": "code",
      "execution_count": 183,
      "metadata": {
        "id": "yk6b8jxtjHi_"
      },
      "outputs": [],
      "source": [
        "#Removing Stopwords\n",
        "cv = CountVectorizer(max_features = 10000,stop_words = 'english')"
      ]
    },
    {
      "cell_type": "code",
      "execution_count": 184,
      "metadata": {
        "id": "gPomkDJajHi_",
        "colab": {
          "base_uri": "https://localhost:8080/"
        },
        "outputId": "14c658b3-24b0-44a1-895b-d41859b82128"
      },
      "outputs": [
        {
          "output_type": "execute_result",
          "data": {
            "text/plain": [
              "array([[0, 0, 0, ..., 0, 0, 0],\n",
              "       [0, 0, 0, ..., 0, 0, 0],\n",
              "       [0, 0, 0, ..., 0, 0, 0],\n",
              "       ...,\n",
              "       [0, 0, 0, ..., 0, 0, 0],\n",
              "       [0, 0, 0, ..., 0, 0, 0],\n",
              "       [0, 0, 0, ..., 0, 0, 0]])"
            ]
          },
          "metadata": {},
          "execution_count": 184
        }
      ],
      "source": [
        "x = cv.fit_transform(x_train).toarray()\n",
        "x"
      ]
    },
    {
      "cell_type": "code",
      "execution_count": 185,
      "metadata": {
        "id": "gzj_bugrjHi_",
        "colab": {
          "base_uri": "https://localhost:8080/"
        },
        "outputId": "3cdf9d5f-6d4b-4550-8ecd-38428c86f3e5"
      },
      "outputs": [
        {
          "output_type": "execute_result",
          "data": {
            "text/plain": [
              "1411    katrinschumann the forgotten hour in thi evoc ...\n",
              "4266    benjaminhoff the te of piglet in which a good ...\n",
              "5117    cassidystorm girl talk autumn is stuck in a ru...\n",
              "185     dodiesmith i captur the castl through six turb...\n",
              "454     williamblak song of innoc and of experi song o...\n",
              "Name: tags, dtype: object"
            ]
          },
          "metadata": {},
          "execution_count": 185
        }
      ],
      "source": [
        "x_test = X_test.iloc[:,0]\n",
        "x_test.head()"
      ]
    },
    {
      "cell_type": "code",
      "execution_count": 186,
      "metadata": {
        "id": "17D-FC-3jHi_",
        "colab": {
          "base_uri": "https://localhost:8080/"
        },
        "outputId": "e0b16854-164a-4f5d-ee36-5ba592b0c39f"
      },
      "outputs": [
        {
          "output_type": "execute_result",
          "data": {
            "text/plain": [
              "(2100, 10000)"
            ]
          },
          "metadata": {},
          "execution_count": 186
        }
      ],
      "source": [
        "test_x = cv.transform(x_test).toarray()\n",
        "test_x.shape"
      ]
    },
    {
      "cell_type": "markdown",
      "metadata": {
        "id": "1qpOwErejHjA"
      },
      "source": [
        "## Model Tuning"
      ]
    },
    {
      "cell_type": "code",
      "execution_count": 187,
      "metadata": {
        "id": "BQ_-ma_5jHjA"
      },
      "outputs": [],
      "source": [
        "# For showing output in table format\n",
        "training_time = []\n",
        "predicting_time = []\n",
        "accuracy_scores = []\n",
        "train_accuracy_scores = []\n",
        "precision_scores = []\n",
        "recall_scores = []\n",
        "f1_scores = []"
      ]
    },
    {
      "cell_type": "code",
      "execution_count": 188,
      "metadata": {
        "id": "pNMs9m_RjHjA"
      },
      "outputs": [],
      "source": [
        "model1 = MultinomialNB()"
      ]
    },
    {
      "cell_type": "code",
      "execution_count": 190,
      "metadata": {
        "id": "wpcZPktajHjA",
        "colab": {
          "base_uri": "https://localhost:8080/"
        },
        "outputId": "7cc602be-4eea-4d63-f121-d60b94da94e0"
      },
      "outputs": [
        {
          "output_type": "stream",
          "name": "stdout",
          "text": [
            "\n",
            "Training time: 13.974 s\n",
            "\n"
          ]
        }
      ],
      "source": [
        "#Training time\n",
        "t0 = time()\n",
        "model1.fit(x, y_train)\n",
        "print(\"\\nTraining time:\", round(time()-t0, 3), \"s\\n\")\n",
        "training_time.append(round(time()-t0, 3))"
      ]
    },
    {
      "cell_type": "code",
      "execution_count": 191,
      "metadata": {
        "id": "V70yPwSyjHjB",
        "colab": {
          "base_uri": "https://localhost:8080/"
        },
        "outputId": "4ddb1f44-781c-48ae-847e-856b3f5f9da4"
      },
      "outputs": [
        {
          "output_type": "stream",
          "name": "stdout",
          "text": [
            "Predicting time: 0.382 s\n",
            "\n",
            "\n",
            "Accuracy Score for training data:  0.9636734693877551\n"
          ]
        }
      ],
      "source": [
        "# Predicting \n",
        "t1 = time()\n",
        "predicted = model1.predict(test_x)\n",
        "print(\"Predicting time:\", round(time()-t1, 3), \"s\\n\")\n",
        "predicting_time.append(round(time()-t1, 3))\n",
        "\n",
        "# Predicting train data.\n",
        "train_pred1 = model1.predict(x)\n",
        "print('\\nAccuracy Score for training data: ',accuracy_score(y_train,train_pred1))\n",
        "train_accuracy_scores.append(accuracy_score(y_train,train_pred1))"
      ]
    },
    {
      "cell_type": "code",
      "execution_count": 193,
      "metadata": {
        "id": "xHeyPMDJjHjB",
        "colab": {
          "base_uri": "https://localhost:8080/"
        },
        "outputId": "84577a16-4808-444b-8e64-70ac0e767979"
      },
      "outputs": [
        {
          "output_type": "stream",
          "name": "stdout",
          "text": [
            "\n",
            "Accuracy Score 0.800952380952381\n",
            "Classification Report:\n",
            "               precision    recall  f1-score   support\n",
            "\n",
            "           0       0.80      0.66      0.72       157\n",
            "           1       0.73      0.73      0.73       142\n",
            "           2       0.48      0.60      0.54       162\n",
            "           3       0.76      0.72      0.74       154\n",
            "           4       0.84      0.92      0.88       146\n",
            "           5       0.93      0.90      0.91       146\n",
            "           6       0.88      0.83      0.85       151\n",
            "           7       0.77      0.70      0.73       140\n",
            "           8       0.96      0.98      0.97       151\n",
            "           9       0.95      0.93      0.94       143\n",
            "          10       0.75      0.88      0.81       147\n",
            "          11       0.93      0.82      0.87       143\n",
            "          12       0.81      0.88      0.84       169\n",
            "          13       0.76      0.68      0.72       149\n",
            "\n",
            "    accuracy                           0.80      2100\n",
            "   macro avg       0.81      0.80      0.80      2100\n",
            "weighted avg       0.81      0.80      0.80      2100\n",
            "\n",
            "confusion matrix:\n",
            " [[103   3  16  12   5   3   1   3   1   3   3   2   1   1]\n",
            " [  4 103   7   2   0   2   3   4   0   0   8   0   0   9]\n",
            " [  8   7  98   9   2   1   1  11   2   0   8   1   8   6]\n",
            " [  2   8  12 111  12   2   0   3   0   0   0   0   0   4]\n",
            " [  0   0   0   0 135   0   1   4   2   2   0   0   2   0]\n",
            " [  1   0   5   1   0 131   0   0   0   0   1   0   7   0]\n",
            " [  0   0  13   0   0   1 126   1   0   0   1   0   7   2]\n",
            " [  3   1  19   4   6   0   2  98   1   1   1   3   1   0]\n",
            " [  0   0   2   0   0   0   0   1 148   0   0   0   0   0]\n",
            " [  7   3   0   0   0   0   0   0   0 133   0   0   0   0]\n",
            " [  0   4   8   0   0   0   0   0   0   0 129   0   1   5]\n",
            " [  0   3   6   1   0   0   0   2   0   1   0 117   8   5]\n",
            " [  0   0   6   3   0   0   5   0   0   0   5   1 149   0]\n",
            " [  0   9  12   3   0   1   5   0   0   0  16   2   0 101]]\n"
          ]
        }
      ],
      "source": [
        "## Model Evaluation on the basis of - Accuracy, Precision, Recall\n",
        "from sklearn.metrics import precision_recall_fscore_support\n",
        "\n",
        "print('\\nAccuracy Score',accuracy_score(y_test,predicted))\n",
        "\n",
        "accuracy_scores.append(accuracy_score(y_test,predicted).round(2))\n",
        "\n",
        "print(\"Classification Report:\\n\",classification_report(y_test, predicted))\n",
        "clf_rep = precision_recall_fscore_support(y_test,predicted)\n",
        "precision_scores.append(clf_rep[0][0].round(2))\n",
        "recall_scores.append(clf_rep[1][0].round(2))\n",
        "f1_scores.append(clf_rep[2][0].round(2))\n",
        "\n",
        "print(\"confusion matrix:\\n\",confusion_matrix(y_test, predicted))\n",
        "\n"
      ]
    },
    {
      "cell_type": "code",
      "execution_count": 194,
      "metadata": {
        "id": "bUwf44kejHjB"
      },
      "outputs": [],
      "source": [
        "model2 = GaussianNB()"
      ]
    },
    {
      "cell_type": "code",
      "execution_count": 195,
      "metadata": {
        "id": "f0sI---sjHjB",
        "colab": {
          "base_uri": "https://localhost:8080/"
        },
        "outputId": "a530723d-0f97-454f-c536-59e88cce59ec"
      },
      "outputs": [
        {
          "output_type": "stream",
          "name": "stdout",
          "text": [
            "\n",
            "Training time: 1.716 s\n",
            "\n"
          ]
        }
      ],
      "source": [
        "#Predicting\n",
        "t0 = time()\n",
        "model2.fit(x, y_train)\n",
        "print(\"\\nTraining time:\", round(time()-t0, 3), \"s\\n\")\n",
        "training_time.append(round(time()-t0, 3))"
      ]
    },
    {
      "cell_type": "code",
      "execution_count": 196,
      "metadata": {
        "id": "weZz2myNjHjB",
        "colab": {
          "base_uri": "https://localhost:8080/"
        },
        "outputId": "1a200582-d420-4a94-9845-0dd281dd2c21"
      },
      "outputs": [
        {
          "output_type": "stream",
          "name": "stdout",
          "text": [
            "Predicting time: 2.705 s\n",
            "\n",
            "\n",
            "Accuracy Score for training data:  0.9636734693877551\n"
          ]
        }
      ],
      "source": [
        "# Prediting\n",
        "t1 = time()\n",
        "predicted = model2.predict(test_x)\n",
        "print(\"Predicting time:\", round(time()-t1, 3), \"s\\n\")\n",
        "predicting_time.append(round(time()-t1, 3))\n",
        "# Predicting train data.\n",
        "train_pred2 = model2.predict(x)\n",
        "print('\\nAccuracy Score for training data: ',accuracy_score(y_train,train_pred1))\n",
        "train_accuracy_scores.append(accuracy_score(y_train,train_pred2))"
      ]
    },
    {
      "cell_type": "code",
      "execution_count": 197,
      "metadata": {
        "id": "ATgK143ujHjB",
        "colab": {
          "base_uri": "https://localhost:8080/"
        },
        "outputId": "87b63149-b10d-48e2-c06f-8a080deb2547"
      },
      "outputs": [
        {
          "output_type": "stream",
          "name": "stdout",
          "text": [
            "\n",
            "Accuracy Score 0.7352380952380952\n",
            "Classification Report:\n",
            "               precision    recall  f1-score   support\n",
            "\n",
            "           0       0.77      0.41      0.53       157\n",
            "           1       0.69      0.58      0.63       142\n",
            "           2       0.25      0.56      0.34       162\n",
            "           3       0.76      0.60      0.67       154\n",
            "           4       0.93      0.94      0.93       146\n",
            "           5       0.98      0.90      0.94       146\n",
            "           6       0.91      0.78      0.84       151\n",
            "           7       0.43      0.65      0.52       140\n",
            "           8       0.99      0.99      0.99       151\n",
            "           9       0.97      0.97      0.97       143\n",
            "          10       0.93      0.78      0.85       147\n",
            "          11       0.88      0.79      0.83       143\n",
            "          12       0.97      0.80      0.88       169\n",
            "          13       0.84      0.57      0.68       149\n",
            "\n",
            "    accuracy                           0.74      2100\n",
            "   macro avg       0.81      0.74      0.76      2100\n",
            "weighted avg       0.81      0.74      0.76      2100\n",
            "\n",
            "confusion matrix:\n",
            " [[ 64  10  49   7   3   0   0  14   0   2   3   3   0   2]\n",
            " [  1  82  35   3   1   0   1   8   0   0   0   5   0   6]\n",
            " [  4  10  91   8   1   0   4  36   1   0   2   1   1   3]\n",
            " [  2   3  33  93   6   1   0  13   0   0   0   0   2   1]\n",
            " [  0   2   3   0 137   0   0   4   0   0   0   0   0   0]\n",
            " [  1   0  11   1   0 131   0   1   0   0   0   1   0   0]\n",
            " [  2   0  23   1   0   0 118   4   0   0   0   0   1   2]\n",
            " [  5   1  33   2   0   1   0  91   1   2   0   3   0   1]\n",
            " [  1   0   1   0   0   0   0   0 149   0   0   0   0   0]\n",
            " [  0   0   0   0   0   0   0   4   0 139   0   0   0   0]\n",
            " [  0   2  20   2   0   0   0   7   0   0 115   0   0   1]\n",
            " [  1   5  18   0   0   0   1   4   0   0   1 113   0   0]\n",
            " [  0   0  17   0   0   0   4  12   0   0   0   0 136   0]\n",
            " [  2   3  33   5   0   0   1  15   0   0   3   2   0  85]]\n"
          ]
        }
      ],
      "source": [
        "##Model Evaluation on the basis of - Accuracy, Precision, Recall\n",
        "from sklearn.metrics import precision_recall_fscore_support\n",
        "\n",
        "print('\\nAccuracy Score',accuracy_score(y_test,predicted))\n",
        "\n",
        "accuracy_scores.append(accuracy_score(y_test,predicted).round(2))\n",
        "\n",
        "print(\"Classification Report:\\n\",classification_report(y_test, predicted))\n",
        "clf_rep = precision_recall_fscore_support(y_test,predicted)\n",
        "precision_scores.append(clf_rep[0][0].round(2))\n",
        "recall_scores.append(clf_rep[1][0].round(2))\n",
        "f1_scores.append(clf_rep[2][0].round(2))\n",
        "\n",
        "print(\"confusion matrix:\\n\",confusion_matrix(y_test, predicted))\n"
      ]
    },
    {
      "cell_type": "code",
      "execution_count": 198,
      "metadata": {
        "id": "L3R2OBmpjHjC"
      },
      "outputs": [],
      "source": [
        "model3 = tree.DecisionTreeClassifier()"
      ]
    },
    {
      "cell_type": "code",
      "execution_count": 199,
      "metadata": {
        "id": "TWCYvDQgjHjC",
        "colab": {
          "base_uri": "https://localhost:8080/"
        },
        "outputId": "89da1bdf-543f-4c59-e48a-a871490897ec"
      },
      "outputs": [
        {
          "output_type": "stream",
          "name": "stdout",
          "text": [
            "\n",
            "Training time: 15.001 s\n",
            "\n"
          ]
        }
      ],
      "source": [
        "#Predicting\n",
        "t0 = time()\n",
        "model3.fit(x, y_train)\n",
        "print(\"\\nTraining time:\", round(time()-t0, 3), \"s\\n\")\n",
        "training_time.append(round(time()-t0, 3))"
      ]
    },
    {
      "cell_type": "code",
      "execution_count": 200,
      "metadata": {
        "id": "LDUs2LBkjHjC",
        "colab": {
          "base_uri": "https://localhost:8080/"
        },
        "outputId": "bd0194c6-7395-434b-a1a8-e94acc1ff790"
      },
      "outputs": [
        {
          "output_type": "stream",
          "name": "stdout",
          "text": [
            "Predicting time: 0.081 s\n",
            "\n",
            "\n",
            "Accuracy Score for training data:  0.9636734693877551\n"
          ]
        }
      ],
      "source": [
        "# Predicting\n",
        "t1 = time()\n",
        "predicted = model3.predict(test_x)\n",
        "print(\"Predicting time:\", round(time()-t1, 3), \"s\\n\")\n",
        "predicting_time.append(round(time()-t1, 3))\n",
        "\n",
        "# Predicting train data.\n",
        "train_pred3 = model3.predict(x)\n",
        "print('\\nAccuracy Score for training data: ',accuracy_score(y_train,train_pred1))\n",
        "train_accuracy_scores.append(accuracy_score(y_train,train_pred3))"
      ]
    },
    {
      "cell_type": "code",
      "execution_count": 202,
      "metadata": {
        "id": "nAgra6N6jHjC",
        "colab": {
          "base_uri": "https://localhost:8080/"
        },
        "outputId": "5edd0445-eca2-40de-9dc7-be268f4e01fe"
      },
      "outputs": [
        {
          "output_type": "stream",
          "name": "stdout",
          "text": [
            "\n",
            "Accuracy Score 0.6895238095238095\n",
            "Classification Report:\n",
            "               precision    recall  f1-score   support\n",
            "\n",
            "           0       0.48      0.46      0.47       157\n",
            "           1       0.48      0.39      0.43       142\n",
            "           2       0.33      0.22      0.27       162\n",
            "           3       0.59      0.60      0.60       154\n",
            "           4       0.84      0.92      0.88       146\n",
            "           5       0.88      0.94      0.91       146\n",
            "           6       0.75      0.77      0.76       151\n",
            "           7       0.38      0.27      0.32       140\n",
            "           8       0.82      0.99      0.90       151\n",
            "           9       0.92      0.96      0.94       143\n",
            "          10       0.75      0.81      0.78       147\n",
            "          11       0.80      0.87      0.84       143\n",
            "          12       0.77      0.88      0.82       169\n",
            "          13       0.55      0.58      0.56       149\n",
            "\n",
            "    accuracy                           0.69      2100\n",
            "   macro avg       0.67      0.69      0.68      2100\n",
            "weighted avg       0.67      0.69      0.67      2100\n",
            "\n",
            "confusion matrix:\n",
            " [[ 73   8  16   7   4   1   6  16   5   3   2   2   2  12]\n",
            " [ 14  56   7  12   0   5   4   6   0   1   5   5   5  22]\n",
            " [ 25  14  36  14   4   2   7  15   3   3  11   8  11   9]\n",
            " [ 11   8  16  93   0   1   2   5   1   1   4   3   2   7]\n",
            " [  0   0   4   0 134   0   2   4   2   0   0   0   0   0]\n",
            " [  1   0   3   0   1 137   0   0   0   0   0   0   4   0]\n",
            " [ 10   0   5   1   1   0 117   1   1   0   1   3   7   4]\n",
            " [ 10  11  10   8  12   2   7  38  11   4   6   6   7   8]\n",
            " [  0   1   0   1   0   0   0   0 149   0   0   0   0   0]\n",
            " [  0   0   0   0   0   0   0   2   4 137   0   0   0   0]\n",
            " [  2   8   2   5   3   0   3   1   0   0 119   0   0   4]\n",
            " [  3   2   0   0   0   0   0   2   3   0   1 125   3   4]\n",
            " [  0   0   1   5   0   5   4   4   1   0   0   0 148   1]\n",
            " [  4   8   9  12   1   2   3   5   1   0  10   4   4  86]]\n"
          ]
        }
      ],
      "source": [
        "##Model Evaluation on the basis of - Accuracy, Precision, Recall\n",
        "from sklearn.metrics import precision_recall_fscore_support\n",
        "\n",
        "print('\\nAccuracy Score',accuracy_score(y_test,predicted))\n",
        "\n",
        "accuracy_scores.append(accuracy_score(y_test,predicted).round(2))\n",
        "\n",
        "print(\"Classification Report:\\n\",classification_report(y_test, predicted))\n",
        "clf_rep = precision_recall_fscore_support(y_test,predicted)\n",
        "precision_scores.append(clf_rep[0][0].round(2))\n",
        "recall_scores.append(clf_rep[1][0].round(2))\n",
        "f1_scores.append(clf_rep[2][0].round(2))\n",
        "\n",
        "print(\"confusion matrix:\\n\",confusion_matrix(y_test, predicted))\n"
      ]
    },
    {
      "cell_type": "code",
      "execution_count": 64,
      "metadata": {
        "id": "LR1Aei7tjHjC"
      },
      "outputs": [],
      "source": [
        "model5 = KNeighborsClassifier(n_neighbors=5, metric='euclidean')"
      ]
    },
    {
      "cell_type": "code",
      "execution_count": 203,
      "metadata": {
        "id": "kK5hNb5xjHjC",
        "colab": {
          "base_uri": "https://localhost:8080/"
        },
        "outputId": "1fc4f12a-2efd-49a3-8065-d9041083685d"
      },
      "outputs": [
        {
          "output_type": "stream",
          "name": "stdout",
          "text": [
            "\n",
            "Training time: 0.006 s\n",
            "\n"
          ]
        }
      ],
      "source": [
        "#Predicting\n",
        "t0 = time()\n",
        "model5.fit(x, y_train)\n",
        "print(\"\\nTraining time:\", round(time()-t0, 3), \"s\\n\")\n",
        "training_time.append(round(time()-t0, 3))"
      ]
    },
    {
      "cell_type": "code",
      "execution_count": 204,
      "metadata": {
        "id": "5yUR_hVijHjC",
        "colab": {
          "base_uri": "https://localhost:8080/"
        },
        "outputId": "3512039a-d388-4622-a49d-cb20c61dec36"
      },
      "outputs": [
        {
          "output_type": "stream",
          "name": "stdout",
          "text": [
            "Predicting time: 10.234 s\n",
            "\n",
            "\n",
            "Accuracy Score for training data:  0.9636734693877551\n"
          ]
        }
      ],
      "source": [
        "# Predicting\n",
        "t1 = time()\n",
        "predicted = model5.predict(test_x)\n",
        "print(\"Predicting time:\", round(time()-t1, 3), \"s\\n\")\n",
        "predicting_time.append(round(time()-t1, 3))\n",
        "\n",
        "# Predicting train data.\n",
        "train_pred5 = model5.predict(x)\n",
        "print('\\nAccuracy Score for training data: ',accuracy_score(y_train,train_pred1))\n",
        "train_accuracy_scores.append(accuracy_score(y_train,train_pred5))"
      ]
    },
    {
      "cell_type": "code",
      "execution_count": 205,
      "metadata": {
        "id": "6rvSvzshjHjC",
        "colab": {
          "base_uri": "https://localhost:8080/"
        },
        "outputId": "8efe1a82-0d30-4260-e3b5-b5de5b146d22"
      },
      "outputs": [
        {
          "output_type": "stream",
          "name": "stdout",
          "text": [
            "\n",
            "Accuracy Score 0.3547619047619048\n",
            "Classification Report:\n",
            "               precision    recall  f1-score   support\n",
            "\n",
            "           0       0.11      0.89      0.20       157\n",
            "           1       0.41      0.08      0.13       142\n",
            "           2       1.00      0.01      0.02       162\n",
            "           3       0.56      0.20      0.30       154\n",
            "           4       0.66      0.58      0.61       146\n",
            "           5       0.66      0.51      0.58       146\n",
            "           6       0.75      0.18      0.29       151\n",
            "           7       0.00      0.00      0.00       140\n",
            "           8       0.65      0.79      0.71       151\n",
            "           9       0.81      0.71      0.76       143\n",
            "          10       0.89      0.27      0.42       147\n",
            "          11       0.54      0.29      0.37       143\n",
            "          12       0.84      0.37      0.51       169\n",
            "          13       0.65      0.09      0.15       149\n",
            "\n",
            "    accuracy                           0.35      2100\n",
            "   macro avg       0.61      0.35      0.36      2100\n",
            "weighted avg       0.61      0.35      0.36      2100\n",
            "\n",
            "confusion matrix:\n",
            " [[139   0   0   1   3   2   0   0   3   7   0   1   1   0]\n",
            " [112  11   0   3   1   2   1   0   4   1   2   5   0   0]\n",
            " [109   4   2   3   8   7   1   0  10   6   3   4   4   1]\n",
            " [105   0   0  31   5   2   0   0   9   0   0   2   0   0]\n",
            " [ 51   2   0   2  84   0   0   0   2   0   0   3   2   0]\n",
            " [ 57   1   0   1   4  75   0   0   2   0   0   6   0   0]\n",
            " [113   1   0   1   2   4  27   0   1   0   0   2   0   0]\n",
            " [ 88   1   0   2  15   6   1   0  17   3   0   6   0   1]\n",
            " [ 28   0   0   2   1   0   0   0 119   0   0   0   0   1]\n",
            " [ 32   0   0   2   0   3   0   0   5 101   0   0   0   0]\n",
            " [ 88   3   0   1   2   2   0   0   4   0  40   1   2   4]\n",
            " [ 86   1   0   2   1   5   1   0   1   4   0  41   1   0]\n",
            " [ 92   2   0   0   0   3   4   0   3   1   0   2  62   0]\n",
            " [116   1   0   4   2   2   1   0   4   1   0   3   2  13]]\n"
          ]
        }
      ],
      "source": [
        "##Model Evaluation on the basis of - Accuracy, Precision, Recall\n",
        "from sklearn.metrics import precision_recall_fscore_support\n",
        "\n",
        "print('\\nAccuracy Score',accuracy_score(y_test,predicted))\n",
        "\n",
        "accuracy_scores.append(accuracy_score(y_test,predicted).round(2))\n",
        "\n",
        "print(\"Classification Report:\\n\",classification_report(y_test, predicted))\n",
        "clf_rep = precision_recall_fscore_support(y_test,predicted)\n",
        "precision_scores.append(clf_rep[0][0].round(2))\n",
        "recall_scores.append(clf_rep[1][0].round(2))\n",
        "f1_scores.append(clf_rep[2][0].round(2))\n",
        "\n",
        "print(\"confusion matrix:\\n\",confusion_matrix(y_test, predicted))\n"
      ]
    },
    {
      "cell_type": "code",
      "execution_count": 206,
      "metadata": {
        "id": "Z6c4gnpijHjD"
      },
      "outputs": [],
      "source": [
        "model6 = LogisticRegression(max_iter=2000)"
      ]
    },
    {
      "cell_type": "code",
      "execution_count": 207,
      "metadata": {
        "id": "ftxE3awsjHjD",
        "colab": {
          "base_uri": "https://localhost:8080/"
        },
        "outputId": "3a4dfc20-b32f-453c-f260-29bfd68705b2"
      },
      "outputs": [
        {
          "output_type": "stream",
          "name": "stdout",
          "text": [
            "\n",
            "Training time: 72.895 s\n",
            "\n"
          ]
        }
      ],
      "source": [
        "#Predicting\n",
        "t0 = time()\n",
        "model6.fit(x, y_train)\n",
        "print(\"\\nTraining time:\", round(time()-t0, 3), \"s\\n\")\n",
        "training_time.append(round(time()-t0, 3))"
      ]
    },
    {
      "cell_type": "code",
      "execution_count": 208,
      "metadata": {
        "id": "FUyo1ohSjHjD",
        "colab": {
          "base_uri": "https://localhost:8080/"
        },
        "outputId": "0a3853cd-4028-44aa-c547-e0c87cfd1af6"
      },
      "outputs": [
        {
          "output_type": "stream",
          "name": "stdout",
          "text": [
            "Predicting time: 0.147 s\n",
            "\n",
            "\n",
            "Accuracy Score for training data:  0.9636734693877551\n"
          ]
        }
      ],
      "source": [
        "# Predicting\n",
        "t1 = time()\n",
        "predicted = model6.predict(test_x)\n",
        "print(\"Predicting time:\", round(time()-t1, 3), \"s\\n\")\n",
        "predicting_time.append(round(time()-t1, 3))\n",
        "\n",
        "# Predicting train data.\n",
        "train_pred6 = model6.predict(x)\n",
        "print('\\nAccuracy Score for training data: ',accuracy_score(y_train,train_pred1))\n",
        "train_accuracy_scores.append(accuracy_score(y_train,train_pred6))"
      ]
    },
    {
      "cell_type": "code",
      "execution_count": 209,
      "metadata": {
        "id": "YWZEzln5jHjD",
        "colab": {
          "base_uri": "https://localhost:8080/"
        },
        "outputId": "34b04572-a008-4a02-b62f-f0041e3f3333"
      },
      "outputs": [
        {
          "output_type": "stream",
          "name": "stdout",
          "text": [
            "\n",
            "Accuracy Score 0.8233333333333334\n",
            "Classification Report:\n",
            "               precision    recall  f1-score   support\n",
            "\n",
            "           0       0.75      0.78      0.77       157\n",
            "           1       0.77      0.71      0.74       142\n",
            "           2       0.64      0.48      0.55       162\n",
            "           3       0.72      0.77      0.74       154\n",
            "           4       0.90      0.97      0.93       146\n",
            "           5       0.90      0.97      0.93       146\n",
            "           6       0.83      0.87      0.85       151\n",
            "           7       0.78      0.64      0.70       140\n",
            "           8       0.94      0.99      0.97       151\n",
            "           9       0.96      0.94      0.95       143\n",
            "          10       0.79      0.91      0.85       147\n",
            "          11       0.87      0.91      0.89       143\n",
            "          12       0.89      0.86      0.88       169\n",
            "          13       0.76      0.72      0.74       149\n",
            "\n",
            "    accuracy                           0.82      2100\n",
            "   macro avg       0.82      0.83      0.82      2100\n",
            "weighted avg       0.82      0.82      0.82      2100\n",
            "\n",
            "confusion matrix:\n",
            " [[123   4   3   8   4   3   0   2   0   4   4   1   0   1]\n",
            " [  5 101   3   7   0   3   1   5   0   0   7   3   0   7]\n",
            " [ 17  10  78  15   0   1   5  12   1   1   5   2   5  10]\n",
            " [  7   5  10 118   4   1   1   1   0   0   3   2   0   2]\n",
            " [  0   0   1   0 142   0   0   3   0   0   0   0   0   0]\n",
            " [  0   1   3   0   0 142   0   0   0   0   0   0   0   0]\n",
            " [  2   1   4   0   0   1 132   0   0   0   0   0   8   3]\n",
            " [  6   2  10   6   6   0   3  90   4   1   2   7   0   3]\n",
            " [  0   0   0   0   0   0   0   0 150   0   0   0   0   1]\n",
            " [  2   0   0   0   0   0   2   0   4 135   0   0   0   0]\n",
            " [  1   1   4   1   0   0   2   0   0   0 134   0   0   4]\n",
            " [  0   0   0   2   2   1   0   1   0   0   1 130   3   3]\n",
            " [  0   2   5   1   0   4   7   0   0   0   3   0 146   1]\n",
            " [  1   5   1   6   0   2   6   2   0   0  11   5   2 108]]\n"
          ]
        }
      ],
      "source": [
        "##Model Evaluation on the basis of - Accuracy, Precision, Recall\n",
        "from sklearn.metrics import precision_recall_fscore_support\n",
        "\n",
        "print('\\nAccuracy Score',accuracy_score(y_test,predicted))\n",
        "\n",
        "accuracy_scores.append(accuracy_score(y_test,predicted).round(2))\n",
        "\n",
        "print(\"Classification Report:\\n\",classification_report(y_test, predicted))\n",
        "clf_rep = precision_recall_fscore_support(y_test,predicted)\n",
        "precision_scores.append(clf_rep[0][0].round(2))\n",
        "recall_scores.append(clf_rep[1][0].round(2))\n",
        "f1_scores.append(clf_rep[2][0].round(2))\n",
        "\n",
        "print(\"confusion matrix:\\n\",confusion_matrix(y_test, predicted))\n"
      ]
    },
    {
      "cell_type": "code",
      "execution_count": 210,
      "metadata": {
        "id": "nmFpBkPejHjD"
      },
      "outputs": [],
      "source": [
        "model7 = SVC(kernel='linear',gamma='auto')"
      ]
    },
    {
      "cell_type": "code",
      "execution_count": 211,
      "metadata": {
        "id": "9_VcY8pNjHjD",
        "colab": {
          "base_uri": "https://localhost:8080/"
        },
        "outputId": "5d6b8540-3f4d-4c2a-bb8b-ac5b2683decc"
      },
      "outputs": [
        {
          "output_type": "stream",
          "name": "stdout",
          "text": [
            "\n",
            "Training time: 205.217 s\n",
            "\n"
          ]
        }
      ],
      "source": [
        "#Predicting\n",
        "t0 = time()\n",
        "model7.fit(x, y_train)\n",
        "print(\"\\nTraining time:\", round(time()-t0, 3), \"s\\n\")\n",
        "training_time.append(round(time()-t0, 3))"
      ]
    },
    {
      "cell_type": "code",
      "execution_count": 212,
      "metadata": {
        "id": "ZnHSQf87jHjD",
        "colab": {
          "base_uri": "https://localhost:8080/"
        },
        "outputId": "1a89466f-92ab-4624-9df0-91d5ceb88054"
      },
      "outputs": [
        {
          "output_type": "stream",
          "name": "stdout",
          "text": [
            "Predicting time: 73.893 s\n",
            "\n",
            "\n",
            "Accuracy Score for training data:  0.9636734693877551\n"
          ]
        }
      ],
      "source": [
        "# Predicting\n",
        "t1 = time()\n",
        "predicted = model7.predict(test_x)\n",
        "print(\"Predicting time:\", round(time()-t1, 3), \"s\\n\")\n",
        "predicting_time.append(round(time()-t1, 3))\n",
        "\n",
        "# Predicting train data.\n",
        "train_pred7 = model7.predict(x)\n",
        "print('\\nAccuracy Score for training data: ',accuracy_score(y_train,train_pred1))\n",
        "train_accuracy_scores.append(accuracy_score(y_train,train_pred7))"
      ]
    },
    {
      "cell_type": "code",
      "execution_count": 213,
      "metadata": {
        "id": "Q5PuSx8TjHjE",
        "colab": {
          "base_uri": "https://localhost:8080/"
        },
        "outputId": "7d5623df-c6b2-4794-888c-b51ba3acaa15"
      },
      "outputs": [
        {
          "output_type": "stream",
          "name": "stdout",
          "text": [
            "\n",
            "Accuracy Score 0.8219047619047619\n",
            "Classification Report:\n",
            "               precision    recall  f1-score   support\n",
            "\n",
            "           0       0.69      0.75      0.72       157\n",
            "           1       0.69      0.69      0.69       142\n",
            "           2       0.60      0.58      0.59       162\n",
            "           3       0.79      0.77      0.78       154\n",
            "           4       0.92      0.96      0.94       146\n",
            "           5       0.92      0.97      0.94       146\n",
            "           6       0.86      0.87      0.86       151\n",
            "           7       0.77      0.60      0.67       140\n",
            "           8       0.97      0.99      0.98       151\n",
            "           9       0.95      0.96      0.95       143\n",
            "          10       0.81      0.88      0.84       147\n",
            "          11       0.89      0.92      0.90       143\n",
            "          12       0.92      0.85      0.89       169\n",
            "          13       0.74      0.74      0.74       149\n",
            "\n",
            "    accuracy                           0.82      2100\n",
            "   macro avg       0.82      0.82      0.82      2100\n",
            "weighted avg       0.82      0.82      0.82      2100\n",
            "\n",
            "confusion matrix:\n",
            " [[118   5   6   7   5   3   0   2   0   4   4   1   0   2]\n",
            " [  8  98   4   5   0   2   1   3   0   0   7   3   1  10]\n",
            " [ 16  11  94   9   0   2   3   7   0   1   4   1   4  10]\n",
            " [  8   5  10 119   3   0   2   2   0   0   3   1   0   1]\n",
            " [  0   0   3   0 140   0   0   3   0   0   0   0   0   0]\n",
            " [  1   0   3   0   0 141   0   0   0   0   0   0   0   1]\n",
            " [  3   2   3   0   0   2 131   0   0   0   0   0   6   4]\n",
            " [  9   3  10   6   5   1   3  84   5   2   1   8   1   2]\n",
            " [  0   0   0   0   0   0   0   0 150   0   0   0   0   1]\n",
            " [  2   0   0   0   0   0   0   4   0 137   0   0   0   0]\n",
            " [  1   2   5   0   0   0   5   0   0   0 129   0   0   5]\n",
            " [  2   1   5   0   0   0   0   1   0   0   0 131   0   3]\n",
            " [  0   2  11   1   0   2   4   0   0   0   5   0 144   0]\n",
            " [  3  14   2   4   0   0   4   3   0   0   7   2   0 110]]\n"
          ]
        }
      ],
      "source": [
        "##Model Evaluation on the basis of - Accuracy, Precision, Recall\n",
        "from sklearn.metrics import precision_recall_fscore_support\n",
        "\n",
        "print('\\nAccuracy Score',accuracy_score(y_test,predicted))\n",
        "\n",
        "accuracy_scores.append(accuracy_score(y_test,predicted).round(2))\n",
        "\n",
        "print(\"Classification Report:\\n\",classification_report(y_test, predicted))\n",
        "clf_rep = precision_recall_fscore_support(y_test,predicted)\n",
        "precision_scores.append(clf_rep[0][0].round(2))\n",
        "recall_scores.append(clf_rep[1][0].round(2))\n",
        "f1_scores.append(clf_rep[2][0].round(2))\n",
        "\n",
        "print(\"confusion matrix:\\n\",confusion_matrix(y_test, predicted))\n"
      ]
    },
    {
      "cell_type": "code",
      "execution_count": 214,
      "metadata": {
        "id": "R79_AQw3jHjE"
      },
      "outputs": [],
      "source": [
        "from keras.wrappers.scikit_learn import KerasClassifier\n",
        "\n",
        "# create model\n",
        "def create_model():\n",
        "    model8 = Sequential()\n",
        "    model8.add(Dense(10, input_dim=10000, kernel_initializer='uniform', activation='relu'))\n",
        "    model8.add(Dense(1, kernel_initializer='uniform', activation='sigmoid'))\n",
        "    \n",
        "    adam=Adam(lr=0.01)\n",
        "    model8.compile(loss='binary_crossentropy', optimizer=adam, metrics=['accuracy'])\n",
        "    return model8\n",
        "\n",
        "# Create the model\n",
        "\n",
        "model8 = KerasClassifier(build_fn=create_model,verbose = 0, batch_size = 10, epochs = 50 )"
      ]
    },
    {
      "cell_type": "code",
      "execution_count": 215,
      "metadata": {
        "id": "zBepHDgcjHjE",
        "colab": {
          "base_uri": "https://localhost:8080/"
        },
        "outputId": "2964ff93-d30d-488e-befb-1904cb7be671"
      },
      "outputs": [
        {
          "output_type": "stream",
          "name": "stdout",
          "text": [
            "\n",
            "Training time: 58.939 s\n",
            "\n"
          ]
        }
      ],
      "source": [
        "t0 = time()\n",
        "nn = model8.fit(x, y_train)\n",
        "print(\"\\nTraining time:\", round(time()-t0, 3), \"s\\n\")\n",
        "training_time.append(round(time()-t0, 3))"
      ]
    },
    {
      "cell_type": "code",
      "execution_count": 217,
      "metadata": {
        "id": "ffoEBVIUjHjE",
        "colab": {
          "base_uri": "https://localhost:8080/"
        },
        "outputId": "8ed24e1c-5ae7-4259-8b04-dc6b69cba67e"
      },
      "outputs": [
        {
          "output_type": "stream",
          "name": "stdout",
          "text": [
            "[[1]\n",
            " [1]\n",
            " [1]\n",
            " [1]\n",
            " [1]]\n",
            "\n",
            "Accuracy Score for training data:  0.9636734693877551\n"
          ]
        }
      ],
      "source": [
        "t1 = time()\n",
        "pred = model8.predict(test_x).round(1) \n",
        "predicting_time.append(round(time()-t1, 3))\n",
        "\n",
        "print(pred[0:5]) \n",
        "\n",
        "# Predicting data.\n",
        "train_pred8 = model8.predict(x)\n",
        "print('\\nAccuracy Score for training data: ',accuracy_score(y_train,train_pred1))\n",
        "train_accuracy_scores.append(accuracy_score(y_train,train_pred8))\n"
      ]
    },
    {
      "cell_type": "code",
      "execution_count": 218,
      "metadata": {
        "id": "R_0j1r_2jHjE",
        "colab": {
          "base_uri": "https://localhost:8080/"
        },
        "outputId": "b44f03fe-7bca-47cc-864e-a13c2b959b2e"
      },
      "outputs": [
        {
          "output_type": "stream",
          "name": "stdout",
          "text": [
            "\n",
            "Accuracy Score 0.06761904761904762\n",
            "Classification Report:\n",
            "               precision    recall  f1-score   support\n",
            "\n",
            "           0       0.00      0.00      0.00       157\n",
            "           1       0.07      1.00      0.13       142\n",
            "           2       0.00      0.00      0.00       162\n",
            "           3       0.00      0.00      0.00       154\n",
            "           4       0.00      0.00      0.00       146\n",
            "           5       0.00      0.00      0.00       146\n",
            "           6       0.00      0.00      0.00       151\n",
            "           7       0.00      0.00      0.00       140\n",
            "           8       0.00      0.00      0.00       151\n",
            "           9       0.00      0.00      0.00       143\n",
            "          10       0.00      0.00      0.00       147\n",
            "          11       0.00      0.00      0.00       143\n",
            "          12       0.00      0.00      0.00       169\n",
            "          13       0.00      0.00      0.00       149\n",
            "\n",
            "    accuracy                           0.07      2100\n",
            "   macro avg       0.00      0.07      0.01      2100\n",
            "weighted avg       0.00      0.07      0.01      2100\n",
            "\n",
            "confusion matrix:\n",
            " [[  0 157   0   0   0   0   0   0   0   0   0   0   0   0]\n",
            " [  0 142   0   0   0   0   0   0   0   0   0   0   0   0]\n",
            " [  0 162   0   0   0   0   0   0   0   0   0   0   0   0]\n",
            " [  0 154   0   0   0   0   0   0   0   0   0   0   0   0]\n",
            " [  0 146   0   0   0   0   0   0   0   0   0   0   0   0]\n",
            " [  0 146   0   0   0   0   0   0   0   0   0   0   0   0]\n",
            " [  0 151   0   0   0   0   0   0   0   0   0   0   0   0]\n",
            " [  0 140   0   0   0   0   0   0   0   0   0   0   0   0]\n",
            " [  0 151   0   0   0   0   0   0   0   0   0   0   0   0]\n",
            " [  0 143   0   0   0   0   0   0   0   0   0   0   0   0]\n",
            " [  0 147   0   0   0   0   0   0   0   0   0   0   0   0]\n",
            " [  0 143   0   0   0   0   0   0   0   0   0   0   0   0]\n",
            " [  0 169   0   0   0   0   0   0   0   0   0   0   0   0]\n",
            " [  0 149   0   0   0   0   0   0   0   0   0   0   0   0]]\n"
          ]
        }
      ],
      "source": [
        "##Model Evaluation on the basis of - Accuracy, Precision, Recall\n",
        "from sklearn.metrics import precision_recall_fscore_support\n",
        "\n",
        "print('\\nAccuracy Score',accuracy_score(y_test,pred))\n",
        "\n",
        "accuracy_scores.append(accuracy_score(y_test,pred).round(2))\n",
        "\n",
        "print(\"Classification Report:\\n\",classification_report(y_test, pred))\n",
        "clf_rep = precision_recall_fscore_support(y_test,pred)\n",
        "precision_scores.append(clf_rep[0][0].round(2))\n",
        "recall_scores.append(clf_rep[1][0].round(2))\n",
        "f1_scores.append(clf_rep[2][0].round(2))\n",
        "\n",
        "print(\"confusion matrix:\\n\",confusion_matrix(y_test, pred))\n"
      ]
    },
    {
      "cell_type": "code",
      "execution_count": 219,
      "metadata": {
        "id": "MFZxIXfUjHjE"
      },
      "outputs": [],
      "source": [
        "model4 = RandomForestClassifier(max_depth=2, random_state=0)"
      ]
    },
    {
      "cell_type": "code",
      "execution_count": 220,
      "metadata": {
        "id": "jQ3PI36AjHjE",
        "colab": {
          "base_uri": "https://localhost:8080/"
        },
        "outputId": "57e32b5b-750f-47f5-f9db-88fddcf0f0b0"
      },
      "outputs": [
        {
          "output_type": "stream",
          "name": "stdout",
          "text": [
            "\n",
            "Training time: 1.936 s\n",
            "\n"
          ]
        }
      ],
      "source": [
        "#Predicting\n",
        "t0 = time()\n",
        "model4.fit(x, y_train)\n",
        "print(\"\\nTraining time:\", round(time()-t0, 3), \"s\\n\")\n",
        "training_time.append(round(time()-t0, 3))"
      ]
    },
    {
      "cell_type": "code",
      "execution_count": 221,
      "metadata": {
        "id": "g-vzxGRsjHjE",
        "colab": {
          "base_uri": "https://localhost:8080/"
        },
        "outputId": "7f0167ea-010a-4237-a9e5-98e7f5cec969"
      },
      "outputs": [
        {
          "output_type": "stream",
          "name": "stdout",
          "text": [
            "Predicting time: 0.172 s\n",
            "\n",
            "\n",
            "Accuracy Score for training data:  0.9636734693877551\n"
          ]
        }
      ],
      "source": [
        "# Predicting\n",
        "t1 = time()\n",
        "predicted = model4.predict(test_x)\n",
        "print(\"Predicting time:\", round(time()-t1, 3), \"s\\n\")\n",
        "predicting_time.append(round(time()-t1, 3))\n",
        "\n",
        "# Predicting train data.\n",
        "train_pred4 = model4.predict(x)\n",
        "print('\\nAccuracy Score for training data: ',accuracy_score(y_train,train_pred1))\n",
        "train_accuracy_scores.append(accuracy_score(y_train,train_pred4))"
      ]
    },
    {
      "cell_type": "code",
      "execution_count": 222,
      "metadata": {
        "id": "G5nmXn_PjHjF",
        "colab": {
          "base_uri": "https://localhost:8080/"
        },
        "outputId": "158f66fe-8ec4-4870-e9c2-114f70f93f48"
      },
      "outputs": [
        {
          "output_type": "stream",
          "name": "stdout",
          "text": [
            "\n",
            "Accuracy Score 0.4176190476190476\n",
            "Classification Report:\n",
            "               precision    recall  f1-score   support\n",
            "\n",
            "           0       0.53      0.12      0.20       157\n",
            "           1       0.21      0.40      0.27       142\n",
            "           2       1.00      0.01      0.02       162\n",
            "           3       0.71      0.08      0.14       154\n",
            "           4       0.40      0.76      0.52       146\n",
            "           5       0.61      0.36      0.45       146\n",
            "           6       0.40      0.76      0.53       151\n",
            "           7       0.24      0.34      0.28       140\n",
            "           8       0.58      0.60      0.59       151\n",
            "           9       0.61      0.87      0.72       143\n",
            "          10       0.39      0.55      0.46       147\n",
            "          11       0.45      0.58      0.51       143\n",
            "          12       0.78      0.23      0.36       169\n",
            "          13       0.37      0.28      0.32       149\n",
            "\n",
            "    accuracy                           0.42      2100\n",
            "   macro avg       0.52      0.43      0.38      2100\n",
            "weighted avg       0.53      0.42      0.38      2100\n",
            "\n",
            "confusion matrix:\n",
            " [[ 19  19   0   1  18   3   4  21  17  32  13   8   1   1]\n",
            " [  2  57   0   1   6   6  16  11   3   2  12  11   0  15]\n",
            " [  6  14   2   2  21   4  21  22  13   8  25  16   2   6]\n",
            " [  2  25   0  12  51   0   4  14   3   6  13  10   1  13]\n",
            " [  1   4   0   0 111   0   5  10  10   3   1   1   0   0]\n",
            " [  4  25   0   0   4  52  28   6   0   4   3  13   3   4]\n",
            " [  0   9   0   0   4   4 115   4   0   0   3   2   2   8]\n",
            " [  0  11   0   0  33   1   5  48  12  10   1  14   1   4]\n",
            " [  0  10   0   0  12   0   0  25  91   6   0   3   0   4]\n",
            " [  1  13   0   0   2   0   0   2   0 125   0   0   0   0]\n",
            " [  0  23   0   0   1   2  12  10   4   2  81   5   0   7]\n",
            " [  0  27   0   0   6   8   3   3   2   1   9  83   1   0]\n",
            " [  1  12   0   0   8   2  67  10   1   1  12   5  39  11]\n",
            " [  0  27   0   1   4   3   7  12   1   4  34  14   0  42]]\n"
          ]
        }
      ],
      "source": [
        "##Model Evaluation on the basis of - Accuracy, Precision, Recall\n",
        "from sklearn.metrics import precision_recall_fscore_support\n",
        "\n",
        "print('\\nAccuracy Score',accuracy_score(y_test,predicted))\n",
        "\n",
        "accuracy_scores.append(accuracy_score(y_test,predicted).round(2))\n",
        "\n",
        "print(\"Classification Report:\\n\",classification_report(y_test, predicted))\n",
        "clf_rep = precision_recall_fscore_support(y_test,predicted)\n",
        "precision_scores.append(clf_rep[0][0].round(2))\n",
        "recall_scores.append(clf_rep[1][0].round(2))\n",
        "f1_scores.append(clf_rep[2][0].round(2))\n",
        "\n",
        "print(\"confusion matrix:\\n\",confusion_matrix(y_test, predicted))\n"
      ]
    },
    {
      "cell_type": "code",
      "execution_count": 227,
      "metadata": {
        "id": "nSQpC0QcjHjF"
      },
      "outputs": [],
      "source": [
        "model_name = ['Multinomial Bayes','Gaussian Bayes','Decision Tree','RandomForest','KNN','Logistic Regression','SVM','Neural Network']"
      ]
    },
    {
      "cell_type": "code",
      "source": [
        "performance_table"
      ],
      "metadata": {
        "colab": {
          "base_uri": "https://localhost:8080/",
          "height": 300
        },
        "id": "yYu-9MBY_nbo",
        "outputId": "e9bfb569-ddf3-4ec2-8fd3-98a6e776a719"
      },
      "execution_count": 257,
      "outputs": [
        {
          "output_type": "execute_result",
          "data": {
            "text/html": [
              "\n",
              "  <div id=\"df-5575688f-8dec-4ccd-8852-54f37548c362\">\n",
              "    <div class=\"colab-df-container\">\n",
              "      <div>\n",
              "<style scoped>\n",
              "    .dataframe tbody tr th:only-of-type {\n",
              "        vertical-align: middle;\n",
              "    }\n",
              "\n",
              "    .dataframe tbody tr th {\n",
              "        vertical-align: top;\n",
              "    }\n",
              "\n",
              "    .dataframe thead th {\n",
              "        text-align: right;\n",
              "    }\n",
              "</style>\n",
              "<table border=\"1\" class=\"dataframe\">\n",
              "  <thead>\n",
              "    <tr style=\"text-align: right;\">\n",
              "      <th></th>\n",
              "      <th>Model_name</th>\n",
              "      <th>Training time</th>\n",
              "      <th>Prediction time</th>\n",
              "      <th>Test Accuracy</th>\n",
              "      <th>Train Accuracy</th>\n",
              "      <th>Precision</th>\n",
              "      <th>Recall</th>\n",
              "      <th>F1-scores</th>\n",
              "    </tr>\n",
              "  </thead>\n",
              "  <tbody>\n",
              "    <tr>\n",
              "      <th>0</th>\n",
              "      <td>Multinomial Bayes</td>\n",
              "      <td>12.069</td>\n",
              "      <td>0.097</td>\n",
              "      <td>0.83</td>\n",
              "      <td>0.963571</td>\n",
              "      <td>0.75</td>\n",
              "      <td>0.71</td>\n",
              "      <td>0.73</td>\n",
              "    </tr>\n",
              "    <tr>\n",
              "      <th>5</th>\n",
              "      <td>Logistic Regression</td>\n",
              "      <td>206.655</td>\n",
              "      <td>49.789</td>\n",
              "      <td>0.84</td>\n",
              "      <td>1.000000</td>\n",
              "      <td>0.66</td>\n",
              "      <td>0.80</td>\n",
              "      <td>0.72</td>\n",
              "    </tr>\n",
              "    <tr>\n",
              "      <th>4</th>\n",
              "      <td>KNN</td>\n",
              "      <td>59.210</td>\n",
              "      <td>0.121</td>\n",
              "      <td>0.83</td>\n",
              "      <td>1.000000</td>\n",
              "      <td>0.67</td>\n",
              "      <td>0.74</td>\n",
              "      <td>0.71</td>\n",
              "    </tr>\n",
              "    <tr>\n",
              "      <th>1</th>\n",
              "      <td>Gaussian Bayes</td>\n",
              "      <td>0.909</td>\n",
              "      <td>1.355</td>\n",
              "      <td>0.78</td>\n",
              "      <td>0.994643</td>\n",
              "      <td>0.78</td>\n",
              "      <td>0.52</td>\n",
              "      <td>0.62</td>\n",
              "    </tr>\n",
              "    <tr>\n",
              "      <th>2</th>\n",
              "      <td>Decision Tree</td>\n",
              "      <td>10.939</td>\n",
              "      <td>0.041</td>\n",
              "      <td>0.73</td>\n",
              "      <td>1.000000</td>\n",
              "      <td>0.46</td>\n",
              "      <td>0.50</td>\n",
              "      <td>0.48</td>\n",
              "    </tr>\n",
              "    <tr>\n",
              "      <th>7</th>\n",
              "      <td>Neural Network</td>\n",
              "      <td>1.443</td>\n",
              "      <td>0.076</td>\n",
              "      <td>0.46</td>\n",
              "      <td>0.471786</td>\n",
              "      <td>0.38</td>\n",
              "      <td>0.35</td>\n",
              "      <td>0.36</td>\n",
              "    </tr>\n",
              "    <tr>\n",
              "      <th>3</th>\n",
              "      <td>RandomForest</td>\n",
              "      <td>0.007</td>\n",
              "      <td>5.097</td>\n",
              "      <td>0.38</td>\n",
              "      <td>0.547857</td>\n",
              "      <td>0.11</td>\n",
              "      <td>0.91</td>\n",
              "      <td>0.20</td>\n",
              "    </tr>\n",
              "    <tr>\n",
              "      <th>6</th>\n",
              "      <td>SVM</td>\n",
              "      <td>82.861</td>\n",
              "      <td>0.235</td>\n",
              "      <td>0.07</td>\n",
              "      <td>0.071071</td>\n",
              "      <td>0.00</td>\n",
              "      <td>0.00</td>\n",
              "      <td>0.00</td>\n",
              "    </tr>\n",
              "  </tbody>\n",
              "</table>\n",
              "</div>\n",
              "      <button class=\"colab-df-convert\" onclick=\"convertToInteractive('df-5575688f-8dec-4ccd-8852-54f37548c362')\"\n",
              "              title=\"Convert this dataframe to an interactive table.\"\n",
              "              style=\"display:none;\">\n",
              "        \n",
              "  <svg xmlns=\"http://www.w3.org/2000/svg\" height=\"24px\"viewBox=\"0 0 24 24\"\n",
              "       width=\"24px\">\n",
              "    <path d=\"M0 0h24v24H0V0z\" fill=\"none\"/>\n",
              "    <path d=\"M18.56 5.44l.94 2.06.94-2.06 2.06-.94-2.06-.94-.94-2.06-.94 2.06-2.06.94zm-11 1L8.5 8.5l.94-2.06 2.06-.94-2.06-.94L8.5 2.5l-.94 2.06-2.06.94zm10 10l.94 2.06.94-2.06 2.06-.94-2.06-.94-.94-2.06-.94 2.06-2.06.94z\"/><path d=\"M17.41 7.96l-1.37-1.37c-.4-.4-.92-.59-1.43-.59-.52 0-1.04.2-1.43.59L10.3 9.45l-7.72 7.72c-.78.78-.78 2.05 0 2.83L4 21.41c.39.39.9.59 1.41.59.51 0 1.02-.2 1.41-.59l7.78-7.78 2.81-2.81c.8-.78.8-2.07 0-2.86zM5.41 20L4 18.59l7.72-7.72 1.47 1.35L5.41 20z\"/>\n",
              "  </svg>\n",
              "      </button>\n",
              "      \n",
              "  <style>\n",
              "    .colab-df-container {\n",
              "      display:flex;\n",
              "      flex-wrap:wrap;\n",
              "      gap: 12px;\n",
              "    }\n",
              "\n",
              "    .colab-df-convert {\n",
              "      background-color: #E8F0FE;\n",
              "      border: none;\n",
              "      border-radius: 50%;\n",
              "      cursor: pointer;\n",
              "      display: none;\n",
              "      fill: #1967D2;\n",
              "      height: 32px;\n",
              "      padding: 0 0 0 0;\n",
              "      width: 32px;\n",
              "    }\n",
              "\n",
              "    .colab-df-convert:hover {\n",
              "      background-color: #E2EBFA;\n",
              "      box-shadow: 0px 1px 2px rgba(60, 64, 67, 0.3), 0px 1px 3px 1px rgba(60, 64, 67, 0.15);\n",
              "      fill: #174EA6;\n",
              "    }\n",
              "\n",
              "    [theme=dark] .colab-df-convert {\n",
              "      background-color: #3B4455;\n",
              "      fill: #D2E3FC;\n",
              "    }\n",
              "\n",
              "    [theme=dark] .colab-df-convert:hover {\n",
              "      background-color: #434B5C;\n",
              "      box-shadow: 0px 1px 3px 1px rgba(0, 0, 0, 0.15);\n",
              "      filter: drop-shadow(0px 1px 2px rgba(0, 0, 0, 0.3));\n",
              "      fill: #FFFFFF;\n",
              "    }\n",
              "  </style>\n",
              "\n",
              "      <script>\n",
              "        const buttonEl =\n",
              "          document.querySelector('#df-5575688f-8dec-4ccd-8852-54f37548c362 button.colab-df-convert');\n",
              "        buttonEl.style.display =\n",
              "          google.colab.kernel.accessAllowed ? 'block' : 'none';\n",
              "\n",
              "        async function convertToInteractive(key) {\n",
              "          const element = document.querySelector('#df-5575688f-8dec-4ccd-8852-54f37548c362');\n",
              "          const dataTable =\n",
              "            await google.colab.kernel.invokeFunction('convertToInteractive',\n",
              "                                                     [key], {});\n",
              "          if (!dataTable) return;\n",
              "\n",
              "          const docLinkHtml = 'Like what you see? Visit the ' +\n",
              "            '<a target=\"_blank\" href=https://colab.research.google.com/notebooks/data_table.ipynb>data table notebook</a>'\n",
              "            + ' to learn more about interactive tables.';\n",
              "          element.innerHTML = '';\n",
              "          dataTable['output_type'] = 'display_data';\n",
              "          await google.colab.output.renderOutput(dataTable, element);\n",
              "          const docLink = document.createElement('div');\n",
              "          docLink.innerHTML = docLinkHtml;\n",
              "          element.appendChild(docLink);\n",
              "        }\n",
              "      </script>\n",
              "    </div>\n",
              "  </div>\n",
              "  "
            ],
            "text/plain": [
              "            Model_name  Training time  ...  Recall  F1-scores\n",
              "0    Multinomial Bayes         12.069  ...    0.71       0.73\n",
              "5  Logistic Regression        206.655  ...    0.80       0.72\n",
              "4                  KNN         59.210  ...    0.74       0.71\n",
              "1       Gaussian Bayes          0.909  ...    0.52       0.62\n",
              "2        Decision Tree         10.939  ...    0.50       0.48\n",
              "7       Neural Network          1.443  ...    0.35       0.36\n",
              "3         RandomForest          0.007  ...    0.91       0.20\n",
              "6                  SVM         82.861  ...    0.00       0.00\n",
              "\n",
              "[8 rows x 8 columns]"
            ]
          },
          "metadata": {},
          "execution_count": 257
        }
      ]
    },
    {
      "cell_type": "code",
      "source": [
        "performance_table.plot(x=\"Model_name\", y=\"Test Accuracy\", kind=\"bar\")"
      ],
      "metadata": {
        "colab": {
          "base_uri": "https://localhost:8080/",
          "height": 384
        },
        "id": "GheyKn2Q_Ijx",
        "outputId": "421f3636-87cd-4515-a9a9-b25030228d2e"
      },
      "execution_count": 259,
      "outputs": [
        {
          "output_type": "execute_result",
          "data": {
            "text/plain": [
              "<matplotlib.axes._subplots.AxesSubplot at 0x7fea9ecc8650>"
            ]
          },
          "metadata": {},
          "execution_count": 259
        },
        {
          "output_type": "display_data",
          "data": {
            "image/png": "[encoded data removed]",
            "text/plain": [
              "<Figure size 432x288 with 1 Axes>"
            ]
          },
          "metadata": {
            "needs_background": "light"
          }
        }
      ]
    },
    {
      "cell_type": "code",
      "source": [
        "performance_table.plot(x=\"Model_name\", y=\"Precision\", kind=\"pie\")"
      ],
      "metadata": {
        "colab": {
          "base_uri": "https://localhost:8080/",
          "height": 266
        },
        "id": "zklpQ62h_2xx",
        "outputId": "fc4e1bd7-8743-4190-ee8e-b9c927493b85"
      },
      "execution_count": 266,
      "outputs": [
        {
          "output_type": "execute_result",
          "data": {
            "text/plain": [
              "<matplotlib.axes._subplots.AxesSubplot at 0x7fea9ea5b250>"
            ]
          },
          "metadata": {},
          "execution_count": 266
        },
        {
          "output_type": "display_data",
          "data": {
            "image/png": "[encoded data removed]",
            "text/plain": [
              "<Figure size 432x288 with 1 Axes>"
            ]
          },
          "metadata": {}
        }
      ]
    },
    {
      "cell_type": "code",
      "execution_count": 265,
      "metadata": {
        "id": "jGWJlkjCjHjF",
        "colab": {
          "base_uri": "https://localhost:8080/",
          "height": 384
        },
        "outputId": "2888f4e5-3427-4c51-94d1-b11269c7cf0f"
      },
      "outputs": [
        {
          "output_type": "execute_result",
          "data": {
            "text/plain": [
              "<matplotlib.axes._subplots.AxesSubplot at 0x7fea9eda84d0>"
            ]
          },
          "metadata": {},
          "execution_count": 265
        },
        {
          "output_type": "display_data",
          "data": {
            "image/png": "[encoded data removed]",
            "text/plain": [
              "<Figure size 432x288 with 1 Axes>"
            ]
          },
          "metadata": {
            "needs_background": "light"
          }
        }
      ],
      "source": [
        "\tperformance_table.plot(x=\"Model_name\", y=\"Prediction time\", kind=\"bar\")"
      ]
    },
    {
      "cell_type": "markdown",
      "metadata": {
        "id": "C4uaKhhPjHjF"
      },
      "source": [
        "##Predicting Model"
      ]
    },
    {
      "cell_type": "code",
      "execution_count": 233,
      "metadata": {
        "id": "sm_jkZgVjHjF"
      },
      "outputs": [],
      "source": [
        "rec = [\"Being a teenager is both wonderful and challenging. In The 7 Habits of Highly Effective Teens, author Sean Covey applies the timeless principles of the 7 Habits to teens and the tough issues and life-changing decisions they face. In an entertaining style, Covey provides a step-by-step guide to help teens improve self-image, build friendships, resist peer pressure, achieve their goals, get along with their parents, and much more. In addition, this book is stuffed with cartoons, clever ideas, great quotes, and incredible stories about real teens from all over the world. The 7 Habits of Highly Effective Teens will engage teenagers unlike any other book.An indispensable book for teens, as well as parents, grandparents, and any adult who influences young people, The 7 Habits of Highly Effective Teens is destined to become the last word on surviving and thriving as a teen and beyond.\"]"
      ]
    },
    {
      "cell_type": "code",
      "execution_count": 234,
      "metadata": {
        "id": "i_mUzQzyjHjF"
      },
      "outputs": [],
      "source": [
        "t = cv.transform(rec).toarray()"
      ]
    },
    {
      "cell_type": "code",
      "execution_count": 235,
      "metadata": {
        "id": "Z2v9r40ZjHjF"
      },
      "outputs": [],
      "source": [
        "pr = le.inverse_transform(model1.predict(t))\n"
      ]
    },
    {
      "cell_type": "code",
      "execution_count": 236,
      "metadata": {
        "id": "h2w0-e6rjHjF",
        "colab": {
          "base_uri": "https://localhost:8080/",
          "height": 35
        },
        "outputId": "9e75afde-e528-4075-b2c5-731a84eb8f77"
      },
      "outputs": [
        {
          "output_type": "execute_result",
          "data": {
            "application/vnd.google.colaboratory.intrinsic+json": {
              "type": "string"
            },
            "text/plain": [
              "'Nonfiction'"
            ]
          },
          "metadata": {},
          "execution_count": 236
        }
      ],
      "source": [
        "pr[0]"
      ]
    },
    {
      "cell_type": "markdown",
      "metadata": {
        "id": "s57Kn-YojHjG"
      },
      "source": [
        "## Predicting Recommendation"
      ]
    },
    {
      "cell_type": "code",
      "execution_count": 237,
      "metadata": {
        "id": "QpYAIqd1jHjG"
      },
      "outputs": [],
      "source": [
        "def recommend(genre):\n",
        "    recommended_books = df[df['genre'] == genre].sort_values(by = 'average_rating',ascending = False).head()\n",
        "    print(recommended_books.title)\n",
        "        \n",
        "    return\n",
        "    "
      ]
    },
    {
      "cell_type": "code",
      "execution_count": 239,
      "metadata": {
        "id": "xeI9_z5ajHjG",
        "colab": {
          "base_uri": "https://localhost:8080/"
        },
        "outputId": "62b2e368-aa70-488d-d212-bbcdfae0ae83"
      },
      "outputs": [
        {
          "output_type": "stream",
          "name": "stdout",
          "text": [
            "209                               The Addiction Manifesto\n",
            "4720                                           Into Exile\n",
            "4996    THE BOOK THAT HAPPENED – Is Reality but Sheer ...\n",
            "5123                                Annihilation of Caste\n",
            "3492                                 To Selena, With Love\n",
            "Name: title, dtype: object\n"
          ]
        }
      ],
      "source": [
        "recommend('Nonfiction')"
      ]
    },
    {
      "cell_type": "markdown",
      "metadata": {
        "id": "5_B1nG73jHjG"
      },
      "source": [
        "## Exporting PKL files"
      ]
    },
    {
      "cell_type": "code",
      "execution_count": 240,
      "metadata": {
        "id": "UsucrxC0jHjG"
      },
      "outputs": [],
      "source": [
        "import pickle\n",
        "\n",
        "pickle.dump(model1,open('bookmodel.pkl','wb'))\n",
        "pickle.dump(df,open('books.pkl','wb'))\n",
        "pickle.dump(cv,open('CountVectorizer.pkl','wb'))"
      ]
    },
    {
      "cell_type": "markdown",
      "metadata": {
        "id": "vosHCCMfjHjG"
      },
      "source": [
        "## Instruction for app.py"
      ]
    },
    {
      "cell_type": "code",
      "execution_count": 241,
      "metadata": {
        "id": "3shWhvySjHjG",
        "colab": {
          "base_uri": "https://localhost:8080/"
        },
        "outputId": "9eedfaf5-6c06-40c7-ba66-e6fc4f85a788"
      },
      "outputs": [
        {
          "output_type": "execute_result",
          "data": {
            "text/plain": [
              "['andi dufresn a banker wa convict of kill hi wife and her lover and sent to shawshank prison he maintain hi innoc over the decad he spend at shawshank dure which time he form a friendship with red a fellow inmat sourc stephenk com']"
            ]
          },
          "metadata": {},
          "execution_count": 241
        }
      ],
      "source": [
        "rec = [clean_summary('Andy Dufresne, a banker, was convicted of killing his wife and her lover and sent to Shawshank Prison. He maintains his innocence over the decades he spends at Shawshank during which time he forms a friendship with \"Red\", a fellow inmate.Source: stephenking.com')]\n",
        "rec\n",
        "\n"
      ]
    },
    {
      "cell_type": "code",
      "execution_count": 242,
      "metadata": {
        "id": "BB0MptoIjHjG"
      },
      "outputs": [],
      "source": [
        "tags= pd.DataFrame({'tags': rec})\n",
        "df_tags = df[['tags']]\n"
      ]
    },
    {
      "cell_type": "code",
      "execution_count": 243,
      "metadata": {
        "id": "7dgDG5sTjHjG"
      },
      "outputs": [],
      "source": [
        "tags = tags.append(df_tags,ignore_index=True)\n"
      ]
    },
    {
      "cell_type": "code",
      "execution_count": 244,
      "metadata": {
        "id": "QiCyAd1wjHjH",
        "colab": {
          "base_uri": "https://localhost:8080/",
          "height": 424
        },
        "outputId": "232cf0a3-ed50-4420-e129-437164cf40be"
      },
      "outputs": [
        {
          "output_type": "execute_result",
          "data": {
            "text/html": [
              "\n",
              "  <div id=\"df-13357594-3fc1-4254-9714-40266b4cb1a7\">\n",
              "    <div class=\"colab-df-container\">\n",
              "      <div>\n",
              "<style scoped>\n",
              "    .dataframe tbody tr th:only-of-type {\n",
              "        vertical-align: middle;\n",
              "    }\n",
              "\n",
              "    .dataframe tbody tr th {\n",
              "        vertical-align: top;\n",
              "    }\n",
              "\n",
              "    .dataframe thead th {\n",
              "        text-align: right;\n",
              "    }\n",
              "</style>\n",
              "<table border=\"1\" class=\"dataframe\">\n",
              "  <thead>\n",
              "    <tr style=\"text-align: right;\">\n",
              "      <th></th>\n",
              "      <th>tags</th>\n",
              "    </tr>\n",
              "  </thead>\n",
              "  <tbody>\n",
              "    <tr>\n",
              "      <th>0</th>\n",
              "      <td>andi dufresn a banker wa convict of kill hi wi...</td>\n",
              "    </tr>\n",
              "    <tr>\n",
              "      <th>1</th>\n",
              "      <td>harperle to kill a mockingbird the unforgett n...</td>\n",
              "    </tr>\n",
              "    <tr>\n",
              "      <th>2</th>\n",
              "      <td>j k rowl harri potter and the sorcer s stone h...</td>\n",
              "    </tr>\n",
              "    <tr>\n",
              "      <th>3</th>\n",
              "      <td>janeausten pride and prejudic altern cover edi...</td>\n",
              "    </tr>\n",
              "    <tr>\n",
              "      <th>4</th>\n",
              "      <td>annefrank the diari of a young girl discov in ...</td>\n",
              "    </tr>\n",
              "    <tr>\n",
              "      <th>...</th>\n",
              "      <td>...</td>\n",
              "    </tr>\n",
              "    <tr>\n",
              "      <th>4358</th>\n",
              "      <td>katedouglaswiggin rebecca of sunnybrook farm f...</td>\n",
              "    </tr>\n",
              "    <tr>\n",
              "      <th>4359</th>\n",
              "      <td>georger r martin fevr dream when struggl river...</td>\n",
              "    </tr>\n",
              "    <tr>\n",
              "      <th>4360</th>\n",
              "      <td>molièr le bourgeoi gentilhomm le bourgeoi gent...</td>\n",
              "    </tr>\n",
              "    <tr>\n",
              "      <th>4361</th>\n",
              "      <td>laurenk fallen in love and in a twist of fate ...</td>\n",
              "    </tr>\n",
              "    <tr>\n",
              "      <th>4362</th>\n",
              "      <td>johntayman the coloni the harrow true stori of...</td>\n",
              "    </tr>\n",
              "  </tbody>\n",
              "</table>\n",
              "<p>4363 rows × 1 columns</p>\n",
              "</div>\n",
              "      <button class=\"colab-df-convert\" onclick=\"convertToInteractive('df-13357594-3fc1-4254-9714-40266b4cb1a7')\"\n",
              "              title=\"Convert this dataframe to an interactive table.\"\n",
              "              style=\"display:none;\">\n",
              "        \n",
              "  <svg xmlns=\"http://www.w3.org/2000/svg\" height=\"24px\"viewBox=\"0 0 24 24\"\n",
              "       width=\"24px\">\n",
              "    <path d=\"M0 0h24v24H0V0z\" fill=\"none\"/>\n",
              "    <path d=\"M18.56 5.44l.94 2.06.94-2.06 2.06-.94-2.06-.94-.94-2.06-.94 2.06-2.06.94zm-11 1L8.5 8.5l.94-2.06 2.06-.94-2.06-.94L8.5 2.5l-.94 2.06-2.06.94zm10 10l.94 2.06.94-2.06 2.06-.94-2.06-.94-.94-2.06-.94 2.06-2.06.94z\"/><path d=\"M17.41 7.96l-1.37-1.37c-.4-.4-.92-.59-1.43-.59-.52 0-1.04.2-1.43.59L10.3 9.45l-7.72 7.72c-.78.78-.78 2.05 0 2.83L4 21.41c.39.39.9.59 1.41.59.51 0 1.02-.2 1.41-.59l7.78-7.78 2.81-2.81c.8-.78.8-2.07 0-2.86zM5.41 20L4 18.59l7.72-7.72 1.47 1.35L5.41 20z\"/>\n",
              "  </svg>\n",
              "      </button>\n",
              "      \n",
              "  <style>\n",
              "    .colab-df-container {\n",
              "      display:flex;\n",
              "      flex-wrap:wrap;\n",
              "      gap: 12px;\n",
              "    }\n",
              "\n",
              "    .colab-df-convert {\n",
              "      background-color: #E8F0FE;\n",
              "      border: none;\n",
              "      border-radius: 50%;\n",
              "      cursor: pointer;\n",
              "      display: none;\n",
              "      fill: #1967D2;\n",
              "      height: 32px;\n",
              "      padding: 0 0 0 0;\n",
              "      width: 32px;\n",
              "    }\n",
              "\n",
              "    .colab-df-convert:hover {\n",
              "      background-color: #E2EBFA;\n",
              "      box-shadow: 0px 1px 2px rgba(60, 64, 67, 0.3), 0px 1px 3px 1px rgba(60, 64, 67, 0.15);\n",
              "      fill: #174EA6;\n",
              "    }\n",
              "\n",
              "    [theme=dark] .colab-df-convert {\n",
              "      background-color: #3B4455;\n",
              "      fill: #D2E3FC;\n",
              "    }\n",
              "\n",
              "    [theme=dark] .colab-df-convert:hover {\n",
              "      background-color: #434B5C;\n",
              "      box-shadow: 0px 1px 3px 1px rgba(0, 0, 0, 0.15);\n",
              "      filter: drop-shadow(0px 1px 2px rgba(0, 0, 0, 0.3));\n",
              "      fill: #FFFFFF;\n",
              "    }\n",
              "  </style>\n",
              "\n",
              "      <script>\n",
              "        const buttonEl =\n",
              "          document.querySelector('#df-13357594-3fc1-4254-9714-40266b4cb1a7 button.colab-df-convert');\n",
              "        buttonEl.style.display =\n",
              "          google.colab.kernel.accessAllowed ? 'block' : 'none';\n",
              "\n",
              "        async function convertToInteractive(key) {\n",
              "          const element = document.querySelector('#df-13357594-3fc1-4254-9714-40266b4cb1a7');\n",
              "          const dataTable =\n",
              "            await google.colab.kernel.invokeFunction('convertToInteractive',\n",
              "                                                     [key], {});\n",
              "          if (!dataTable) return;\n",
              "\n",
              "          const docLinkHtml = 'Like what you see? Visit the ' +\n",
              "            '<a target=\"_blank\" href=https://colab.research.google.com/notebooks/data_table.ipynb>data table notebook</a>'\n",
              "            + ' to learn more about interactive tables.';\n",
              "          element.innerHTML = '';\n",
              "          dataTable['output_type'] = 'display_data';\n",
              "          await google.colab.output.renderOutput(dataTable, element);\n",
              "          const docLink = document.createElement('div');\n",
              "          docLink.innerHTML = docLinkHtml;\n",
              "          element.appendChild(docLink);\n",
              "        }\n",
              "      </script>\n",
              "    </div>\n",
              "  </div>\n",
              "  "
            ],
            "text/plain": [
              "                                                   tags\n",
              "0     andi dufresn a banker wa convict of kill hi wi...\n",
              "1     harperle to kill a mockingbird the unforgett n...\n",
              "2     j k rowl harri potter and the sorcer s stone h...\n",
              "3     janeausten pride and prejudic altern cover edi...\n",
              "4     annefrank the diari of a young girl discov in ...\n",
              "...                                                 ...\n",
              "4358  katedouglaswiggin rebecca of sunnybrook farm f...\n",
              "4359  georger r martin fevr dream when struggl river...\n",
              "4360  molièr le bourgeoi gentilhomm le bourgeoi gent...\n",
              "4361  laurenk fallen in love and in a twist of fate ...\n",
              "4362  johntayman the coloni the harrow true stori of...\n",
              "\n",
              "[4363 rows x 1 columns]"
            ]
          },
          "metadata": {},
          "execution_count": 244
        }
      ],
      "source": [
        "tags"
      ]
    },
    {
      "cell_type": "code",
      "execution_count": 245,
      "metadata": {
        "id": "a2mBUjI7jHjH",
        "colab": {
          "base_uri": "https://localhost:8080/"
        },
        "outputId": "d5ae640a-d9e2-4865-c75a-3abd4e41c1d3"
      },
      "outputs": [
        {
          "output_type": "execute_result",
          "data": {
            "text/plain": [
              "array([[0, 0, 0, ..., 0, 0, 0],\n",
              "       [0, 0, 0, ..., 0, 0, 0],\n",
              "       [0, 0, 0, ..., 0, 0, 0],\n",
              "       ...,\n",
              "       [0, 0, 0, ..., 0, 0, 0],\n",
              "       [0, 0, 0, ..., 0, 0, 0],\n",
              "       [0, 0, 0, ..., 0, 0, 0]])"
            ]
          },
          "metadata": {},
          "execution_count": 245
        }
      ],
      "source": [
        "tags_test_cv = cv.fit_transform(tags['tags']).toarray()\n",
        "tags_test_cv\n"
      ]
    },
    {
      "cell_type": "code",
      "execution_count": 246,
      "metadata": {
        "id": "2c59DzAUjHjH"
      },
      "outputs": [],
      "source": [
        "from sklearn.metrics.pairwise import cosine_similarity\n",
        "\n",
        "similarity_tags = cosine_similarity(tags_test_cv)\n"
      ]
    },
    {
      "cell_type": "code",
      "execution_count": 248,
      "metadata": {
        "id": "y4PmIbPDjHjH",
        "colab": {
          "base_uri": "https://localhost:8080/"
        },
        "outputId": "c3b4e915-3fdd-4acf-9f2a-6d0d2a9e64a1"
      },
      "outputs": [
        {
          "output_type": "execute_result",
          "data": {
            "text/plain": [
              "array([1.        , 0.10830607, 0.20911862, ..., 0.        , 0.03745029,\n",
              "       0.01349996])"
            ]
          },
          "metadata": {},
          "execution_count": 248
        }
      ],
      "source": [
        "similarity_tags[0]"
      ]
    },
    {
      "cell_type": "code",
      "execution_count": 249,
      "metadata": {
        "id": "KCPzCqDYjHjH"
      },
      "outputs": [],
      "source": [
        "recommended_sorted_list = sorted(list(enumerate(similarity_tags[0])),reverse= True,key= lambda x:x[1])[1:6]\n",
        "recommended_sorted_list\n",
        "recommended_books = []\n",
        "recommended_book_posters = []\n",
        "for i in recommended_sorted_list:\n",
        "    recommended_books.append(df.iloc[i[0]].title)\n",
        "    recommended_book_posters.append(df.iloc[i[0]].image_url)\n"
      ]
    },
    {
      "cell_type": "code",
      "execution_count": 250,
      "metadata": {
        "id": "BWlq4qMgjHjH",
        "colab": {
          "base_uri": "https://localhost:8080/"
        },
        "outputId": "071b6788-78fd-45ce-fd37-f0d45e4f9cf4"
      },
      "outputs": [
        {
          "output_type": "execute_result",
          "data": {
            "text/plain": [
              "['Crucial Lessons',\n",
              " 'Among the Hidden',\n",
              " 'The Summons',\n",
              " 'Death & the Zombie Apocalypse',\n",
              " 'The Goose Girl']"
            ]
          },
          "metadata": {},
          "execution_count": 250
        }
      ],
      "source": [
        "recommended_books"
      ]
    }
  ],
  "metadata": {
    "interpreter": {
      "hash": "dca0ade3e726a953b501b15e8e990130d2b7799f14cfd9f4271676035ebe5511"
    },
    "kernelspec": {
      "display_name": "Python 3",
      "language": "python",
      "name": "python3"
    },
    "language_info": {
      "codemirror_mode": {
        "name": "ipython",
        "version": 3
      },
      "file_extension": ".py",
      "mimetype": "text/x-python",
      "name": "python",
      "nbconvert_exporter": "python",
      "pygments_lexer": "ipython3",
      "version": "3.8.8"
    },
    "colab": {
      "name": "P79_Group # 3_Books_Recommendation_System.ipynb",
      "provenance": [],
      "collapsed_sections": []
    }
  },
  "nbformat": 4,
  "nbformat_minor": 0
}