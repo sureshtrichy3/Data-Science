{
 "cells": [
  {
   "cell_type": "code",
   "execution_count": 1,
   "metadata": {},
   "outputs": [],
   "source": [
    "from scipy import stats\n",
    "import pandas as pd\n",
    "import numpy as np\n"
   ]
  },
  {
   "cell_type": "code",
   "execution_count": 2,
   "metadata": {},
   "outputs": [],
   "source": [
    "glaxo_df=pd.read_csv('E:\\Big Data\\Data Set\\glaxo_df.csv')\n"
   ]
  },
  {
   "cell_type": "code",
   "execution_count": 3,
   "metadata": {},
   "outputs": [
    {
     "name": "stdout",
     "output_type": "stream",
     "text": [
      "Gain at 95% confidence interval is: [-0.0258  0.0266]\n"
     ]
    }
   ],
   "source": [
    "glaxo_df_ci = stats.norm.interval(0.95,\n",
    "loc = glaxo_df.gain.mean(),\n",
    "scale = glaxo_df.gain.std())\n",
    "print( 'Gain at 95% confidence interval is:', np.round(glaxo_df_ci, 4))"
   ]
  },
  {
   "cell_type": "code",
   "execution_count": 11,
   "metadata": {},
   "outputs": [
    {
     "name": "stdout",
     "output_type": "stream",
     "text": [
      "Gain at 95% confidence interval is :             Date      Date.1    Close    gain\n",
      "0     2010-01-05  2010-01-05  1134.60 -0.0009\n",
      "1     2010-01-06  2010-01-06  1139.60  0.0044\n",
      "2     2010-01-07  2010-01-07  1144.15  0.0040\n",
      "3     2010-01-08  2010-01-08  1144.05 -0.0001\n",
      "4     2010-01-11  2010-01-11  1137.00 -0.0062\n",
      "...          ...         ...      ...     ...\n",
      "1733  2016-12-26  2016-12-26   950.25 -0.0219\n",
      "1734  2016-12-27  2016-12-27   975.70  0.0268\n",
      "1735  2016-12-28  2016-12-28   974.40 -0.0013\n",
      "1736  2016-12-29  2016-12-29   986.05  0.0120\n",
      "1737  2016-12-30  2016-12-30  1000.60  0.0148\n",
      "\n",
      "[1738 rows x 4 columns]\n"
     ]
    }
   ],
   "source": [
    "beml_df=pd.read_csv('E:/Big Data/Data Set/beml_df.csv')\n",
    "\n",
    "beml_df_ci = stats. norm.interval(0.95,\n",
    "loc=beml_df.gain.mean(),\n",
    "scale=beml_df.gain.std())\n",
    "print('Gain at 95% confidence interval is :',np.round(beml_df,4))"
   ]
  },
  {
   "cell_type": "code",
   "execution_count": null,
   "metadata": {},
   "outputs": [],
   "source": []
  },
  {
   "cell_type": "code",
   "execution_count": null,
   "metadata": {},
   "outputs": [],
   "source": []
  }
 ],
 "metadata": {
  "kernelspec": {
   "display_name": "Python 3",
   "language": "python",
   "name": "python3"
  },
  "language_info": {
   "codemirror_mode": {
    "name": "ipython",
    "version": 3
   },
   "file_extension": ".py",
   "mimetype": "text/x-python",
   "name": "python",
   "nbconvert_exporter": "python",
   "pygments_lexer": "ipython3",
   "version": "3.8.5"
  }
 },
 "nbformat": 4,
 "nbformat_minor": 2
}
