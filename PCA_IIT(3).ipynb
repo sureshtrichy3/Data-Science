{
 "cells": [
  {
   "cell_type": "code",
   "execution_count": 1,
   "metadata": {},
   "outputs": [],
   "source": [
    "# Qns 1 : Train or fit the data into the model and calculate the accuracy of the model using the K Nearest Neighbour Algorithm"
   ]
  },
  {
   "cell_type": "code",
   "execution_count": 2,
   "metadata": {},
   "outputs": [],
   "source": [
    "\n",
    "%config IPCompleter.greedy=True\n",
    "%config Completer.use_jedi = False\n",
    "\n",
    "import numpy as np\n",
    "import pandas as pd\n",
    "import seaborn as sns\n",
    "\n",
    "\n",
    "from sklearn.decomposition import PCA\n",
    "from sklearn.preprocessing import StandardScaler\n",
    "from sklearn.cluster import KMeans,AgglomerativeClustering\n",
    "from scipy.cluster.hierarchy import dendrogram, complete, single, ward\n",
    "import matplotlib.pyplot as plt\n",
    "\n"
   ]
  },
  {
   "cell_type": "code",
   "execution_count": 4,
   "metadata": {},
   "outputs": [],
   "source": [
    "uni = pd.read_csv(\"E:\\Data Science\\Data Set\\iris.csv\")"
   ]
  },
  {
   "cell_type": "code",
   "execution_count": 5,
   "metadata": {},
   "outputs": [
    {
     "name": "stdout",
     "output_type": "stream",
     "text": [
      "     Sepal.Length  Sepal.Width  Petal.Length  Petal.Width    Species\n",
      "0             5.1          3.5           1.4          0.2     setosa\n",
      "1             4.9          3.0           1.4          0.2     setosa\n",
      "2             4.7          3.2           1.3          0.2     setosa\n",
      "3             4.6          3.1           1.5          0.2     setosa\n",
      "4             5.0          3.6           1.4          0.2     setosa\n",
      "..            ...          ...           ...          ...        ...\n",
      "145           6.7          3.0           5.2          2.3  virginica\n",
      "146           6.3          2.5           5.0          1.9  virginica\n",
      "147           6.5          3.0           5.2          2.0  virginica\n",
      "148           6.2          3.4           5.4          2.3  virginica\n",
      "149           5.9          3.0           5.1          1.8  virginica\n",
      "\n",
      "[150 rows x 5 columns]\n"
     ]
    }
   ],
   "source": [
    "print(uni)"
   ]
  },
  {
   "cell_type": "code",
   "execution_count": 6,
   "metadata": {},
   "outputs": [
    {
     "data": {
      "text/html": [
       "<div>\n",
       "<style scoped>\n",
       "    .dataframe tbody tr th:only-of-type {\n",
       "        vertical-align: middle;\n",
       "    }\n",
       "\n",
       "    .dataframe tbody tr th {\n",
       "        vertical-align: top;\n",
       "    }\n",
       "\n",
       "    .dataframe thead th {\n",
       "        text-align: right;\n",
       "    }\n",
       "</style>\n",
       "<table border=\"1\" class=\"dataframe\">\n",
       "  <thead>\n",
       "    <tr style=\"text-align: right;\">\n",
       "      <th></th>\n",
       "      <th>Sepal.Length</th>\n",
       "      <th>Sepal.Width</th>\n",
       "      <th>Petal.Length</th>\n",
       "      <th>Petal.Width</th>\n",
       "    </tr>\n",
       "  </thead>\n",
       "  <tbody>\n",
       "    <tr>\n",
       "      <th>count</th>\n",
       "      <td>150.000000</td>\n",
       "      <td>150.000000</td>\n",
       "      <td>150.000000</td>\n",
       "      <td>150.000000</td>\n",
       "    </tr>\n",
       "    <tr>\n",
       "      <th>mean</th>\n",
       "      <td>5.843333</td>\n",
       "      <td>3.057333</td>\n",
       "      <td>3.758000</td>\n",
       "      <td>1.199333</td>\n",
       "    </tr>\n",
       "    <tr>\n",
       "      <th>std</th>\n",
       "      <td>0.828066</td>\n",
       "      <td>0.435866</td>\n",
       "      <td>1.765298</td>\n",
       "      <td>0.762238</td>\n",
       "    </tr>\n",
       "    <tr>\n",
       "      <th>min</th>\n",
       "      <td>4.300000</td>\n",
       "      <td>2.000000</td>\n",
       "      <td>1.000000</td>\n",
       "      <td>0.100000</td>\n",
       "    </tr>\n",
       "    <tr>\n",
       "      <th>25%</th>\n",
       "      <td>5.100000</td>\n",
       "      <td>2.800000</td>\n",
       "      <td>1.600000</td>\n",
       "      <td>0.300000</td>\n",
       "    </tr>\n",
       "    <tr>\n",
       "      <th>50%</th>\n",
       "      <td>5.800000</td>\n",
       "      <td>3.000000</td>\n",
       "      <td>4.350000</td>\n",
       "      <td>1.300000</td>\n",
       "    </tr>\n",
       "    <tr>\n",
       "      <th>75%</th>\n",
       "      <td>6.400000</td>\n",
       "      <td>3.300000</td>\n",
       "      <td>5.100000</td>\n",
       "      <td>1.800000</td>\n",
       "    </tr>\n",
       "    <tr>\n",
       "      <th>max</th>\n",
       "      <td>7.900000</td>\n",
       "      <td>4.400000</td>\n",
       "      <td>6.900000</td>\n",
       "      <td>2.500000</td>\n",
       "    </tr>\n",
       "  </tbody>\n",
       "</table>\n",
       "</div>"
      ],
      "text/plain": [
       "       Sepal.Length  Sepal.Width  Petal.Length  Petal.Width\n",
       "count    150.000000   150.000000    150.000000   150.000000\n",
       "mean       5.843333     3.057333      3.758000     1.199333\n",
       "std        0.828066     0.435866      1.765298     0.762238\n",
       "min        4.300000     2.000000      1.000000     0.100000\n",
       "25%        5.100000     2.800000      1.600000     0.300000\n",
       "50%        5.800000     3.000000      4.350000     1.300000\n",
       "75%        6.400000     3.300000      5.100000     1.800000\n",
       "max        7.900000     4.400000      6.900000     2.500000"
      ]
     },
     "execution_count": 6,
     "metadata": {},
     "output_type": "execute_result"
    }
   ],
   "source": [
    "uni.describe()"
   ]
  },
  {
   "cell_type": "code",
   "execution_count": 50,
   "metadata": {},
   "outputs": [
    {
     "data": {
      "text/html": [
       "<div>\n",
       "<style scoped>\n",
       "    .dataframe tbody tr th:only-of-type {\n",
       "        vertical-align: middle;\n",
       "    }\n",
       "\n",
       "    .dataframe tbody tr th {\n",
       "        vertical-align: top;\n",
       "    }\n",
       "\n",
       "    .dataframe thead th {\n",
       "        text-align: right;\n",
       "    }\n",
       "</style>\n",
       "<table border=\"1\" class=\"dataframe\">\n",
       "  <thead>\n",
       "    <tr style=\"text-align: right;\">\n",
       "      <th></th>\n",
       "      <th>Sepal.Length</th>\n",
       "      <th>Sepal.Width</th>\n",
       "      <th>Petal.Length</th>\n",
       "      <th>Petal.Width</th>\n",
       "      <th>Species</th>\n",
       "    </tr>\n",
       "  </thead>\n",
       "  <tbody>\n",
       "    <tr>\n",
       "      <th>0</th>\n",
       "      <td>5.1</td>\n",
       "      <td>3.5</td>\n",
       "      <td>1.4</td>\n",
       "      <td>0.2</td>\n",
       "      <td>setosa</td>\n",
       "    </tr>\n",
       "    <tr>\n",
       "      <th>1</th>\n",
       "      <td>4.9</td>\n",
       "      <td>3.0</td>\n",
       "      <td>1.4</td>\n",
       "      <td>0.2</td>\n",
       "      <td>setosa</td>\n",
       "    </tr>\n",
       "    <tr>\n",
       "      <th>2</th>\n",
       "      <td>4.7</td>\n",
       "      <td>3.2</td>\n",
       "      <td>1.3</td>\n",
       "      <td>0.2</td>\n",
       "      <td>setosa</td>\n",
       "    </tr>\n",
       "    <tr>\n",
       "      <th>3</th>\n",
       "      <td>4.6</td>\n",
       "      <td>3.1</td>\n",
       "      <td>1.5</td>\n",
       "      <td>0.2</td>\n",
       "      <td>setosa</td>\n",
       "    </tr>\n",
       "    <tr>\n",
       "      <th>4</th>\n",
       "      <td>5.0</td>\n",
       "      <td>3.6</td>\n",
       "      <td>1.4</td>\n",
       "      <td>0.2</td>\n",
       "      <td>setosa</td>\n",
       "    </tr>\n",
       "  </tbody>\n",
       "</table>\n",
       "</div>"
      ],
      "text/plain": [
       "   Sepal.Length  Sepal.Width  Petal.Length  Petal.Width Species\n",
       "0           5.1          3.5           1.4          0.2  setosa\n",
       "1           4.9          3.0           1.4          0.2  setosa\n",
       "2           4.7          3.2           1.3          0.2  setosa\n",
       "3           4.6          3.1           1.5          0.2  setosa\n",
       "4           5.0          3.6           1.4          0.2  setosa"
      ]
     },
     "execution_count": 50,
     "metadata": {},
     "output_type": "execute_result"
    }
   ],
   "source": [
    "uni.head()"
   ]
  },
  {
   "cell_type": "code",
   "execution_count": 51,
   "metadata": {},
   "outputs": [],
   "source": [
    "X = uni.iloc[:, :-1].values\n",
    "y = uni.iloc[:, 4].values"
   ]
  },
  {
   "cell_type": "code",
   "execution_count": 52,
   "metadata": {},
   "outputs": [],
   "source": [
    "from sklearn.model_selection import train_test_split\n",
    "X_train, X_test, y_train, y_test = train_test_split(X, y, test_size=0.20)"
   ]
  },
  {
   "cell_type": "code",
   "execution_count": 53,
   "metadata": {},
   "outputs": [],
   "source": [
    "from sklearn.preprocessing import StandardScaler\n",
    "scaler = StandardScaler()\n",
    "scaler.fit(X_train)\n",
    "\n",
    "X_train = scaler.transform(X_train)\n",
    "X_test = scaler.transform(X_test)"
   ]
  },
  {
   "cell_type": "code",
   "execution_count": 54,
   "metadata": {},
   "outputs": [
    {
     "data": {
      "text/plain": [
       "KNeighborsClassifier()"
      ]
     },
     "execution_count": 54,
     "metadata": {},
     "output_type": "execute_result"
    }
   ],
   "source": [
    "from sklearn.neighbors import KNeighborsClassifier\n",
    "classifier = KNeighborsClassifier(n_neighbors=5)\n",
    "classifier.fit(X_train, y_train)"
   ]
  },
  {
   "cell_type": "code",
   "execution_count": 55,
   "metadata": {},
   "outputs": [],
   "source": [
    "y_pred = classifier.predict(X_test)"
   ]
  },
  {
   "cell_type": "code",
   "execution_count": 56,
   "metadata": {},
   "outputs": [
    {
     "name": "stdout",
     "output_type": "stream",
     "text": [
      "[[11  0  0]\n",
      " [ 0 10  0]\n",
      " [ 0  0  9]]\n",
      "              precision    recall  f1-score   support\n",
      "\n",
      "      setosa       1.00      1.00      1.00        11\n",
      "  versicolor       1.00      1.00      1.00        10\n",
      "   virginica       1.00      1.00      1.00         9\n",
      "\n",
      "    accuracy                           1.00        30\n",
      "   macro avg       1.00      1.00      1.00        30\n",
      "weighted avg       1.00      1.00      1.00        30\n",
      "\n"
     ]
    }
   ],
   "source": [
    "from sklearn.metrics import classification_report, confusion_matrix\n",
    "print(confusion_matrix(y_test, y_pred))\n",
    "print(classification_report(y_test, y_pred))"
   ]
  },
  {
   "cell_type": "code",
   "execution_count": 57,
   "metadata": {},
   "outputs": [],
   "source": [
    "error = []\n",
    "\n",
    "# Calculating error for K values between 1 and 40\n",
    "for i in range(1, 40):\n",
    "    knn = KNeighborsClassifier(n_neighbors=i)\n",
    "    knn.fit(X_train, y_train)\n",
    "    pred_i = knn.predict(X_test)\n",
    "    error.append(np.mean(pred_i != y_test))"
   ]
  },
  {
   "cell_type": "code",
   "execution_count": 58,
   "metadata": {},
   "outputs": [
    {
     "data": {
      "text/plain": [
       "Text(0, 0.5, 'Mean Error')"
      ]
     },
     "execution_count": 58,
     "metadata": {},
     "output_type": "execute_result"
    },
    {
     "data": {
      "image/png": "[encoded data removed]",
      "text/plain": [
       "<Figure size 864x432 with 1 Axes>"
      ]
     },
     "metadata": {
      "needs_background": "light"
     },
     "output_type": "display_data"
    }
   ],
   "source": [
    "plt.figure(figsize=(12, 6))\n",
    "plt.plot(range(1, 40), error, color='red', linestyle='dashed', marker='o',\n",
    "         markerfacecolor='blue', markersize=10)\n",
    "plt.title('Error Rate K Value')\n",
    "plt.xlabel('K Value')\n",
    "plt.ylabel('Mean Error')"
   ]
  },
  {
   "cell_type": "code",
   "execution_count": 19,
   "metadata": {},
   "outputs": [],
   "source": [
    "#Qns2 :Further train or fit into the model and calculate the performance for different values of k? (Use IRIS dataset from sk learn datasets)"
   ]
  },
  {
   "cell_type": "code",
   "execution_count": 59,
   "metadata": {},
   "outputs": [
    {
     "name": "stdout",
     "output_type": "stream",
     "text": [
      "For k = 1 accuracy is 0.9666666666666667\n",
      "For k = 2 accuracy is 0.9666666666666667\n",
      "For k = 3 accuracy is 0.9666666666666667\n",
      "For k = 4 accuracy is 1.0\n",
      "For k = 5 accuracy is 1.0\n",
      "For k = 6 accuracy is 1.0\n",
      "For k = 7 accuracy is 1.0\n",
      "For k = 8 accuracy is 1.0\n",
      "For k = 9 accuracy is 1.0\n",
      "For k = 10 accuracy is 1.0\n",
      "For k = 11 accuracy is 1.0\n",
      "For k = 12 accuracy is 1.0\n",
      "For k = 13 accuracy is 1.0\n",
      "For k = 14 accuracy is 1.0\n"
     ]
    }
   ],
   "source": [
    "knn = KNeighborsClassifier(n_neighbors=7)  \n",
    "knn.fit(X_train, y_train)   \n",
    "# Calculate the accuracy of the model for different values of k\n",
    "for i in np.arange(1, 15):\n",
    "    knn2 = KNeighborsClassifier(n_neighbors=i)\n",
    "    knn2.fit(X_train, y_train)\n",
    "    print(\"For k = %d accuracy is\"%i,knn2.score(X_test,y_test))"
   ]
  },
  {
   "cell_type": "code",
   "execution_count": 20,
   "metadata": {},
   "outputs": [],
   "source": [
    "# Qn3 :Further perform Logistics Regression classification on the above dataset and compare the accuracy between to algorithms"
   ]
  },
  {
   "cell_type": "code",
   "execution_count": 60,
   "metadata": {},
   "outputs": [],
   "source": [
    "#Visualization\n",
    "import matplotlib.pyplot as plt\n",
    "import seaborn as sb\n",
    "from sklearn.metrics import confusion_matrix #Confusion matrix\n",
    "from sklearn.metrics import accuracy_score # Accuracy score\n",
    "# Spliting training and testing\n",
    "from sklearn.model_selection import train_test_split"
   ]
  },
  {
   "cell_type": "code",
   "execution_count": 61,
   "metadata": {},
   "outputs": [
    {
     "data": {
      "text/html": [
       "<div>\n",
       "<style scoped>\n",
       "    .dataframe tbody tr th:only-of-type {\n",
       "        vertical-align: middle;\n",
       "    }\n",
       "\n",
       "    .dataframe tbody tr th {\n",
       "        vertical-align: top;\n",
       "    }\n",
       "\n",
       "    .dataframe thead th {\n",
       "        text-align: right;\n",
       "    }\n",
       "</style>\n",
       "<table border=\"1\" class=\"dataframe\">\n",
       "  <thead>\n",
       "    <tr style=\"text-align: right;\">\n",
       "      <th></th>\n",
       "      <th>Sepal.Length</th>\n",
       "      <th>Sepal.Width</th>\n",
       "      <th>Petal.Length</th>\n",
       "      <th>Petal.Width</th>\n",
       "      <th>Species</th>\n",
       "    </tr>\n",
       "  </thead>\n",
       "  <tbody>\n",
       "    <tr>\n",
       "      <th>145</th>\n",
       "      <td>6.7</td>\n",
       "      <td>3.0</td>\n",
       "      <td>5.2</td>\n",
       "      <td>2.3</td>\n",
       "      <td>virginica</td>\n",
       "    </tr>\n",
       "    <tr>\n",
       "      <th>146</th>\n",
       "      <td>6.3</td>\n",
       "      <td>2.5</td>\n",
       "      <td>5.0</td>\n",
       "      <td>1.9</td>\n",
       "      <td>virginica</td>\n",
       "    </tr>\n",
       "    <tr>\n",
       "      <th>147</th>\n",
       "      <td>6.5</td>\n",
       "      <td>3.0</td>\n",
       "      <td>5.2</td>\n",
       "      <td>2.0</td>\n",
       "      <td>virginica</td>\n",
       "    </tr>\n",
       "    <tr>\n",
       "      <th>148</th>\n",
       "      <td>6.2</td>\n",
       "      <td>3.4</td>\n",
       "      <td>5.4</td>\n",
       "      <td>2.3</td>\n",
       "      <td>virginica</td>\n",
       "    </tr>\n",
       "    <tr>\n",
       "      <th>149</th>\n",
       "      <td>5.9</td>\n",
       "      <td>3.0</td>\n",
       "      <td>5.1</td>\n",
       "      <td>1.8</td>\n",
       "      <td>virginica</td>\n",
       "    </tr>\n",
       "  </tbody>\n",
       "</table>\n",
       "</div>"
      ],
      "text/plain": [
       "     Sepal.Length  Sepal.Width  Petal.Length  Petal.Width    Species\n",
       "145           6.7          3.0           5.2          2.3  virginica\n",
       "146           6.3          2.5           5.0          1.9  virginica\n",
       "147           6.5          3.0           5.2          2.0  virginica\n",
       "148           6.2          3.4           5.4          2.3  virginica\n",
       "149           5.9          3.0           5.1          1.8  virginica"
      ]
     },
     "execution_count": 61,
     "metadata": {},
     "output_type": "execute_result"
    }
   ],
   "source": [
    "# The Histogram representation of the univariate plots for each measurement\n",
    "uni.tail()"
   ]
  },
  {
   "cell_type": "code",
   "execution_count": null,
   "metadata": {},
   "outputs": [],
   "source": [
    "uni.info()"
   ]
  },
  {
   "cell_type": "code",
   "execution_count": null,
   "metadata": {},
   "outputs": [],
   "source": [
    "uni.describe()"
   ]
  },
  {
   "cell_type": "code",
   "execution_count": null,
   "metadata": {},
   "outputs": [],
   "source": [
    "uni['Species'].value_counts()"
   ]
  },
  {
   "cell_type": "code",
   "execution_count": null,
   "metadata": {},
   "outputs": [],
   "source": [
    "uni.isnull().values.any()"
   ]
  },
  {
   "cell_type": "code",
   "execution_count": null,
   "metadata": {},
   "outputs": [],
   "source": [
    "# ploting scatter plot with respect to petal length\n",
    "\n",
    "petalPlt = sb.FacetGrid(uni, hue=\"Species\", size=6).map(plt.scatter, \"Petal.Length\", \"Petal.Width\")\n",
    "plt.legend(loc='upper left');\n",
    "plt.title(\"Petal Length VS Width\");"
   ]
  },
  {
   "cell_type": "code",
   "execution_count": null,
   "metadata": {},
   "outputs": [],
   "source": [
    "# Plotting scatter plot with respect to sepal length\n",
    "sepalPlt = sb.FacetGrid(uni, hue=\"Species\", size=6).map(plt.scatter, \"Sepal.Length\", \"Sepal.Width\")\n",
    "plt.legend(loc='upper right');\n",
    "plt.title(\"Sepal Length VS Width\")"
   ]
  },
  {
   "cell_type": "code",
   "execution_count": null,
   "metadata": {},
   "outputs": [],
   "source": [
    "from sklearn.linear_model import LogisticRegression\n",
    "from sklearn import metrics\n"
   ]
  },
  {
   "cell_type": "code",
   "execution_count": null,
   "metadata": {},
   "outputs": [],
   "source": [
    "logreg = LogisticRegression()\n",
    "logreg.fit(X_train, y_train)\n",
    "y_pred = logreg.predict(X_test)\n",
    "print('Test Accuracy for Scikit-Learn model:', metrics.accuracy_score(y_test, y_pred)* 100,'%')"
   ]
  },
  {
   "cell_type": "code",
   "execution_count": 45,
   "metadata": {},
   "outputs": [
    {
     "name": "stdout",
     "output_type": "stream",
     "text": [
      "              precision    recall  f1-score   support\n",
      "\n",
      "      setosa       1.00      1.00      1.00         8\n",
      "  versicolor       0.80      0.80      0.80        10\n",
      "   virginica       0.83      0.83      0.83        12\n",
      "\n",
      "    accuracy                           0.87        30\n",
      "   macro avg       0.88      0.88      0.88        30\n",
      "weighted avg       0.87      0.87      0.87        30\n",
      "\n"
     ]
    }
   ],
   "source": [
    "from sklearn.metrics import classification_report\n",
    "print(classification_report(y_test, y_pred))"
   ]
  },
  {
   "cell_type": "code",
   "execution_count": null,
   "metadata": {},
   "outputs": [],
   "source": [
    "#Qns7 : Q7 Perform dimensionality reduction using PCA on the US Arrests dataset (enclosed herewith). What variance can be explained by PC1 & PC2"
   ]
  },
  {
   "cell_type": "code",
   "execution_count": 5,
   "metadata": {},
   "outputs": [],
   "source": [
    "\n",
    "%config IPCompleter.greedy=True\n",
    "%config Completer.use_jedi = False\n",
    "\n",
    "import numpy as np\n",
    "import pandas as pd\n",
    "import seaborn as sns\n",
    "\n",
    "\n",
    "from sklearn.decomposition import PCA\n",
    "from sklearn.preprocessing import StandardScaler\n",
    "from sklearn.cluster import KMeans,AgglomerativeClustering\n",
    "from scipy.cluster.hierarchy import dendrogram, complete, single, ward\n",
    "import matplotlib.pyplot as plt\n",
    "\n"
   ]
  },
  {
   "cell_type": "code",
   "execution_count": 6,
   "metadata": {},
   "outputs": [],
   "source": [
    "df= pd.read_csv(\"E:\\\\Data Science\\\\Data Set\\\\USArrests.csv\")"
   ]
  },
  {
   "cell_type": "code",
   "execution_count": 7,
   "metadata": {},
   "outputs": [
    {
     "data": {
      "text/html": [
       "<div>\n",
       "<style scoped>\n",
       "    .dataframe tbody tr th:only-of-type {\n",
       "        vertical-align: middle;\n",
       "    }\n",
       "\n",
       "    .dataframe tbody tr th {\n",
       "        vertical-align: top;\n",
       "    }\n",
       "\n",
       "    .dataframe thead th {\n",
       "        text-align: right;\n",
       "    }\n",
       "</style>\n",
       "<table border=\"1\" class=\"dataframe\">\n",
       "  <thead>\n",
       "    <tr style=\"text-align: right;\">\n",
       "      <th></th>\n",
       "      <th>States</th>\n",
       "      <th>Murder</th>\n",
       "      <th>Assault</th>\n",
       "      <th>UrbanPop</th>\n",
       "      <th>Rape</th>\n",
       "    </tr>\n",
       "  </thead>\n",
       "  <tbody>\n",
       "    <tr>\n",
       "      <th>0</th>\n",
       "      <td>Alabama</td>\n",
       "      <td>13.2</td>\n",
       "      <td>236</td>\n",
       "      <td>58</td>\n",
       "      <td>21.2</td>\n",
       "    </tr>\n",
       "    <tr>\n",
       "      <th>1</th>\n",
       "      <td>Alaska</td>\n",
       "      <td>10.0</td>\n",
       "      <td>263</td>\n",
       "      <td>48</td>\n",
       "      <td>44.5</td>\n",
       "    </tr>\n",
       "    <tr>\n",
       "      <th>2</th>\n",
       "      <td>Arizona</td>\n",
       "      <td>8.1</td>\n",
       "      <td>294</td>\n",
       "      <td>80</td>\n",
       "      <td>31.0</td>\n",
       "    </tr>\n",
       "    <tr>\n",
       "      <th>3</th>\n",
       "      <td>Arkansas</td>\n",
       "      <td>8.8</td>\n",
       "      <td>190</td>\n",
       "      <td>50</td>\n",
       "      <td>19.5</td>\n",
       "    </tr>\n",
       "    <tr>\n",
       "      <th>4</th>\n",
       "      <td>California</td>\n",
       "      <td>9.0</td>\n",
       "      <td>276</td>\n",
       "      <td>91</td>\n",
       "      <td>40.6</td>\n",
       "    </tr>\n",
       "    <tr>\n",
       "      <th>5</th>\n",
       "      <td>Colorado</td>\n",
       "      <td>7.9</td>\n",
       "      <td>204</td>\n",
       "      <td>78</td>\n",
       "      <td>38.7</td>\n",
       "    </tr>\n",
       "    <tr>\n",
       "      <th>6</th>\n",
       "      <td>Connecticut</td>\n",
       "      <td>3.3</td>\n",
       "      <td>110</td>\n",
       "      <td>77</td>\n",
       "      <td>11.1</td>\n",
       "    </tr>\n",
       "    <tr>\n",
       "      <th>7</th>\n",
       "      <td>Delaware</td>\n",
       "      <td>5.9</td>\n",
       "      <td>238</td>\n",
       "      <td>72</td>\n",
       "      <td>15.8</td>\n",
       "    </tr>\n",
       "    <tr>\n",
       "      <th>8</th>\n",
       "      <td>Florida</td>\n",
       "      <td>15.4</td>\n",
       "      <td>335</td>\n",
       "      <td>80</td>\n",
       "      <td>31.9</td>\n",
       "    </tr>\n",
       "    <tr>\n",
       "      <th>9</th>\n",
       "      <td>Georgia</td>\n",
       "      <td>17.4</td>\n",
       "      <td>211</td>\n",
       "      <td>60</td>\n",
       "      <td>25.8</td>\n",
       "    </tr>\n",
       "    <tr>\n",
       "      <th>10</th>\n",
       "      <td>Hawaii</td>\n",
       "      <td>5.3</td>\n",
       "      <td>46</td>\n",
       "      <td>83</td>\n",
       "      <td>20.2</td>\n",
       "    </tr>\n",
       "    <tr>\n",
       "      <th>11</th>\n",
       "      <td>Idaho</td>\n",
       "      <td>2.6</td>\n",
       "      <td>120</td>\n",
       "      <td>54</td>\n",
       "      <td>14.2</td>\n",
       "    </tr>\n",
       "    <tr>\n",
       "      <th>12</th>\n",
       "      <td>Illinois</td>\n",
       "      <td>10.4</td>\n",
       "      <td>249</td>\n",
       "      <td>83</td>\n",
       "      <td>24.0</td>\n",
       "    </tr>\n",
       "    <tr>\n",
       "      <th>13</th>\n",
       "      <td>Indiana</td>\n",
       "      <td>7.2</td>\n",
       "      <td>113</td>\n",
       "      <td>65</td>\n",
       "      <td>21.0</td>\n",
       "    </tr>\n",
       "    <tr>\n",
       "      <th>14</th>\n",
       "      <td>Iowa</td>\n",
       "      <td>2.2</td>\n",
       "      <td>56</td>\n",
       "      <td>57</td>\n",
       "      <td>11.3</td>\n",
       "    </tr>\n",
       "    <tr>\n",
       "      <th>15</th>\n",
       "      <td>Kansas</td>\n",
       "      <td>6.0</td>\n",
       "      <td>115</td>\n",
       "      <td>66</td>\n",
       "      <td>18.0</td>\n",
       "    </tr>\n",
       "    <tr>\n",
       "      <th>16</th>\n",
       "      <td>Kentucky</td>\n",
       "      <td>9.7</td>\n",
       "      <td>109</td>\n",
       "      <td>52</td>\n",
       "      <td>16.3</td>\n",
       "    </tr>\n",
       "    <tr>\n",
       "      <th>17</th>\n",
       "      <td>Louisiana</td>\n",
       "      <td>15.4</td>\n",
       "      <td>249</td>\n",
       "      <td>66</td>\n",
       "      <td>22.2</td>\n",
       "    </tr>\n",
       "    <tr>\n",
       "      <th>18</th>\n",
       "      <td>Maine</td>\n",
       "      <td>2.1</td>\n",
       "      <td>83</td>\n",
       "      <td>51</td>\n",
       "      <td>7.8</td>\n",
       "    </tr>\n",
       "    <tr>\n",
       "      <th>19</th>\n",
       "      <td>Maryland</td>\n",
       "      <td>11.3</td>\n",
       "      <td>300</td>\n",
       "      <td>67</td>\n",
       "      <td>27.8</td>\n",
       "    </tr>\n",
       "    <tr>\n",
       "      <th>20</th>\n",
       "      <td>Massachusetts</td>\n",
       "      <td>4.4</td>\n",
       "      <td>149</td>\n",
       "      <td>85</td>\n",
       "      <td>16.3</td>\n",
       "    </tr>\n",
       "    <tr>\n",
       "      <th>21</th>\n",
       "      <td>Michigan</td>\n",
       "      <td>12.1</td>\n",
       "      <td>255</td>\n",
       "      <td>74</td>\n",
       "      <td>35.1</td>\n",
       "    </tr>\n",
       "    <tr>\n",
       "      <th>22</th>\n",
       "      <td>Minnesota</td>\n",
       "      <td>2.7</td>\n",
       "      <td>72</td>\n",
       "      <td>66</td>\n",
       "      <td>14.9</td>\n",
       "    </tr>\n",
       "    <tr>\n",
       "      <th>23</th>\n",
       "      <td>Mississippi</td>\n",
       "      <td>16.1</td>\n",
       "      <td>259</td>\n",
       "      <td>44</td>\n",
       "      <td>17.1</td>\n",
       "    </tr>\n",
       "    <tr>\n",
       "      <th>24</th>\n",
       "      <td>Missouri</td>\n",
       "      <td>9.0</td>\n",
       "      <td>178</td>\n",
       "      <td>70</td>\n",
       "      <td>28.2</td>\n",
       "    </tr>\n",
       "    <tr>\n",
       "      <th>25</th>\n",
       "      <td>Montana</td>\n",
       "      <td>6.0</td>\n",
       "      <td>109</td>\n",
       "      <td>53</td>\n",
       "      <td>16.4</td>\n",
       "    </tr>\n",
       "    <tr>\n",
       "      <th>26</th>\n",
       "      <td>Nebraska</td>\n",
       "      <td>4.3</td>\n",
       "      <td>102</td>\n",
       "      <td>62</td>\n",
       "      <td>16.5</td>\n",
       "    </tr>\n",
       "    <tr>\n",
       "      <th>27</th>\n",
       "      <td>Nevada</td>\n",
       "      <td>12.2</td>\n",
       "      <td>252</td>\n",
       "      <td>81</td>\n",
       "      <td>46.0</td>\n",
       "    </tr>\n",
       "    <tr>\n",
       "      <th>28</th>\n",
       "      <td>New Hampshire</td>\n",
       "      <td>2.1</td>\n",
       "      <td>57</td>\n",
       "      <td>56</td>\n",
       "      <td>9.5</td>\n",
       "    </tr>\n",
       "    <tr>\n",
       "      <th>29</th>\n",
       "      <td>New Jersey</td>\n",
       "      <td>7.4</td>\n",
       "      <td>159</td>\n",
       "      <td>89</td>\n",
       "      <td>18.8</td>\n",
       "    </tr>\n",
       "    <tr>\n",
       "      <th>30</th>\n",
       "      <td>New Mexico</td>\n",
       "      <td>11.4</td>\n",
       "      <td>285</td>\n",
       "      <td>70</td>\n",
       "      <td>32.1</td>\n",
       "    </tr>\n",
       "    <tr>\n",
       "      <th>31</th>\n",
       "      <td>New York</td>\n",
       "      <td>11.1</td>\n",
       "      <td>254</td>\n",
       "      <td>86</td>\n",
       "      <td>26.1</td>\n",
       "    </tr>\n",
       "    <tr>\n",
       "      <th>32</th>\n",
       "      <td>North Carolina</td>\n",
       "      <td>13.0</td>\n",
       "      <td>337</td>\n",
       "      <td>45</td>\n",
       "      <td>16.1</td>\n",
       "    </tr>\n",
       "    <tr>\n",
       "      <th>33</th>\n",
       "      <td>North Dakota</td>\n",
       "      <td>0.8</td>\n",
       "      <td>45</td>\n",
       "      <td>44</td>\n",
       "      <td>7.3</td>\n",
       "    </tr>\n",
       "    <tr>\n",
       "      <th>34</th>\n",
       "      <td>Ohio</td>\n",
       "      <td>7.3</td>\n",
       "      <td>120</td>\n",
       "      <td>75</td>\n",
       "      <td>21.4</td>\n",
       "    </tr>\n",
       "    <tr>\n",
       "      <th>35</th>\n",
       "      <td>Oklahoma</td>\n",
       "      <td>6.6</td>\n",
       "      <td>151</td>\n",
       "      <td>68</td>\n",
       "      <td>20.0</td>\n",
       "    </tr>\n",
       "    <tr>\n",
       "      <th>36</th>\n",
       "      <td>Oregon</td>\n",
       "      <td>4.9</td>\n",
       "      <td>159</td>\n",
       "      <td>67</td>\n",
       "      <td>29.3</td>\n",
       "    </tr>\n",
       "    <tr>\n",
       "      <th>37</th>\n",
       "      <td>Pennsylvania</td>\n",
       "      <td>6.3</td>\n",
       "      <td>106</td>\n",
       "      <td>72</td>\n",
       "      <td>14.9</td>\n",
       "    </tr>\n",
       "    <tr>\n",
       "      <th>38</th>\n",
       "      <td>Rhode Island</td>\n",
       "      <td>3.4</td>\n",
       "      <td>174</td>\n",
       "      <td>87</td>\n",
       "      <td>8.3</td>\n",
       "    </tr>\n",
       "    <tr>\n",
       "      <th>39</th>\n",
       "      <td>South Carolina</td>\n",
       "      <td>14.4</td>\n",
       "      <td>279</td>\n",
       "      <td>48</td>\n",
       "      <td>22.5</td>\n",
       "    </tr>\n",
       "    <tr>\n",
       "      <th>40</th>\n",
       "      <td>South Dakota</td>\n",
       "      <td>3.8</td>\n",
       "      <td>86</td>\n",
       "      <td>45</td>\n",
       "      <td>12.8</td>\n",
       "    </tr>\n",
       "    <tr>\n",
       "      <th>41</th>\n",
       "      <td>Tennessee</td>\n",
       "      <td>13.2</td>\n",
       "      <td>188</td>\n",
       "      <td>59</td>\n",
       "      <td>26.9</td>\n",
       "    </tr>\n",
       "    <tr>\n",
       "      <th>42</th>\n",
       "      <td>Texas</td>\n",
       "      <td>12.7</td>\n",
       "      <td>201</td>\n",
       "      <td>80</td>\n",
       "      <td>25.5</td>\n",
       "    </tr>\n",
       "    <tr>\n",
       "      <th>43</th>\n",
       "      <td>Utah</td>\n",
       "      <td>3.2</td>\n",
       "      <td>120</td>\n",
       "      <td>80</td>\n",
       "      <td>22.9</td>\n",
       "    </tr>\n",
       "    <tr>\n",
       "      <th>44</th>\n",
       "      <td>Vermont</td>\n",
       "      <td>2.2</td>\n",
       "      <td>48</td>\n",
       "      <td>32</td>\n",
       "      <td>11.2</td>\n",
       "    </tr>\n",
       "    <tr>\n",
       "      <th>45</th>\n",
       "      <td>Virginia</td>\n",
       "      <td>8.5</td>\n",
       "      <td>156</td>\n",
       "      <td>63</td>\n",
       "      <td>20.7</td>\n",
       "    </tr>\n",
       "    <tr>\n",
       "      <th>46</th>\n",
       "      <td>Washington</td>\n",
       "      <td>4.0</td>\n",
       "      <td>145</td>\n",
       "      <td>73</td>\n",
       "      <td>26.2</td>\n",
       "    </tr>\n",
       "    <tr>\n",
       "      <th>47</th>\n",
       "      <td>West Virginia</td>\n",
       "      <td>5.7</td>\n",
       "      <td>81</td>\n",
       "      <td>39</td>\n",
       "      <td>9.3</td>\n",
       "    </tr>\n",
       "    <tr>\n",
       "      <th>48</th>\n",
       "      <td>Wisconsin</td>\n",
       "      <td>2.6</td>\n",
       "      <td>53</td>\n",
       "      <td>66</td>\n",
       "      <td>10.8</td>\n",
       "    </tr>\n",
       "    <tr>\n",
       "      <th>49</th>\n",
       "      <td>Wyoming</td>\n",
       "      <td>6.8</td>\n",
       "      <td>161</td>\n",
       "      <td>60</td>\n",
       "      <td>15.6</td>\n",
       "    </tr>\n",
       "  </tbody>\n",
       "</table>\n",
       "</div>"
      ],
      "text/plain": [
       "            States  Murder  Assault  UrbanPop  Rape\n",
       "0          Alabama    13.2      236        58  21.2\n",
       "1           Alaska    10.0      263        48  44.5\n",
       "2          Arizona     8.1      294        80  31.0\n",
       "3         Arkansas     8.8      190        50  19.5\n",
       "4       California     9.0      276        91  40.6\n",
       "5         Colorado     7.9      204        78  38.7\n",
       "6      Connecticut     3.3      110        77  11.1\n",
       "7         Delaware     5.9      238        72  15.8\n",
       "8          Florida    15.4      335        80  31.9\n",
       "9          Georgia    17.4      211        60  25.8\n",
       "10          Hawaii     5.3       46        83  20.2\n",
       "11           Idaho     2.6      120        54  14.2\n",
       "12        Illinois    10.4      249        83  24.0\n",
       "13         Indiana     7.2      113        65  21.0\n",
       "14            Iowa     2.2       56        57  11.3\n",
       "15          Kansas     6.0      115        66  18.0\n",
       "16        Kentucky     9.7      109        52  16.3\n",
       "17       Louisiana    15.4      249        66  22.2\n",
       "18           Maine     2.1       83        51   7.8\n",
       "19        Maryland    11.3      300        67  27.8\n",
       "20   Massachusetts     4.4      149        85  16.3\n",
       "21        Michigan    12.1      255        74  35.1\n",
       "22       Minnesota     2.7       72        66  14.9\n",
       "23     Mississippi    16.1      259        44  17.1\n",
       "24        Missouri     9.0      178        70  28.2\n",
       "25         Montana     6.0      109        53  16.4\n",
       "26        Nebraska     4.3      102        62  16.5\n",
       "27          Nevada    12.2      252        81  46.0\n",
       "28   New Hampshire     2.1       57        56   9.5\n",
       "29      New Jersey     7.4      159        89  18.8\n",
       "30      New Mexico    11.4      285        70  32.1\n",
       "31        New York    11.1      254        86  26.1\n",
       "32  North Carolina    13.0      337        45  16.1\n",
       "33    North Dakota     0.8       45        44   7.3\n",
       "34            Ohio     7.3      120        75  21.4\n",
       "35        Oklahoma     6.6      151        68  20.0\n",
       "36          Oregon     4.9      159        67  29.3\n",
       "37    Pennsylvania     6.3      106        72  14.9\n",
       "38    Rhode Island     3.4      174        87   8.3\n",
       "39  South Carolina    14.4      279        48  22.5\n",
       "40    South Dakota     3.8       86        45  12.8\n",
       "41       Tennessee    13.2      188        59  26.9\n",
       "42           Texas    12.7      201        80  25.5\n",
       "43            Utah     3.2      120        80  22.9\n",
       "44         Vermont     2.2       48        32  11.2\n",
       "45        Virginia     8.5      156        63  20.7\n",
       "46      Washington     4.0      145        73  26.2\n",
       "47   West Virginia     5.7       81        39   9.3\n",
       "48       Wisconsin     2.6       53        66  10.8\n",
       "49         Wyoming     6.8      161        60  15.6"
      ]
     },
     "execution_count": 7,
     "metadata": {},
     "output_type": "execute_result"
    }
   ],
   "source": [
    "df"
   ]
  },
  {
   "cell_type": "code",
   "execution_count": 12,
   "metadata": {},
   "outputs": [
    {
     "name": "stderr",
     "output_type": "stream",
     "text": [
      "<ipython-input-12-8f91aac3f2aa>:2: UserWarning: Pandas doesn't allow columns to be created via a new attribute name - see https://pandas.pydata.org/pandas-docs/stable/indexing.html#attribute-access\n",
      "  df.data = df.iloc[:,1:]\n"
     ]
    },
    {
     "data": {
      "text/plain": [
       "array([[ 13.2, 236. ,  58. ,  21.2],\n",
       "       [ 10. , 263. ,  48. ,  44.5],\n",
       "       [  8.1, 294. ,  80. ,  31. ],\n",
       "       [  8.8, 190. ,  50. ,  19.5],\n",
       "       [  9. , 276. ,  91. ,  40.6],\n",
       "       [  7.9, 204. ,  78. ,  38.7],\n",
       "       [  3.3, 110. ,  77. ,  11.1],\n",
       "       [  5.9, 238. ,  72. ,  15.8],\n",
       "       [ 15.4, 335. ,  80. ,  31.9],\n",
       "       [ 17.4, 211. ,  60. ,  25.8],\n",
       "       [  5.3,  46. ,  83. ,  20.2],\n",
       "       [  2.6, 120. ,  54. ,  14.2],\n",
       "       [ 10.4, 249. ,  83. ,  24. ],\n",
       "       [  7.2, 113. ,  65. ,  21. ],\n",
       "       [  2.2,  56. ,  57. ,  11.3],\n",
       "       [  6. , 115. ,  66. ,  18. ],\n",
       "       [  9.7, 109. ,  52. ,  16.3],\n",
       "       [ 15.4, 249. ,  66. ,  22.2],\n",
       "       [  2.1,  83. ,  51. ,   7.8],\n",
       "       [ 11.3, 300. ,  67. ,  27.8],\n",
       "       [  4.4, 149. ,  85. ,  16.3],\n",
       "       [ 12.1, 255. ,  74. ,  35.1],\n",
       "       [  2.7,  72. ,  66. ,  14.9],\n",
       "       [ 16.1, 259. ,  44. ,  17.1],\n",
       "       [  9. , 178. ,  70. ,  28.2],\n",
       "       [  6. , 109. ,  53. ,  16.4],\n",
       "       [  4.3, 102. ,  62. ,  16.5],\n",
       "       [ 12.2, 252. ,  81. ,  46. ],\n",
       "       [  2.1,  57. ,  56. ,   9.5],\n",
       "       [  7.4, 159. ,  89. ,  18.8],\n",
       "       [ 11.4, 285. ,  70. ,  32.1],\n",
       "       [ 11.1, 254. ,  86. ,  26.1],\n",
       "       [ 13. , 337. ,  45. ,  16.1],\n",
       "       [  0.8,  45. ,  44. ,   7.3],\n",
       "       [  7.3, 120. ,  75. ,  21.4],\n",
       "       [  6.6, 151. ,  68. ,  20. ],\n",
       "       [  4.9, 159. ,  67. ,  29.3],\n",
       "       [  6.3, 106. ,  72. ,  14.9],\n",
       "       [  3.4, 174. ,  87. ,   8.3],\n",
       "       [ 14.4, 279. ,  48. ,  22.5],\n",
       "       [  3.8,  86. ,  45. ,  12.8],\n",
       "       [ 13.2, 188. ,  59. ,  26.9],\n",
       "       [ 12.7, 201. ,  80. ,  25.5],\n",
       "       [  3.2, 120. ,  80. ,  22.9],\n",
       "       [  2.2,  48. ,  32. ,  11.2],\n",
       "       [  8.5, 156. ,  63. ,  20.7],\n",
       "       [  4. , 145. ,  73. ,  26.2],\n",
       "       [  5.7,  81. ,  39. ,   9.3],\n",
       "       [  2.6,  53. ,  66. ,  10.8],\n",
       "       [  6.8, 161. ,  60. ,  15.6]])"
      ]
     },
     "execution_count": 12,
     "metadata": {},
     "output_type": "execute_result"
    }
   ],
   "source": [
    "# Considering only numerical data \n",
    "df.data = df.iloc[:,1:]\n",
    "df.data.head()\n",
    "# Converting into numpy array\n",
    "df = df.data.values\n",
    "df"
   ]
  },
  {
   "cell_type": "code",
   "execution_count": 13,
   "metadata": {},
   "outputs": [],
   "source": [
    "# Normalizing the numerical data \n",
    "df_normal = scale(df)"
   ]
  },
  {
   "cell_type": "code",
   "execution_count": 14,
   "metadata": {},
   "outputs": [
    {
     "data": {
      "text/plain": [
       "array([[ 1.25517927,  0.79078716, -0.52619514, -0.00345116],\n",
       "       [ 0.51301858,  1.11805959, -1.22406668,  2.50942392],\n",
       "       [ 0.07236067,  1.49381682,  1.00912225,  1.05346626],\n",
       "       [ 0.23470832,  0.23321191, -1.08449238, -0.18679398],\n",
       "       [ 0.28109336,  1.2756352 ,  1.77678094,  2.08881393],\n",
       "       [ 0.02597562,  0.40290872,  0.86954794,  1.88390137],\n",
       "       [-1.04088037, -0.73648418,  0.79976079, -1.09272319],\n",
       "       [-0.43787481,  0.81502956,  0.45082502, -0.58583422],\n",
       "       [ 1.76541475,  1.99078607,  1.00912225,  1.1505301 ],\n",
       "       [ 2.22926518,  0.48775713, -0.38662083,  0.49265293],\n",
       "       [-0.57702994, -1.51224105,  1.21848371, -0.11129987],\n",
       "       [-1.20322802, -0.61527217, -0.80534376, -0.75839217],\n",
       "       [ 0.60578867,  0.94836277,  1.21848371,  0.29852525],\n",
       "       [-0.13637203, -0.70012057, -0.03768506, -0.0250209 ],\n",
       "       [-1.29599811, -1.39102904, -0.5959823 , -1.07115345],\n",
       "       [-0.41468229, -0.67587817,  0.03210209, -0.34856705],\n",
       "       [ 0.44344101, -0.74860538, -0.94491807, -0.53190987],\n",
       "       [ 1.76541475,  0.94836277,  0.03210209,  0.10439756],\n",
       "       [-1.31919063, -1.06375661, -1.01470522, -1.44862395],\n",
       "       [ 0.81452136,  1.56654403,  0.10188925,  0.70835037],\n",
       "       [-0.78576263, -0.26375734,  1.35805802, -0.53190987],\n",
       "       [ 1.00006153,  1.02108998,  0.59039932,  1.49564599],\n",
       "       [-1.1800355 , -1.19708982,  0.03210209, -0.68289807],\n",
       "       [ 1.9277624 ,  1.06957478, -1.5032153 , -0.44563089],\n",
       "       [ 0.28109336,  0.0877575 ,  0.31125071,  0.75148985],\n",
       "       [-0.41468229, -0.74860538, -0.87513091, -0.521125  ],\n",
       "       [-0.80895515, -0.83345379, -0.24704653, -0.51034012],\n",
       "       [ 1.02325405,  0.98472638,  1.0789094 ,  2.671197  ],\n",
       "       [-1.31919063, -1.37890783, -0.66576945, -1.26528114],\n",
       "       [-0.08998698, -0.14254532,  1.63720664, -0.26228808],\n",
       "       [ 0.83771388,  1.38472601,  0.31125071,  1.17209984],\n",
       "       [ 0.76813632,  1.00896878,  1.42784517,  0.52500755],\n",
       "       [ 1.20879423,  2.01502847, -1.43342815, -0.55347961],\n",
       "       [-1.62069341, -1.52436225, -1.5032153 , -1.50254831],\n",
       "       [-0.11317951, -0.61527217,  0.66018648,  0.01811858],\n",
       "       [-0.27552716, -0.23951493,  0.1716764 , -0.13286962],\n",
       "       [-0.66980002, -0.14254532,  0.10188925,  0.87012344],\n",
       "       [-0.34510472, -0.78496898,  0.45082502, -0.68289807],\n",
       "       [-1.01768785,  0.03927269,  1.49763233, -1.39469959],\n",
       "       [ 1.53348953,  1.3119988 , -1.22406668,  0.13675217],\n",
       "       [-0.92491776, -1.027393  , -1.43342815, -0.90938037],\n",
       "       [ 1.25517927,  0.20896951, -0.45640799,  0.61128652],\n",
       "       [ 1.13921666,  0.36654512,  1.00912225,  0.46029832],\n",
       "       [-1.06407289, -0.61527217,  1.00912225,  0.17989166],\n",
       "       [-1.29599811, -1.48799864, -2.34066115, -1.08193832],\n",
       "       [ 0.16513075, -0.17890893, -0.17725937, -0.05737552],\n",
       "       [-0.87853272, -0.31224214,  0.52061217,  0.53579242],\n",
       "       [-0.48425985, -1.08799901, -1.85215107, -1.28685088],\n",
       "       [-1.20322802, -1.42739264,  0.03210209, -1.1250778 ],\n",
       "       [-0.22914211, -0.11830292, -0.38662083, -0.60740397]])"
      ]
     },
     "execution_count": 14,
     "metadata": {},
     "output_type": "execute_result"
    }
   ],
   "source": [
    "df_normal"
   ]
  },
  {
   "cell_type": "code",
   "execution_count": 15,
   "metadata": {},
   "outputs": [
    {
     "data": {
      "text/plain": [
       "array([[ 9.85565885e-01,  1.13339238e+00, -4.44268788e-01,\n",
       "         1.56267145e-01],\n",
       "       [ 1.95013775e+00,  1.07321326e+00,  2.04000333e+00,\n",
       "        -4.38583440e-01],\n",
       "       [ 1.76316354e+00, -7.45956781e-01,  5.47808243e-02,\n",
       "        -8.34652924e-01],\n",
       "       [-1.41420290e-01,  1.11979678e+00,  1.14573692e-01,\n",
       "        -1.82810896e-01],\n",
       "       [ 2.52398013e+00, -1.54293399e+00,  5.98556799e-01,\n",
       "        -3.41996478e-01],\n",
       "       [ 1.51456286e+00, -9.87555085e-01,  1.09500699e+00,\n",
       "         1.46488703e-03],\n",
       "       [-1.35864746e+00, -1.08892789e+00, -6.43257569e-01,\n",
       "        -1.18469414e-01],\n",
       "       [ 4.77093091e-02, -3.25358925e-01, -7.18632942e-01,\n",
       "        -8.81977637e-01],\n",
       "       [ 3.01304227e+00,  3.92285133e-02, -5.76829492e-01,\n",
       "        -9.62847520e-02],\n",
       "       [ 1.63928304e+00,  1.27894240e+00, -3.42460080e-01,\n",
       "         1.07679681e+00],\n",
       "       [-9.12657146e-01, -1.57046001e+00,  5.07818939e-02,\n",
       "         9.02806864e-01],\n",
       "       [-1.63979985e+00,  2.10972917e-01,  2.59801342e-01,\n",
       "        -4.99104101e-01],\n",
       "       [ 1.37891072e+00, -6.81841189e-01, -6.77495641e-01,\n",
       "        -1.22021292e-01],\n",
       "       [-5.05461361e-01, -1.51562542e-01,  2.28054838e-01,\n",
       "         4.24665700e-01],\n",
       "       [-2.25364607e+00, -1.04054073e-01,  1.64564315e-01,\n",
       "         1.75559157e-02],\n",
       "       [-7.96881121e-01, -2.70164705e-01,  2.55533072e-02,\n",
       "         2.06496428e-01],\n",
       "       [-7.50859074e-01,  9.58440286e-01, -2.83694170e-02,\n",
       "         6.70556671e-01],\n",
       "       [ 1.56481798e+00,  8.71054655e-01, -7.83480358e-01,\n",
       "         4.54728038e-01],\n",
       "       [-2.39682949e+00,  3.76391576e-01, -6.56823864e-02,\n",
       "        -3.30459817e-01],\n",
       "       [ 1.76336939e+00,  4.27655192e-01, -1.57250127e-01,\n",
       "        -5.59069521e-01],\n",
       "       [-4.86166287e-01, -1.47449650e+00, -6.09497476e-01,\n",
       "        -1.79598963e-01],\n",
       "       [ 2.10844115e+00, -1.55396819e-01,  3.84868584e-01,\n",
       "         1.02372019e-01],\n",
       "       [-1.69268181e+00, -6.32261251e-01,  1.53070434e-01,\n",
       "         6.73168850e-02],\n",
       "       [ 9.96494459e-01,  2.39379599e+00, -7.40808395e-01,\n",
       "         2.15508013e-01],\n",
       "       [ 6.96787329e-01, -2.63354790e-01,  3.77443827e-01,\n",
       "         2.25824461e-01],\n",
       "       [-1.18545191e+00,  5.36874372e-01,  2.46889321e-01,\n",
       "         1.23742227e-01],\n",
       "       [-1.26563654e+00, -1.93953730e-01,  1.75573906e-01,\n",
       "         1.58928878e-02],\n",
       "       [ 2.87439454e+00, -7.75600196e-01,  1.16338049e+00,\n",
       "         3.14515476e-01],\n",
       "       [-2.38391541e+00, -1.80822897e-02,  3.68553932e-02,\n",
       "        -3.31373376e-02],\n",
       "       [ 1.81566110e-01, -1.44950571e+00, -7.64453551e-01,\n",
       "         2.43382700e-01],\n",
       "       [ 1.98002375e+00,  1.42848780e-01,  1.83692180e-01,\n",
       "        -3.39533597e-01],\n",
       "       [ 1.68257738e+00, -8.23184142e-01, -6.43075093e-01,\n",
       "        -1.34843689e-02],\n",
       "       [ 1.12337861e+00,  2.22800338e+00, -8.63571788e-01,\n",
       "        -9.54381667e-01],\n",
       "       [-2.99222562e+00,  5.99118824e-01,  3.01277285e-01,\n",
       "        -2.53987327e-01],\n",
       "       [-2.25965422e-01, -7.42238237e-01, -3.11391215e-02,\n",
       "         4.73915911e-01],\n",
       "       [-3.11782855e-01, -2.87854206e-01, -1.53097922e-02,\n",
       "         1.03323208e-02],\n",
       "       [ 5.91220768e-02, -5.41411454e-01,  9.39832977e-01,\n",
       "        -2.37780688e-01],\n",
       "       [-8.88415824e-01, -5.71100352e-01, -4.00628706e-01,\n",
       "         3.59061124e-01],\n",
       "       [-8.63772064e-01, -1.49197842e+00, -1.36994570e+00,\n",
       "        -6.13569430e-01],\n",
       "       [ 1.32072380e+00,  1.93340466e+00, -3.00537790e-01,\n",
       "        -1.31466685e-01],\n",
       "       [-1.98777484e+00,  8.23343241e-01,  3.89293329e-01,\n",
       "        -1.09571764e-01],\n",
       "       [ 9.99741684e-01,  8.60251305e-01,  1.88082949e-01,\n",
       "         6.52864291e-01],\n",
       "       [ 1.35513821e+00, -4.12480819e-01, -4.92068858e-01,\n",
       "         6.43195491e-01],\n",
       "       [-5.50565262e-01, -1.47150461e+00,  2.93728037e-01,\n",
       "        -8.23140470e-02],\n",
       "       [-2.80141174e+00,  1.40228806e+00,  8.41263094e-01,\n",
       "        -1.44889914e-01],\n",
       "       [-9.63349112e-02,  1.99735289e-01,  1.17125418e-02,\n",
       "         2.11370813e-01],\n",
       "       [-2.16903379e-01, -9.70124183e-01,  6.24870938e-01,\n",
       "        -2.20847793e-01],\n",
       "       [-2.10858541e+00,  1.42484670e+00,  1.04774671e-01,\n",
       "         1.31908831e-01],\n",
       "       [-2.07971417e+00, -6.11268624e-01, -1.38864998e-01,\n",
       "         1.84103743e-01],\n",
       "       [-6.29426664e-01,  3.21012967e-01, -2.40659234e-01,\n",
       "        -1.66651801e-01]])"
      ]
     },
     "execution_count": 15,
     "metadata": {},
     "output_type": "execute_result"
    }
   ],
   "source": [
    "pca = PCA(n_components = 4)\n",
    "pca_values = pca.fit_transform(df_normal)\n",
    "pca_values "
   ]
  },
  {
   "cell_type": "code",
   "execution_count": 16,
   "metadata": {},
   "outputs": [
    {
     "data": {
      "text/plain": [
       "array([[ 0.53589947,  0.58318363,  0.27819087,  0.54343209],\n",
       "       [ 0.41818087,  0.1879856 , -0.87280619, -0.16731864],\n",
       "       [-0.34123273, -0.26814843, -0.37801579,  0.81777791],\n",
       "       [ 0.6492278 , -0.74340748,  0.13387773,  0.08902432]])"
      ]
     },
     "execution_count": 16,
     "metadata": {},
     "output_type": "execute_result"
    }
   ],
   "source": [
    "#loadings or weights\n",
    "pca.components_"
   ]
  },
  {
   "cell_type": "code",
   "execution_count": 17,
   "metadata": {},
   "outputs": [
    {
     "data": {
      "text/plain": [
       "array([0.62006039, 0.24744129, 0.0891408 , 0.04335752])"
      ]
     },
     "execution_count": 17,
     "metadata": {},
     "output_type": "execute_result"
    }
   ],
   "source": [
    "# The amount of variance that each PCA explains is \n",
    "var = pca.explained_variance_ratio_\n",
    "var"
   ]
  },
  {
   "cell_type": "code",
   "execution_count": 18,
   "metadata": {},
   "outputs": [
    {
     "data": {
      "text/plain": [
       "array([ 62.01,  86.75,  95.66, 100.  ])"
      ]
     },
     "execution_count": 18,
     "metadata": {},
     "output_type": "execute_result"
    }
   ],
   "source": [
    "# Cumulative variance \n",
    "var1 = np.cumsum(np.round(var,decimals = 4)*100)\n",
    "var1"
   ]
  },
  {
   "cell_type": "code",
   "execution_count": 19,
   "metadata": {},
   "outputs": [
    {
     "data": {
      "text/plain": [
       "[<matplotlib.lines.Line2D at 0x1eb3dc2faf0>]"
      ]
     },
     "execution_count": 19,
     "metadata": {},
     "output_type": "execute_result"
    },
    {
     "data": {
      "image/png": "[encoded data removed]",
      "text/plain": [
       "<Figure size 432x288 with 1 Axes>"
      ]
     },
     "metadata": {
      "needs_background": "light"
     },
     "output_type": "display_data"
    }
   ],
   "source": [
    "# Variance plot for PCA components obtained \n",
    "plt.plot(var1,color=\"red\")"
   ]
  },
  {
   "cell_type": "code",
   "execution_count": 20,
   "metadata": {},
   "outputs": [
    {
     "data": {
      "text/plain": [
       "array([[ 0.98556588],\n",
       "       [ 1.95013775],\n",
       "       [ 1.76316354],\n",
       "       [-0.14142029],\n",
       "       [ 2.52398013],\n",
       "       [ 1.51456286],\n",
       "       [-1.35864746],\n",
       "       [ 0.04770931],\n",
       "       [ 3.01304227],\n",
       "       [ 1.63928304],\n",
       "       [-0.91265715],\n",
       "       [-1.63979985],\n",
       "       [ 1.37891072],\n",
       "       [-0.50546136],\n",
       "       [-2.25364607],\n",
       "       [-0.79688112],\n",
       "       [-0.75085907],\n",
       "       [ 1.56481798],\n",
       "       [-2.39682949],\n",
       "       [ 1.76336939],\n",
       "       [-0.48616629],\n",
       "       [ 2.10844115],\n",
       "       [-1.69268181],\n",
       "       [ 0.99649446],\n",
       "       [ 0.69678733],\n",
       "       [-1.18545191],\n",
       "       [-1.26563654],\n",
       "       [ 2.87439454],\n",
       "       [-2.38391541],\n",
       "       [ 0.18156611],\n",
       "       [ 1.98002375],\n",
       "       [ 1.68257738],\n",
       "       [ 1.12337861],\n",
       "       [-2.99222562],\n",
       "       [-0.22596542],\n",
       "       [-0.31178286],\n",
       "       [ 0.05912208],\n",
       "       [-0.88841582],\n",
       "       [-0.86377206],\n",
       "       [ 1.3207238 ],\n",
       "       [-1.98777484],\n",
       "       [ 0.99974168],\n",
       "       [ 1.35513821],\n",
       "       [-0.55056526],\n",
       "       [-2.80141174],\n",
       "       [-0.09633491],\n",
       "       [-0.21690338],\n",
       "       [-2.10858541],\n",
       "       [-2.07971417],\n",
       "       [-0.62942666]])"
      ]
     },
     "execution_count": 20,
     "metadata": {},
     "output_type": "execute_result"
    }
   ],
   "source": [
    " pca_values[:,0:1]"
   ]
  },
  {
   "cell_type": "code",
   "execution_count": 21,
   "metadata": {},
   "outputs": [
    {
     "data": {
      "text/plain": [
       "array([[ 1.13339238],\n",
       "       [ 1.07321326],\n",
       "       [-0.74595678],\n",
       "       [ 1.11979678],\n",
       "       [-1.54293399],\n",
       "       [-0.98755509],\n",
       "       [-1.08892789],\n",
       "       [-0.32535892],\n",
       "       [ 0.03922851],\n",
       "       [ 1.2789424 ],\n",
       "       [-1.57046001],\n",
       "       [ 0.21097292],\n",
       "       [-0.68184119],\n",
       "       [-0.15156254],\n",
       "       [-0.10405407],\n",
       "       [-0.2701647 ],\n",
       "       [ 0.95844029],\n",
       "       [ 0.87105466],\n",
       "       [ 0.37639158],\n",
       "       [ 0.42765519],\n",
       "       [-1.4744965 ],\n",
       "       [-0.15539682],\n",
       "       [-0.63226125],\n",
       "       [ 2.39379599],\n",
       "       [-0.26335479],\n",
       "       [ 0.53687437],\n",
       "       [-0.19395373],\n",
       "       [-0.7756002 ],\n",
       "       [-0.01808229],\n",
       "       [-1.44950571],\n",
       "       [ 0.14284878],\n",
       "       [-0.82318414],\n",
       "       [ 2.22800338],\n",
       "       [ 0.59911882],\n",
       "       [-0.74223824],\n",
       "       [-0.28785421],\n",
       "       [-0.54141145],\n",
       "       [-0.57110035],\n",
       "       [-1.49197842],\n",
       "       [ 1.93340466],\n",
       "       [ 0.82334324],\n",
       "       [ 0.8602513 ],\n",
       "       [-0.41248082],\n",
       "       [-1.47150461],\n",
       "       [ 1.40228806],\n",
       "       [ 0.19973529],\n",
       "       [-0.97012418],\n",
       "       [ 1.4248467 ],\n",
       "       [-0.61126862],\n",
       "       [ 0.32101297]])"
      ]
     },
     "execution_count": 21,
     "metadata": {},
     "output_type": "execute_result"
    }
   ],
   "source": [
    " pca_values[:,1:2]"
   ]
  },
  {
   "cell_type": "code",
   "execution_count": 22,
   "metadata": {},
   "outputs": [
    {
     "data": {
      "text/plain": [
       "array([[-0.44426879],\n",
       "       [ 2.04000333],\n",
       "       [ 0.05478082],\n",
       "       [ 0.11457369],\n",
       "       [ 0.5985568 ],\n",
       "       [ 1.09500699],\n",
       "       [-0.64325757],\n",
       "       [-0.71863294],\n",
       "       [-0.57682949],\n",
       "       [-0.34246008],\n",
       "       [ 0.05078189],\n",
       "       [ 0.25980134],\n",
       "       [-0.67749564],\n",
       "       [ 0.22805484],\n",
       "       [ 0.16456432],\n",
       "       [ 0.02555331],\n",
       "       [-0.02836942],\n",
       "       [-0.78348036],\n",
       "       [-0.06568239],\n",
       "       [-0.15725013],\n",
       "       [-0.60949748],\n",
       "       [ 0.38486858],\n",
       "       [ 0.15307043],\n",
       "       [-0.7408084 ],\n",
       "       [ 0.37744383],\n",
       "       [ 0.24688932],\n",
       "       [ 0.17557391],\n",
       "       [ 1.16338049],\n",
       "       [ 0.03685539],\n",
       "       [-0.76445355],\n",
       "       [ 0.18369218],\n",
       "       [-0.64307509],\n",
       "       [-0.86357179],\n",
       "       [ 0.30127728],\n",
       "       [-0.03113912],\n",
       "       [-0.01530979],\n",
       "       [ 0.93983298],\n",
       "       [-0.40062871],\n",
       "       [-1.3699457 ],\n",
       "       [-0.30053779],\n",
       "       [ 0.38929333],\n",
       "       [ 0.18808295],\n",
       "       [-0.49206886],\n",
       "       [ 0.29372804],\n",
       "       [ 0.84126309],\n",
       "       [ 0.01171254],\n",
       "       [ 0.62487094],\n",
       "       [ 0.10477467],\n",
       "       [-0.138865  ],\n",
       "       [-0.24065923]])"
      ]
     },
     "execution_count": 22,
     "metadata": {},
     "output_type": "execute_result"
    }
   ],
   "source": [
    " pca_values[:,2:3]"
   ]
  },
  {
   "cell_type": "code",
   "execution_count": 23,
   "metadata": {},
   "outputs": [
    {
     "data": {
      "text/plain": [
       "<matplotlib.collections.PathCollection at 0x1eb3dd10850>"
      ]
     },
     "execution_count": 23,
     "metadata": {},
     "output_type": "execute_result"
    },
    {
     "data": {
      "image/png": "[encoded data removed]",
      "text/plain": [
       "<Figure size 432x288 with 1 Axes>"
      ]
     },
     "metadata": {
      "needs_background": "light"
     },
     "output_type": "display_data"
    }
   ],
   "source": [
    "# plot between PCA1 and PCA2 \n",
    "x = pca_values[:,0:1]\n",
    "y = pca_values[:,1:2]\n",
    "#z = pca_values[:2:3]\n",
    "plt.scatter(x,y)"
   ]
  },
  {
   "cell_type": "code",
   "execution_count": 24,
   "metadata": {},
   "outputs": [
    {
     "data": {
      "text/plain": [
       "<matplotlib.collections.PathCollection at 0x1eb3dd81d30>"
      ]
     },
     "execution_count": 24,
     "metadata": {},
     "output_type": "execute_result"
    },
    {
     "data": {
      "image/png": "[encoded data removed]",
      "text/plain": [
       "<Figure size 432x288 with 1 Axes>"
      ]
     },
     "metadata": {
      "needs_background": "light"
     },
     "output_type": "display_data"
    }
   ],
   "source": [
    "# plot between PCA1 and PCA3 \n",
    "x = pca_values[:,0:1]\n",
    "#y = pca_values[:,1:2]\n",
    "z = pca_values[:,2:3]\n",
    "plt.scatter(x,z)"
   ]
  },
  {
   "cell_type": "code",
   "execution_count": 25,
   "metadata": {},
   "outputs": [
    {
     "data": {
      "text/plain": [
       "<matplotlib.collections.PathCollection at 0x1eb3ddea430>"
      ]
     },
     "execution_count": 25,
     "metadata": {},
     "output_type": "execute_result"
    },
    {
     "data": {
      "image/png": "[encoded data removed]",
      "text/plain": [
       "<Figure size 432x288 with 1 Axes>"
      ]
     },
     "metadata": {
      "needs_background": "light"
     },
     "output_type": "display_data"
    }
   ],
   "source": [
    "# plot between PCA2 and PCA3 \n",
    "#x = pca_values[:,0:1]\n",
    "y = pca_values[:,1:2]\n",
    "z = pca_values[:,2:3]\n",
    "plt.scatter(y,z)\n",
    "# Plz correct this error."
   ]
  },
  {
   "cell_type": "code",
   "execution_count": 10,
   "metadata": {},
   "outputs": [],
   "source": [
    "#Scaling the df\n",
    "from sklearn.preprocessing import StandardScaler"
   ]
  },
  {
   "cell_type": "code",
   "execution_count": 14,
   "metadata": {},
   "outputs": [],
   "source": [
    "df=df.drop(['States'], axis = 1)"
   ]
  },
  {
   "cell_type": "code",
   "execution_count": 15,
   "metadata": {},
   "outputs": [
    {
     "data": {
      "text/plain": [
       "StandardScaler()"
      ]
     },
     "execution_count": 15,
     "metadata": {},
     "output_type": "execute_result"
    }
   ],
   "source": [
    "scaler=StandardScaler() #create object scaler for StandardScaler\n",
    "scaler.fit(df)#Compute the mean and std to be used for later scaling"
   ]
  },
  {
   "cell_type": "code",
   "execution_count": 16,
   "metadata": {},
   "outputs": [
    {
     "data": {
      "text/plain": [
       "array([[ 1.25517927,  0.79078716, -0.52619514, -0.00345116],\n",
       "       [ 0.51301858,  1.11805959, -1.22406668,  2.50942392],\n",
       "       [ 0.07236067,  1.49381682,  1.00912225,  1.05346626],\n",
       "       [ 0.23470832,  0.23321191, -1.08449238, -0.18679398],\n",
       "       [ 0.28109336,  1.2756352 ,  1.77678094,  2.08881393],\n",
       "       [ 0.02597562,  0.40290872,  0.86954794,  1.88390137],\n",
       "       [-1.04088037, -0.73648418,  0.79976079, -1.09272319],\n",
       "       [-0.43787481,  0.81502956,  0.45082502, -0.58583422],\n",
       "       [ 1.76541475,  1.99078607,  1.00912225,  1.1505301 ],\n",
       "       [ 2.22926518,  0.48775713, -0.38662083,  0.49265293],\n",
       "       [-0.57702994, -1.51224105,  1.21848371, -0.11129987],\n",
       "       [-1.20322802, -0.61527217, -0.80534376, -0.75839217],\n",
       "       [ 0.60578867,  0.94836277,  1.21848371,  0.29852525],\n",
       "       [-0.13637203, -0.70012057, -0.03768506, -0.0250209 ],\n",
       "       [-1.29599811, -1.39102904, -0.5959823 , -1.07115345],\n",
       "       [-0.41468229, -0.67587817,  0.03210209, -0.34856705],\n",
       "       [ 0.44344101, -0.74860538, -0.94491807, -0.53190987],\n",
       "       [ 1.76541475,  0.94836277,  0.03210209,  0.10439756],\n",
       "       [-1.31919063, -1.06375661, -1.01470522, -1.44862395],\n",
       "       [ 0.81452136,  1.56654403,  0.10188925,  0.70835037],\n",
       "       [-0.78576263, -0.26375734,  1.35805802, -0.53190987],\n",
       "       [ 1.00006153,  1.02108998,  0.59039932,  1.49564599],\n",
       "       [-1.1800355 , -1.19708982,  0.03210209, -0.68289807],\n",
       "       [ 1.9277624 ,  1.06957478, -1.5032153 , -0.44563089],\n",
       "       [ 0.28109336,  0.0877575 ,  0.31125071,  0.75148985],\n",
       "       [-0.41468229, -0.74860538, -0.87513091, -0.521125  ],\n",
       "       [-0.80895515, -0.83345379, -0.24704653, -0.51034012],\n",
       "       [ 1.02325405,  0.98472638,  1.0789094 ,  2.671197  ],\n",
       "       [-1.31919063, -1.37890783, -0.66576945, -1.26528114],\n",
       "       [-0.08998698, -0.14254532,  1.63720664, -0.26228808],\n",
       "       [ 0.83771388,  1.38472601,  0.31125071,  1.17209984],\n",
       "       [ 0.76813632,  1.00896878,  1.42784517,  0.52500755],\n",
       "       [ 1.20879423,  2.01502847, -1.43342815, -0.55347961],\n",
       "       [-1.62069341, -1.52436225, -1.5032153 , -1.50254831],\n",
       "       [-0.11317951, -0.61527217,  0.66018648,  0.01811858],\n",
       "       [-0.27552716, -0.23951493,  0.1716764 , -0.13286962],\n",
       "       [-0.66980002, -0.14254532,  0.10188925,  0.87012344],\n",
       "       [-0.34510472, -0.78496898,  0.45082502, -0.68289807],\n",
       "       [-1.01768785,  0.03927269,  1.49763233, -1.39469959],\n",
       "       [ 1.53348953,  1.3119988 , -1.22406668,  0.13675217],\n",
       "       [-0.92491776, -1.027393  , -1.43342815, -0.90938037],\n",
       "       [ 1.25517927,  0.20896951, -0.45640799,  0.61128652],\n",
       "       [ 1.13921666,  0.36654512,  1.00912225,  0.46029832],\n",
       "       [-1.06407289, -0.61527217,  1.00912225,  0.17989166],\n",
       "       [-1.29599811, -1.48799864, -2.34066115, -1.08193832],\n",
       "       [ 0.16513075, -0.17890893, -0.17725937, -0.05737552],\n",
       "       [-0.87853272, -0.31224214,  0.52061217,  0.53579242],\n",
       "       [-0.48425985, -1.08799901, -1.85215107, -1.28685088],\n",
       "       [-1.20322802, -1.42739264,  0.03210209, -1.1250778 ],\n",
       "       [-0.22914211, -0.11830292, -0.38662083, -0.60740397]])"
      ]
     },
     "execution_count": 16,
     "metadata": {},
     "output_type": "execute_result"
    }
   ],
   "source": [
    "scaled_data=scaler.transform(df) #Data is transformed to scaled data\n",
    "scaled_data"
   ]
  },
  {
   "cell_type": "code",
   "execution_count": 17,
   "metadata": {},
   "outputs": [],
   "source": [
    "from sklearn.decomposition import PCA"
   ]
  },
  {
   "cell_type": "code",
   "execution_count": 18,
   "metadata": {},
   "outputs": [],
   "source": [
    "pca=PCA(n_components=2)"
   ]
  },
  {
   "cell_type": "code",
   "execution_count": 19,
   "metadata": {},
   "outputs": [
    {
     "data": {
      "text/plain": [
       "PCA(n_components=2)"
      ]
     },
     "execution_count": 19,
     "metadata": {},
     "output_type": "execute_result"
    }
   ],
   "source": [
    "pca.fit(scaled_data) #Compute PCA"
   ]
  },
  {
   "cell_type": "code",
   "execution_count": 20,
   "metadata": {},
   "outputs": [
    {
     "data": {
      "text/plain": [
       "array([[ 0.98556588,  1.13339238],\n",
       "       [ 1.95013775,  1.07321326],\n",
       "       [ 1.76316354, -0.74595678],\n",
       "       [-0.14142029,  1.11979678],\n",
       "       [ 2.52398013, -1.54293399],\n",
       "       [ 1.51456286, -0.98755509],\n",
       "       [-1.35864746, -1.08892789],\n",
       "       [ 0.04770931, -0.32535892],\n",
       "       [ 3.01304227,  0.03922851],\n",
       "       [ 1.63928304,  1.2789424 ],\n",
       "       [-0.91265715, -1.57046001],\n",
       "       [-1.63979985,  0.21097292],\n",
       "       [ 1.37891072, -0.68184119],\n",
       "       [-0.50546136, -0.15156254],\n",
       "       [-2.25364607, -0.10405407],\n",
       "       [-0.79688112, -0.2701647 ],\n",
       "       [-0.75085907,  0.95844029],\n",
       "       [ 1.56481798,  0.87105466],\n",
       "       [-2.39682949,  0.37639158],\n",
       "       [ 1.76336939,  0.42765519],\n",
       "       [-0.48616629, -1.4744965 ],\n",
       "       [ 2.10844115, -0.15539682],\n",
       "       [-1.69268181, -0.63226125],\n",
       "       [ 0.99649446,  2.39379599],\n",
       "       [ 0.69678733, -0.26335479],\n",
       "       [-1.18545191,  0.53687437],\n",
       "       [-1.26563654, -0.19395373],\n",
       "       [ 2.87439454, -0.7756002 ],\n",
       "       [-2.38391541, -0.01808229],\n",
       "       [ 0.18156611, -1.44950571],\n",
       "       [ 1.98002375,  0.14284878],\n",
       "       [ 1.68257738, -0.82318414],\n",
       "       [ 1.12337861,  2.22800338],\n",
       "       [-2.99222562,  0.59911882],\n",
       "       [-0.22596542, -0.74223824],\n",
       "       [-0.31178286, -0.28785421],\n",
       "       [ 0.05912208, -0.54141145],\n",
       "       [-0.88841582, -0.57110035],\n",
       "       [-0.86377206, -1.49197842],\n",
       "       [ 1.3207238 ,  1.93340466],\n",
       "       [-1.98777484,  0.82334324],\n",
       "       [ 0.99974168,  0.8602513 ],\n",
       "       [ 1.35513821, -0.41248082],\n",
       "       [-0.55056526, -1.47150461],\n",
       "       [-2.80141174,  1.40228806],\n",
       "       [-0.09633491,  0.19973529],\n",
       "       [-0.21690338, -0.97012418],\n",
       "       [-2.10858541,  1.4248467 ],\n",
       "       [-2.07971417, -0.61126862],\n",
       "       [-0.62942666,  0.32101297]])"
      ]
     },
     "execution_count": 20,
     "metadata": {},
     "output_type": "execute_result"
    }
   ],
   "source": [
    "x_pca=pca.transform(scaled_data) # Transformed Data after PCA application\n",
    "x_pca"
   ]
  },
  {
   "cell_type": "code",
   "execution_count": null,
   "metadata": {},
   "outputs": [],
   "source": [
    "# Output has two columns --> 50 columns transformed into two columns (PC1 & PC2)"
   ]
  },
  {
   "cell_type": "code",
   "execution_count": 21,
   "metadata": {},
   "outputs": [
    {
     "data": {
      "text/plain": [
       "(50, 4)"
      ]
     },
     "execution_count": 21,
     "metadata": {},
     "output_type": "execute_result"
    }
   ],
   "source": [
    "#shape of original df\n",
    "scaled_data.shape"
   ]
  },
  {
   "cell_type": "code",
   "execution_count": 22,
   "metadata": {},
   "outputs": [
    {
     "data": {
      "text/plain": [
       "(50, 2)"
      ]
     },
     "execution_count": 22,
     "metadata": {},
     "output_type": "execute_result"
    }
   ],
   "source": [
    "#shape of x_pca\n",
    "x_pca.shape"
   ]
  },
  {
   "cell_type": "code",
   "execution_count": null,
   "metadata": {},
   "outputs": [],
   "source": [
    "#Plotting x_pca"
   ]
  },
  {
   "cell_type": "code",
   "execution_count": 25,
   "metadata": {},
   "outputs": [
    {
     "data": {
      "text/plain": [
       "Text(0, 0.5, 'Second Principal Component')"
      ]
     },
     "execution_count": 25,
     "metadata": {},
     "output_type": "execute_result"
    },
    {
     "data": {
      "image/png": "[encoded data removed]",
      "text/plain": [
       "<Figure size 576x432 with 1 Axes>"
      ]
     },
     "metadata": {
      "needs_background": "light"
     },
     "output_type": "display_data"
    }
   ],
   "source": [
    "#PC1 & PC2 plotted based on target value (Color due to Target Values) \n",
    "plt.figure(figsize=(8,6))\n",
    "plt.scatter(x_pca[:,0],x_pca[:,1])# --> Color label is target\n",
    "plt.xlabel('First Principal Component')\n",
    "plt.ylabel('Second Principal Component')"
   ]
  },
  {
   "cell_type": "code",
   "execution_count": 26,
   "metadata": {},
   "outputs": [
    {
     "data": {
      "text/plain": [
       "array([2.53085875, 1.00996444])"
      ]
     },
     "execution_count": 26,
     "metadata": {},
     "output_type": "execute_result"
    }
   ],
   "source": [
    "#Variances Explained for four Variables in terms of PC1 & PC2\n",
    "pca.explained_variance_"
   ]
  },
  {
   "cell_type": "code",
   "execution_count": 27,
   "metadata": {},
   "outputs": [
    {
     "data": {
      "text/plain": [
       "array([1.5908673 , 1.00496987])"
      ]
     },
     "execution_count": 27,
     "metadata": {},
     "output_type": "execute_result"
    }
   ],
   "source": [
    "# Standard deviation Explained for four variables in terms of PC1 & PC2\n",
    "np.sqrt(pca.explained_variance_)"
   ]
  },
  {
   "cell_type": "code",
   "execution_count": 28,
   "metadata": {},
   "outputs": [
    {
     "data": {
      "text/plain": [
       "array([0.62006039, 0.24744129])"
      ]
     },
     "execution_count": 28,
     "metadata": {},
     "output_type": "execute_result"
    }
   ],
   "source": [
    "#Variance explained pc1, pc2\n",
    "pca.explained_variance_ratio_"
   ]
  },
  {
   "cell_type": "code",
   "execution_count": 29,
   "metadata": {},
   "outputs": [
    {
     "data": {
      "text/plain": [
       "0.8675016829223339"
      ]
     },
     "execution_count": 29,
     "metadata": {},
     "output_type": "execute_result"
    }
   ],
   "source": [
    "pca.explained_variance_ratio_.sum()"
   ]
  },
  {
   "cell_type": "code",
   "execution_count": null,
   "metadata": {},
   "outputs": [],
   "source": [
    "#Variance & Cumulative Variance"
   ]
  },
  {
   "cell_type": "code",
   "execution_count": 30,
   "metadata": {},
   "outputs": [
    {
     "data": {
      "image/png": "[encoded data removed]",
      "text/plain": [
       "<Figure size 504x360 with 1 Axes>"
      ]
     },
     "metadata": {
      "needs_background": "light"
     },
     "output_type": "display_data"
    }
   ],
   "source": [
    "plt.figure(figsize=(7,5))\n",
    "\n",
    "plt.plot([1,2], pca.explained_variance_ratio_, '-o', label='Individual component')\n",
    "plt.plot([1,2], np.cumsum(pca.explained_variance_ratio_), '-s', label='Cumulative')\n",
    "\n",
    "plt.ylabel('Proportion of Variance Explained')\n",
    "plt.xlabel('Principal Component')\n",
    "plt.xlim(0.75,4.25)\n",
    "plt.ylim(0,1.05)\n",
    "plt.xticks([1,2,3,4])\n",
    "plt.legend(loc=2);"
   ]
  },
  {
   "cell_type": "code",
   "execution_count": 31,
   "metadata": {},
   "outputs": [],
   "source": [
    "pca=PCA(n_components=3)"
   ]
  },
  {
   "cell_type": "code",
   "execution_count": 32,
   "metadata": {},
   "outputs": [
    {
     "data": {
      "text/plain": [
       "PCA(n_components=3)"
      ]
     },
     "execution_count": 32,
     "metadata": {},
     "output_type": "execute_result"
    }
   ],
   "source": [
    "pca.fit(scaled_data) #Compute PCA"
   ]
  },
  {
   "cell_type": "code",
   "execution_count": 33,
   "metadata": {},
   "outputs": [
    {
     "data": {
      "text/plain": [
       "array([[ 0.98556588,  1.13339238, -0.44426879],\n",
       "       [ 1.95013775,  1.07321326,  2.04000333],\n",
       "       [ 1.76316354, -0.74595678,  0.05478082],\n",
       "       [-0.14142029,  1.11979678,  0.11457369],\n",
       "       [ 2.52398013, -1.54293399,  0.5985568 ],\n",
       "       [ 1.51456286, -0.98755509,  1.09500699],\n",
       "       [-1.35864746, -1.08892789, -0.64325757],\n",
       "       [ 0.04770931, -0.32535892, -0.71863294],\n",
       "       [ 3.01304227,  0.03922851, -0.57682949],\n",
       "       [ 1.63928304,  1.2789424 , -0.34246008],\n",
       "       [-0.91265715, -1.57046001,  0.05078189],\n",
       "       [-1.63979985,  0.21097292,  0.25980134],\n",
       "       [ 1.37891072, -0.68184119, -0.67749564],\n",
       "       [-0.50546136, -0.15156254,  0.22805484],\n",
       "       [-2.25364607, -0.10405407,  0.16456432],\n",
       "       [-0.79688112, -0.2701647 ,  0.02555331],\n",
       "       [-0.75085907,  0.95844029, -0.02836942],\n",
       "       [ 1.56481798,  0.87105466, -0.78348036],\n",
       "       [-2.39682949,  0.37639158, -0.06568239],\n",
       "       [ 1.76336939,  0.42765519, -0.15725013],\n",
       "       [-0.48616629, -1.4744965 , -0.60949748],\n",
       "       [ 2.10844115, -0.15539682,  0.38486858],\n",
       "       [-1.69268181, -0.63226125,  0.15307043],\n",
       "       [ 0.99649446,  2.39379599, -0.7408084 ],\n",
       "       [ 0.69678733, -0.26335479,  0.37744383],\n",
       "       [-1.18545191,  0.53687437,  0.24688932],\n",
       "       [-1.26563654, -0.19395373,  0.17557391],\n",
       "       [ 2.87439454, -0.7756002 ,  1.16338049],\n",
       "       [-2.38391541, -0.01808229,  0.03685539],\n",
       "       [ 0.18156611, -1.44950571, -0.76445355],\n",
       "       [ 1.98002375,  0.14284878,  0.18369218],\n",
       "       [ 1.68257738, -0.82318414, -0.64307509],\n",
       "       [ 1.12337861,  2.22800338, -0.86357179],\n",
       "       [-2.99222562,  0.59911882,  0.30127728],\n",
       "       [-0.22596542, -0.74223824, -0.03113912],\n",
       "       [-0.31178286, -0.28785421, -0.01530979],\n",
       "       [ 0.05912208, -0.54141145,  0.93983298],\n",
       "       [-0.88841582, -0.57110035, -0.40062871],\n",
       "       [-0.86377206, -1.49197842, -1.3699457 ],\n",
       "       [ 1.3207238 ,  1.93340466, -0.30053779],\n",
       "       [-1.98777484,  0.82334324,  0.38929333],\n",
       "       [ 0.99974168,  0.8602513 ,  0.18808295],\n",
       "       [ 1.35513821, -0.41248082, -0.49206886],\n",
       "       [-0.55056526, -1.47150461,  0.29372804],\n",
       "       [-2.80141174,  1.40228806,  0.84126309],\n",
       "       [-0.09633491,  0.19973529,  0.01171254],\n",
       "       [-0.21690338, -0.97012418,  0.62487094],\n",
       "       [-2.10858541,  1.4248467 ,  0.10477467],\n",
       "       [-2.07971417, -0.61126862, -0.138865  ],\n",
       "       [-0.62942666,  0.32101297, -0.24065923]])"
      ]
     },
     "execution_count": 33,
     "metadata": {},
     "output_type": "execute_result"
    }
   ],
   "source": [
    "x_pca=pca.transform(scaled_data) # Transformed Data after PCA application\n",
    "x_pca"
   ]
  },
  {
   "cell_type": "code",
   "execution_count": 34,
   "metadata": {},
   "outputs": [
    {
     "data": {
      "text/plain": [
       "(50, 4)"
      ]
     },
     "execution_count": 34,
     "metadata": {},
     "output_type": "execute_result"
    }
   ],
   "source": [
    "#shape of original df\n",
    "scaled_data.shape"
   ]
  },
  {
   "cell_type": "code",
   "execution_count": 35,
   "metadata": {},
   "outputs": [
    {
     "data": {
      "text/plain": [
       "(50, 3)"
      ]
     },
     "execution_count": 35,
     "metadata": {},
     "output_type": "execute_result"
    }
   ],
   "source": [
    "#shape of x_pca\n",
    "x_pca.shape"
   ]
  },
  {
   "cell_type": "code",
   "execution_count": 36,
   "metadata": {},
   "outputs": [
    {
     "data": {
      "text/plain": [
       "Text(0, 0.5, 'Second Principal Component')"
      ]
     },
     "execution_count": 36,
     "metadata": {},
     "output_type": "execute_result"
    },
    {
     "data": {
      "image/png": "[encoded data removed]",
      "text/plain": [
       "<Figure size 576x432 with 1 Axes>"
      ]
     },
     "metadata": {
      "needs_background": "light"
     },
     "output_type": "display_data"
    }
   ],
   "source": [
    "#PC1 & PC2 plotted based on target value (Color due to Target Values) \n",
    "plt.figure(figsize=(8,6))\n",
    "plt.scatter(x_pca[:,0],x_pca[:,1])# --> Color label is target\n",
    "plt.xlabel('First Principal Component')\n",
    "plt.ylabel('Second Principal Component')"
   ]
  },
  {
   "cell_type": "code",
   "execution_count": 37,
   "metadata": {},
   "outputs": [
    {
     "data": {
      "text/plain": [
       "Text(0, 0.5, 'Second Principal Component')"
      ]
     },
     "execution_count": 37,
     "metadata": {},
     "output_type": "execute_result"
    },
    {
     "data": {
      "image/png": "[encoded data removed]",
      "text/plain": [
       "<Figure size 576x432 with 1 Axes>"
      ]
     },
     "metadata": {
      "needs_background": "light"
     },
     "output_type": "display_data"
    }
   ],
   "source": [
    "#PC1 & PC2 plotted based on target value (Color due to Target Values) \n",
    "plt.figure(figsize=(8,6))\n",
    "plt.scatter(x_pca[:,1],x_pca[:,2])# --> Color label is target\n",
    "plt.xlabel('First Principal Component')\n",
    "plt.ylabel('Second Principal Component')"
   ]
  },
  {
   "cell_type": "code",
   "execution_count": 38,
   "metadata": {},
   "outputs": [
    {
     "data": {
      "text/plain": [
       "array([2.53085875, 1.00996444, 0.36383998])"
      ]
     },
     "execution_count": 38,
     "metadata": {},
     "output_type": "execute_result"
    }
   ],
   "source": [
    "#Variances Explained for four Variables in terms of PC1 & PC2\n",
    "pca.explained_variance_"
   ]
  },
  {
   "cell_type": "code",
   "execution_count": 39,
   "metadata": {},
   "outputs": [
    {
     "data": {
      "text/plain": [
       "array([1.5908673 , 1.00496987, 0.6031915 ])"
      ]
     },
     "execution_count": 39,
     "metadata": {},
     "output_type": "execute_result"
    }
   ],
   "source": [
    "# Standard deviation Explained for four variables in terms of PC1 & PC2\n",
    "np.sqrt(pca.explained_variance_)"
   ]
  },
  {
   "cell_type": "code",
   "execution_count": 40,
   "metadata": {},
   "outputs": [
    {
     "data": {
      "text/plain": [
       "array([0.62006039, 0.24744129, 0.0891408 ])"
      ]
     },
     "execution_count": 40,
     "metadata": {},
     "output_type": "execute_result"
    }
   ],
   "source": [
    "#Variance explained pc1, pc2\n",
    "pca.explained_variance_ratio_"
   ]
  },
  {
   "cell_type": "code",
   "execution_count": 41,
   "metadata": {},
   "outputs": [
    {
     "data": {
      "text/plain": [
       "0.9566424780675413"
      ]
     },
     "execution_count": 41,
     "metadata": {},
     "output_type": "execute_result"
    }
   ],
   "source": [
    "pca.explained_variance_ratio_.sum()"
   ]
  },
  {
   "cell_type": "code",
   "execution_count": null,
   "metadata": {},
   "outputs": [],
   "source": [
    "#Q9 Create Association Rules using Apriori algorithm using the dataset ‘apriori data’) attached herewith"
   ]
  },
  {
   "cell_type": "code",
   "execution_count": 19,
   "metadata": {},
   "outputs": [
    {
     "name": "stdout",
     "output_type": "stream",
     "text": [
      "Collecting apyori\n",
      "  Downloading apyori-1.1.2.tar.gz (8.6 kB)\n",
      "Building wheels for collected packages: apyori\n",
      "  Building wheel for apyori (setup.py): started\n",
      "  Building wheel for apyori (setup.py): finished with status 'done'\n",
      "  Created wheel for apyori: filename=apyori-1.1.2-py3-none-any.whl size=5975 sha256=ca9003153e1e28bf0635d8a02e67797e1dc01e7331e179b5012e5dabb0f10c18\n",
      "  Stored in directory: c:\\users\\admin\\appdata\\local\\pip\\cache\\wheels\\1b\\02\\6c\\a45230be8603bd95c0a51cd2b289aefdd860c1a100eab73661\n",
      "Successfully built apyori\n",
      "Installing collected packages: apyori\n",
      "Successfully installed apyori-1.1.2\n"
     ]
    }
   ],
   "source": [
    "!pip install apyori"
   ]
  },
  {
   "cell_type": "code",
   "execution_count": 20,
   "metadata": {},
   "outputs": [],
   "source": [
    "import numpy as np\n",
    "import matplotlib.pyplot as plt\n",
    "import pandas as pd\n",
    "from apyori import apriori"
   ]
  },
  {
   "cell_type": "code",
   "execution_count": 34,
   "metadata": {},
   "outputs": [],
   "source": [
    "df1 = pd.read_excel(\"E:\\\\Data Science\\\\Data Set\\\\apriori_data.xlsx\",header=None)"
   ]
  },
  {
   "cell_type": "code",
   "execution_count": 35,
   "metadata": {},
   "outputs": [
    {
     "data": {
      "text/html": [
       "<div>\n",
       "<style scoped>\n",
       "    .dataframe tbody tr th:only-of-type {\n",
       "        vertical-align: middle;\n",
       "    }\n",
       "\n",
       "    .dataframe tbody tr th {\n",
       "        vertical-align: top;\n",
       "    }\n",
       "\n",
       "    .dataframe thead th {\n",
       "        text-align: right;\n",
       "    }\n",
       "</style>\n",
       "<table border=\"1\" class=\"dataframe\">\n",
       "  <thead>\n",
       "    <tr style=\"text-align: right;\">\n",
       "      <th></th>\n",
       "      <th>0</th>\n",
       "      <th>1</th>\n",
       "      <th>2</th>\n",
       "      <th>3</th>\n",
       "      <th>4</th>\n",
       "      <th>5</th>\n",
       "      <th>6</th>\n",
       "    </tr>\n",
       "  </thead>\n",
       "  <tbody>\n",
       "    <tr>\n",
       "      <th>0</th>\n",
       "      <td>corned_b</td>\n",
       "      <td>peppers</td>\n",
       "      <td>bourbon</td>\n",
       "      <td>cracker</td>\n",
       "      <td>chicken</td>\n",
       "      <td>apples</td>\n",
       "      <td>coke</td>\n",
       "    </tr>\n",
       "    <tr>\n",
       "      <th>1</th>\n",
       "      <td>olives</td>\n",
       "      <td>bourbon</td>\n",
       "      <td>coke</td>\n",
       "      <td>turkey</td>\n",
       "      <td>ice_crea</td>\n",
       "      <td>ham</td>\n",
       "      <td>baguette</td>\n",
       "    </tr>\n",
       "    <tr>\n",
       "      <th>2</th>\n",
       "      <td>hering</td>\n",
       "      <td>corned_b</td>\n",
       "      <td>olives</td>\n",
       "      <td>ham</td>\n",
       "      <td>turkey</td>\n",
       "      <td>bourbon</td>\n",
       "      <td>peppers</td>\n",
       "    </tr>\n",
       "    <tr>\n",
       "      <th>3</th>\n",
       "      <td>baguette</td>\n",
       "      <td>sardines</td>\n",
       "      <td>apples</td>\n",
       "      <td>peppers</td>\n",
       "      <td>avocado</td>\n",
       "      <td>ice_crea</td>\n",
       "      <td>bourbon</td>\n",
       "    </tr>\n",
       "    <tr>\n",
       "      <th>4</th>\n",
       "      <td>baguette</td>\n",
       "      <td>soda</td>\n",
       "      <td>hering</td>\n",
       "      <td>cracker</td>\n",
       "      <td>heineken</td>\n",
       "      <td>peppers</td>\n",
       "      <td>apples</td>\n",
       "    </tr>\n",
       "    <tr>\n",
       "      <th>...</th>\n",
       "      <td>...</td>\n",
       "      <td>...</td>\n",
       "      <td>...</td>\n",
       "      <td>...</td>\n",
       "      <td>...</td>\n",
       "      <td>...</td>\n",
       "      <td>...</td>\n",
       "    </tr>\n",
       "    <tr>\n",
       "      <th>996</th>\n",
       "      <td>soda</td>\n",
       "      <td>olives</td>\n",
       "      <td>bourbon</td>\n",
       "      <td>cracker</td>\n",
       "      <td>heineken</td>\n",
       "      <td>avocado</td>\n",
       "      <td>avocado</td>\n",
       "    </tr>\n",
       "    <tr>\n",
       "      <th>997</th>\n",
       "      <td>baguette</td>\n",
       "      <td>sardines</td>\n",
       "      <td>apples</td>\n",
       "      <td>peppers</td>\n",
       "      <td>avocado</td>\n",
       "      <td>ice_crea</td>\n",
       "      <td>olives</td>\n",
       "    </tr>\n",
       "    <tr>\n",
       "      <th>998</th>\n",
       "      <td>sardines</td>\n",
       "      <td>heineken</td>\n",
       "      <td>chicken</td>\n",
       "      <td>coke</td>\n",
       "      <td>ice_crea</td>\n",
       "      <td>corned_b</td>\n",
       "      <td>peppers</td>\n",
       "    </tr>\n",
       "    <tr>\n",
       "      <th>999</th>\n",
       "      <td>hering</td>\n",
       "      <td>corned_b</td>\n",
       "      <td>apples</td>\n",
       "      <td>olives</td>\n",
       "      <td>steak</td>\n",
       "      <td>baguette</td>\n",
       "      <td>peppers</td>\n",
       "    </tr>\n",
       "    <tr>\n",
       "      <th>1000</th>\n",
       "      <td>olives</td>\n",
       "      <td>bourbon</td>\n",
       "      <td>coke</td>\n",
       "      <td>turkey</td>\n",
       "      <td>ice_crea</td>\n",
       "      <td>peppers</td>\n",
       "      <td>peppers</td>\n",
       "    </tr>\n",
       "  </tbody>\n",
       "</table>\n",
       "<p>1001 rows × 7 columns</p>\n",
       "</div>"
      ],
      "text/plain": [
       "             0         1        2        3         4         5         6\n",
       "0     corned_b   peppers  bourbon  cracker   chicken    apples      coke\n",
       "1       olives   bourbon     coke   turkey  ice_crea       ham  baguette\n",
       "2       hering  corned_b   olives      ham    turkey   bourbon   peppers\n",
       "3     baguette  sardines   apples  peppers   avocado  ice_crea   bourbon\n",
       "4     baguette      soda   hering  cracker  heineken   peppers    apples\n",
       "...        ...       ...      ...      ...       ...       ...       ...\n",
       "996       soda    olives  bourbon  cracker  heineken   avocado   avocado\n",
       "997   baguette  sardines   apples  peppers   avocado  ice_crea    olives\n",
       "998   sardines  heineken  chicken     coke  ice_crea  corned_b   peppers\n",
       "999     hering  corned_b   apples   olives     steak  baguette   peppers\n",
       "1000    olives   bourbon     coke   turkey  ice_crea   peppers   peppers\n",
       "\n",
       "[1001 rows x 7 columns]"
      ]
     },
     "execution_count": 35,
     "metadata": {},
     "output_type": "execute_result"
    }
   ],
   "source": [
    "df1"
   ]
  },
  {
   "cell_type": "code",
   "execution_count": 24,
   "metadata": {},
   "outputs": [
    {
     "name": "stdout",
     "output_type": "stream",
     "text": [
      "<class 'pandas.core.frame.DataFrame'>\n",
      "RangeIndex: 1000 entries, 0 to 999\n",
      "Data columns (total 7 columns):\n",
      " #   Column    Non-Null Count  Dtype \n",
      "---  ------    --------------  ----- \n",
      " 0   corned_b  1000 non-null   object\n",
      " 1   peppers   1000 non-null   object\n",
      " 2   bourbon   1000 non-null   object\n",
      " 3   cracker   1000 non-null   object\n",
      " 4   chicken   1000 non-null   object\n",
      " 5   apples    1000 non-null   object\n",
      " 6   coke      1000 non-null   object\n",
      "dtypes: object(7)\n",
      "memory usage: 54.8+ KB\n"
     ]
    }
   ],
   "source": [
    "df1.info()"
   ]
  },
  {
   "cell_type": "code",
   "execution_count": 37,
   "metadata": {},
   "outputs": [
    {
     "data": {
      "text/plain": [
       "(1001, 7)"
      ]
     },
     "execution_count": 37,
     "metadata": {},
     "output_type": "execute_result"
    }
   ],
   "source": [
    "df1.shape"
   ]
  },
  {
   "cell_type": "code",
   "execution_count": 38,
   "metadata": {},
   "outputs": [],
   "source": [
    "records=[]\n",
    "for i in range(0,1001):\n",
    "    records.append([str(df1.values[i,j]) for j in range(0,7)])\n"
   ]
  },
  {
   "cell_type": "code",
   "execution_count": 44,
   "metadata": {},
   "outputs": [
    {
     "data": {
      "text/html": [
       "<div>\n",
       "<style scoped>\n",
       "    .dataframe tbody tr th:only-of-type {\n",
       "        vertical-align: middle;\n",
       "    }\n",
       "\n",
       "    .dataframe tbody tr th {\n",
       "        vertical-align: top;\n",
       "    }\n",
       "\n",
       "    .dataframe thead th {\n",
       "        text-align: right;\n",
       "    }\n",
       "</style>\n",
       "<table border=\"1\" class=\"dataframe\">\n",
       "  <thead>\n",
       "    <tr style=\"text-align: right;\">\n",
       "      <th></th>\n",
       "      <th>business</th>\n",
       "    </tr>\n",
       "  </thead>\n",
       "  <tbody>\n",
       "    <tr>\n",
       "      <th>0</th>\n",
       "      <td>[corned_b, peppers, bourbon, cracker, chicken,...</td>\n",
       "    </tr>\n",
       "    <tr>\n",
       "      <th>1</th>\n",
       "      <td>[olives, bourbon, coke, turkey, ice_crea, ham,...</td>\n",
       "    </tr>\n",
       "    <tr>\n",
       "      <th>2</th>\n",
       "      <td>[hering, corned_b, olives, ham, turkey, bourbo...</td>\n",
       "    </tr>\n",
       "    <tr>\n",
       "      <th>3</th>\n",
       "      <td>[baguette, sardines, apples, peppers, avocado,...</td>\n",
       "    </tr>\n",
       "    <tr>\n",
       "      <th>4</th>\n",
       "      <td>[baguette, soda, hering, cracker, heineken, pe...</td>\n",
       "    </tr>\n",
       "    <tr>\n",
       "      <th>...</th>\n",
       "      <td>...</td>\n",
       "    </tr>\n",
       "    <tr>\n",
       "      <th>996</th>\n",
       "      <td>[soda, olives, bourbon, cracker, heineken, avo...</td>\n",
       "    </tr>\n",
       "    <tr>\n",
       "      <th>997</th>\n",
       "      <td>[baguette, sardines, apples, peppers, avocado,...</td>\n",
       "    </tr>\n",
       "    <tr>\n",
       "      <th>998</th>\n",
       "      <td>[sardines, heineken, chicken, coke, ice_crea, ...</td>\n",
       "    </tr>\n",
       "    <tr>\n",
       "      <th>999</th>\n",
       "      <td>[hering, corned_b, apples, olives, steak, bagu...</td>\n",
       "    </tr>\n",
       "    <tr>\n",
       "      <th>1000</th>\n",
       "      <td>[olives, bourbon, coke, turkey, ice_crea, pepp...</td>\n",
       "    </tr>\n",
       "  </tbody>\n",
       "</table>\n",
       "<p>1001 rows × 1 columns</p>\n",
       "</div>"
      ],
      "text/plain": [
       "                                               business\n",
       "0     [corned_b, peppers, bourbon, cracker, chicken,...\n",
       "1     [olives, bourbon, coke, turkey, ice_crea, ham,...\n",
       "2     [hering, corned_b, olives, ham, turkey, bourbo...\n",
       "3     [baguette, sardines, apples, peppers, avocado,...\n",
       "4     [baguette, soda, hering, cracker, heineken, pe...\n",
       "...                                                 ...\n",
       "996   [soda, olives, bourbon, cracker, heineken, avo...\n",
       "997   [baguette, sardines, apples, peppers, avocado,...\n",
       "998   [sardines, heineken, chicken, coke, ice_crea, ...\n",
       "999   [hering, corned_b, apples, olives, steak, bagu...\n",
       "1000  [olives, bourbon, coke, turkey, ice_crea, pepp...\n",
       "\n",
       "[1001 rows x 1 columns]"
      ]
     },
     "execution_count": 44,
     "metadata": {},
     "output_type": "execute_result"
    }
   ],
   "source": [
    "groceries_series  = pd.DataFrame(pd.Series(records))\n",
    "groceries_series \n",
    "groceries_series.columns = [\"business\"]\n",
    "groceries_series"
   ]
  },
  {
   "cell_type": "code",
   "execution_count": 45,
   "metadata": {},
   "outputs": [
    {
     "data": {
      "text/html": [
       "<div>\n",
       "<style scoped>\n",
       "    .dataframe tbody tr th:only-of-type {\n",
       "        vertical-align: middle;\n",
       "    }\n",
       "\n",
       "    .dataframe tbody tr th {\n",
       "        vertical-align: top;\n",
       "    }\n",
       "\n",
       "    .dataframe thead th {\n",
       "        text-align: right;\n",
       "    }\n",
       "</style>\n",
       "<table border=\"1\" class=\"dataframe\">\n",
       "  <thead>\n",
       "    <tr style=\"text-align: right;\">\n",
       "      <th></th>\n",
       "      <th>apples</th>\n",
       "      <th>artichok</th>\n",
       "      <th>avocado</th>\n",
       "      <th>baguette</th>\n",
       "      <th>bordeaux</th>\n",
       "      <th>bourbon</th>\n",
       "      <th>chicken</th>\n",
       "      <th>coke</th>\n",
       "      <th>corned_b</th>\n",
       "      <th>cracker</th>\n",
       "      <th>ham</th>\n",
       "      <th>heineken</th>\n",
       "      <th>hering</th>\n",
       "      <th>ice_crea</th>\n",
       "      <th>olives</th>\n",
       "      <th>peppers</th>\n",
       "      <th>sardines</th>\n",
       "      <th>soda</th>\n",
       "      <th>steak</th>\n",
       "      <th>turkey</th>\n",
       "    </tr>\n",
       "  </thead>\n",
       "  <tbody>\n",
       "    <tr>\n",
       "      <th>0</th>\n",
       "      <td>1</td>\n",
       "      <td>0</td>\n",
       "      <td>0</td>\n",
       "      <td>0</td>\n",
       "      <td>0</td>\n",
       "      <td>1</td>\n",
       "      <td>1</td>\n",
       "      <td>1</td>\n",
       "      <td>1</td>\n",
       "      <td>1</td>\n",
       "      <td>0</td>\n",
       "      <td>0</td>\n",
       "      <td>0</td>\n",
       "      <td>0</td>\n",
       "      <td>0</td>\n",
       "      <td>1</td>\n",
       "      <td>0</td>\n",
       "      <td>0</td>\n",
       "      <td>0</td>\n",
       "      <td>0</td>\n",
       "    </tr>\n",
       "    <tr>\n",
       "      <th>1</th>\n",
       "      <td>0</td>\n",
       "      <td>0</td>\n",
       "      <td>0</td>\n",
       "      <td>1</td>\n",
       "      <td>0</td>\n",
       "      <td>1</td>\n",
       "      <td>0</td>\n",
       "      <td>1</td>\n",
       "      <td>0</td>\n",
       "      <td>0</td>\n",
       "      <td>1</td>\n",
       "      <td>0</td>\n",
       "      <td>0</td>\n",
       "      <td>1</td>\n",
       "      <td>1</td>\n",
       "      <td>0</td>\n",
       "      <td>0</td>\n",
       "      <td>0</td>\n",
       "      <td>0</td>\n",
       "      <td>1</td>\n",
       "    </tr>\n",
       "    <tr>\n",
       "      <th>2</th>\n",
       "      <td>0</td>\n",
       "      <td>0</td>\n",
       "      <td>0</td>\n",
       "      <td>0</td>\n",
       "      <td>0</td>\n",
       "      <td>1</td>\n",
       "      <td>0</td>\n",
       "      <td>0</td>\n",
       "      <td>1</td>\n",
       "      <td>0</td>\n",
       "      <td>1</td>\n",
       "      <td>0</td>\n",
       "      <td>1</td>\n",
       "      <td>0</td>\n",
       "      <td>1</td>\n",
       "      <td>1</td>\n",
       "      <td>0</td>\n",
       "      <td>0</td>\n",
       "      <td>0</td>\n",
       "      <td>1</td>\n",
       "    </tr>\n",
       "    <tr>\n",
       "      <th>3</th>\n",
       "      <td>1</td>\n",
       "      <td>0</td>\n",
       "      <td>1</td>\n",
       "      <td>1</td>\n",
       "      <td>0</td>\n",
       "      <td>1</td>\n",
       "      <td>0</td>\n",
       "      <td>0</td>\n",
       "      <td>0</td>\n",
       "      <td>0</td>\n",
       "      <td>0</td>\n",
       "      <td>0</td>\n",
       "      <td>0</td>\n",
       "      <td>1</td>\n",
       "      <td>0</td>\n",
       "      <td>1</td>\n",
       "      <td>1</td>\n",
       "      <td>0</td>\n",
       "      <td>0</td>\n",
       "      <td>0</td>\n",
       "    </tr>\n",
       "    <tr>\n",
       "      <th>4</th>\n",
       "      <td>1</td>\n",
       "      <td>0</td>\n",
       "      <td>0</td>\n",
       "      <td>1</td>\n",
       "      <td>0</td>\n",
       "      <td>0</td>\n",
       "      <td>0</td>\n",
       "      <td>0</td>\n",
       "      <td>0</td>\n",
       "      <td>1</td>\n",
       "      <td>0</td>\n",
       "      <td>1</td>\n",
       "      <td>1</td>\n",
       "      <td>0</td>\n",
       "      <td>0</td>\n",
       "      <td>1</td>\n",
       "      <td>0</td>\n",
       "      <td>1</td>\n",
       "      <td>0</td>\n",
       "      <td>0</td>\n",
       "    </tr>\n",
       "    <tr>\n",
       "      <th>...</th>\n",
       "      <td>...</td>\n",
       "      <td>...</td>\n",
       "      <td>...</td>\n",
       "      <td>...</td>\n",
       "      <td>...</td>\n",
       "      <td>...</td>\n",
       "      <td>...</td>\n",
       "      <td>...</td>\n",
       "      <td>...</td>\n",
       "      <td>...</td>\n",
       "      <td>...</td>\n",
       "      <td>...</td>\n",
       "      <td>...</td>\n",
       "      <td>...</td>\n",
       "      <td>...</td>\n",
       "      <td>...</td>\n",
       "      <td>...</td>\n",
       "      <td>...</td>\n",
       "      <td>...</td>\n",
       "      <td>...</td>\n",
       "    </tr>\n",
       "    <tr>\n",
       "      <th>996</th>\n",
       "      <td>0</td>\n",
       "      <td>0</td>\n",
       "      <td>1</td>\n",
       "      <td>0</td>\n",
       "      <td>0</td>\n",
       "      <td>1</td>\n",
       "      <td>0</td>\n",
       "      <td>0</td>\n",
       "      <td>0</td>\n",
       "      <td>1</td>\n",
       "      <td>0</td>\n",
       "      <td>1</td>\n",
       "      <td>0</td>\n",
       "      <td>0</td>\n",
       "      <td>1</td>\n",
       "      <td>0</td>\n",
       "      <td>0</td>\n",
       "      <td>1</td>\n",
       "      <td>0</td>\n",
       "      <td>0</td>\n",
       "    </tr>\n",
       "    <tr>\n",
       "      <th>997</th>\n",
       "      <td>1</td>\n",
       "      <td>0</td>\n",
       "      <td>1</td>\n",
       "      <td>1</td>\n",
       "      <td>0</td>\n",
       "      <td>0</td>\n",
       "      <td>0</td>\n",
       "      <td>0</td>\n",
       "      <td>0</td>\n",
       "      <td>0</td>\n",
       "      <td>0</td>\n",
       "      <td>0</td>\n",
       "      <td>0</td>\n",
       "      <td>1</td>\n",
       "      <td>1</td>\n",
       "      <td>1</td>\n",
       "      <td>1</td>\n",
       "      <td>0</td>\n",
       "      <td>0</td>\n",
       "      <td>0</td>\n",
       "    </tr>\n",
       "    <tr>\n",
       "      <th>998</th>\n",
       "      <td>0</td>\n",
       "      <td>0</td>\n",
       "      <td>0</td>\n",
       "      <td>0</td>\n",
       "      <td>0</td>\n",
       "      <td>0</td>\n",
       "      <td>1</td>\n",
       "      <td>1</td>\n",
       "      <td>1</td>\n",
       "      <td>0</td>\n",
       "      <td>0</td>\n",
       "      <td>1</td>\n",
       "      <td>0</td>\n",
       "      <td>1</td>\n",
       "      <td>0</td>\n",
       "      <td>1</td>\n",
       "      <td>1</td>\n",
       "      <td>0</td>\n",
       "      <td>0</td>\n",
       "      <td>0</td>\n",
       "    </tr>\n",
       "    <tr>\n",
       "      <th>999</th>\n",
       "      <td>1</td>\n",
       "      <td>0</td>\n",
       "      <td>0</td>\n",
       "      <td>1</td>\n",
       "      <td>0</td>\n",
       "      <td>0</td>\n",
       "      <td>0</td>\n",
       "      <td>0</td>\n",
       "      <td>1</td>\n",
       "      <td>0</td>\n",
       "      <td>0</td>\n",
       "      <td>0</td>\n",
       "      <td>1</td>\n",
       "      <td>0</td>\n",
       "      <td>1</td>\n",
       "      <td>1</td>\n",
       "      <td>0</td>\n",
       "      <td>0</td>\n",
       "      <td>1</td>\n",
       "      <td>0</td>\n",
       "    </tr>\n",
       "    <tr>\n",
       "      <th>1000</th>\n",
       "      <td>0</td>\n",
       "      <td>0</td>\n",
       "      <td>0</td>\n",
       "      <td>0</td>\n",
       "      <td>0</td>\n",
       "      <td>1</td>\n",
       "      <td>0</td>\n",
       "      <td>1</td>\n",
       "      <td>0</td>\n",
       "      <td>0</td>\n",
       "      <td>0</td>\n",
       "      <td>0</td>\n",
       "      <td>0</td>\n",
       "      <td>1</td>\n",
       "      <td>1</td>\n",
       "      <td>1</td>\n",
       "      <td>0</td>\n",
       "      <td>0</td>\n",
       "      <td>0</td>\n",
       "      <td>1</td>\n",
       "    </tr>\n",
       "  </tbody>\n",
       "</table>\n",
       "<p>1001 rows × 20 columns</p>\n",
       "</div>"
      ],
      "text/plain": [
       "      apples  artichok  avocado  baguette  bordeaux  bourbon  chicken  coke  \\\n",
       "0          1         0        0         0         0        1        1     1   \n",
       "1          0         0        0         1         0        1        0     1   \n",
       "2          0         0        0         0         0        1        0     0   \n",
       "3          1         0        1         1         0        1        0     0   \n",
       "4          1         0        0         1         0        0        0     0   \n",
       "...      ...       ...      ...       ...       ...      ...      ...   ...   \n",
       "996        0         0        1         0         0        1        0     0   \n",
       "997        1         0        1         1         0        0        0     0   \n",
       "998        0         0        0         0         0        0        1     1   \n",
       "999        1         0        0         1         0        0        0     0   \n",
       "1000       0         0        0         0         0        1        0     1   \n",
       "\n",
       "      corned_b  cracker  ham  heineken  hering  ice_crea  olives  peppers  \\\n",
       "0            1        1    0         0       0         0       0        1   \n",
       "1            0        0    1         0       0         1       1        0   \n",
       "2            1        0    1         0       1         0       1        1   \n",
       "3            0        0    0         0       0         1       0        1   \n",
       "4            0        1    0         1       1         0       0        1   \n",
       "...        ...      ...  ...       ...     ...       ...     ...      ...   \n",
       "996          0        1    0         1       0         0       1        0   \n",
       "997          0        0    0         0       0         1       1        1   \n",
       "998          1        0    0         1       0         1       0        1   \n",
       "999          1        0    0         0       1         0       1        1   \n",
       "1000         0        0    0         0       0         1       1        1   \n",
       "\n",
       "      sardines  soda  steak  turkey  \n",
       "0            0     0      0       0  \n",
       "1            0     0      0       1  \n",
       "2            0     0      0       1  \n",
       "3            1     0      0       0  \n",
       "4            0     1      0       0  \n",
       "...        ...   ...    ...     ...  \n",
       "996          0     1      0       0  \n",
       "997          1     0      0       0  \n",
       "998          1     0      0       0  \n",
       "999          0     0      1       0  \n",
       "1000         0     0      0       1  \n",
       "\n",
       "[1001 rows x 20 columns]"
      ]
     },
     "execution_count": 45,
     "metadata": {},
     "output_type": "execute_result"
    }
   ],
   "source": [
    "X = groceries_series['business'].str.join(sep=',').str.get_dummies(sep=',')\n",
    "X"
   ]
  },
  {
   "cell_type": "code",
   "execution_count": 46,
   "metadata": {},
   "outputs": [
    {
     "name": "stdout",
     "output_type": "stream",
     "text": [
      "Collecting mlxtend\n",
      "  Downloading mlxtend-0.19.0-py2.py3-none-any.whl (1.3 MB)\n",
      "Requirement already satisfied: numpy>=1.16.2 in c:\\users\\admin\\anaconda3\\lib\\site-packages (from mlxtend) (1.20.1)\n",
      "Requirement already satisfied: scikit-learn>=0.20.3 in c:\\users\\admin\\anaconda3\\lib\\site-packages (from mlxtend) (0.24.1)\n",
      "Requirement already satisfied: scipy>=1.2.1 in c:\\users\\admin\\anaconda3\\lib\\site-packages (from mlxtend) (1.6.2)\n",
      "Requirement already satisfied: joblib>=0.13.2 in c:\\users\\admin\\anaconda3\\lib\\site-packages (from mlxtend) (1.0.1)\n",
      "Requirement already satisfied: pandas>=0.24.2 in c:\\users\\admin\\anaconda3\\lib\\site-packages (from mlxtend) (1.2.4)\n",
      "Requirement already satisfied: matplotlib>=3.0.0 in c:\\users\\admin\\anaconda3\\lib\\site-packages (from mlxtend) (3.3.4)\n",
      "Requirement already satisfied: setuptools in c:\\users\\admin\\anaconda3\\lib\\site-packages (from mlxtend) (52.0.0.post20210125)\n",
      "Requirement already satisfied: python-dateutil>=2.1 in c:\\users\\admin\\anaconda3\\lib\\site-packages (from matplotlib>=3.0.0->mlxtend) (2.8.1)\n",
      "Requirement already satisfied: pillow>=6.2.0 in c:\\users\\admin\\anaconda3\\lib\\site-packages (from matplotlib>=3.0.0->mlxtend) (8.2.0)\n",
      "Requirement already satisfied: cycler>=0.10 in c:\\users\\admin\\anaconda3\\lib\\site-packages (from matplotlib>=3.0.0->mlxtend) (0.10.0)\n",
      "Requirement already satisfied: kiwisolver>=1.0.1 in c:\\users\\admin\\anaconda3\\lib\\site-packages (from matplotlib>=3.0.0->mlxtend) (1.3.1)\n",
      "Requirement already satisfied: pyparsing!=2.0.4,!=2.1.2,!=2.1.6,>=2.0.3 in c:\\users\\admin\\anaconda3\\lib\\site-packages (from matplotlib>=3.0.0->mlxtend) (2.4.7)\n",
      "Requirement already satisfied: six in c:\\users\\admin\\anaconda3\\lib\\site-packages (from cycler>=0.10->matplotlib>=3.0.0->mlxtend) (1.15.0)\n",
      "Requirement already satisfied: pytz>=2017.3 in c:\\users\\admin\\anaconda3\\lib\\site-packages (from pandas>=0.24.2->mlxtend) (2021.1)\n",
      "Requirement already satisfied: threadpoolctl>=2.0.0 in c:\\users\\admin\\anaconda3\\lib\\site-packages (from scikit-learn>=0.20.3->mlxtend) (2.1.0)\n",
      "Installing collected packages: mlxtend\n",
      "Successfully installed mlxtend-0.19.0\n"
     ]
    }
   ],
   "source": [
    "!pip install mlxtend"
   ]
  },
  {
   "cell_type": "code",
   "execution_count": 47,
   "metadata": {},
   "outputs": [
    {
     "data": {
      "text/html": [
       "<div>\n",
       "<style scoped>\n",
       "    .dataframe tbody tr th:only-of-type {\n",
       "        vertical-align: middle;\n",
       "    }\n",
       "\n",
       "    .dataframe tbody tr th {\n",
       "        vertical-align: top;\n",
       "    }\n",
       "\n",
       "    .dataframe thead th {\n",
       "        text-align: right;\n",
       "    }\n",
       "</style>\n",
       "<table border=\"1\" class=\"dataframe\">\n",
       "  <thead>\n",
       "    <tr style=\"text-align: right;\">\n",
       "      <th></th>\n",
       "      <th>support</th>\n",
       "      <th>itemsets</th>\n",
       "    </tr>\n",
       "  </thead>\n",
       "  <tbody>\n",
       "    <tr>\n",
       "      <th>0</th>\n",
       "      <td>0.313686</td>\n",
       "      <td>(apples)</td>\n",
       "    </tr>\n",
       "    <tr>\n",
       "      <th>1</th>\n",
       "      <td>0.304695</td>\n",
       "      <td>(artichok)</td>\n",
       "    </tr>\n",
       "    <tr>\n",
       "      <th>2</th>\n",
       "      <td>0.362637</td>\n",
       "      <td>(avocado)</td>\n",
       "    </tr>\n",
       "    <tr>\n",
       "      <th>3</th>\n",
       "      <td>0.391608</td>\n",
       "      <td>(baguette)</td>\n",
       "    </tr>\n",
       "    <tr>\n",
       "      <th>4</th>\n",
       "      <td>0.073926</td>\n",
       "      <td>(bordeaux)</td>\n",
       "    </tr>\n",
       "    <tr>\n",
       "      <th>...</th>\n",
       "      <td>...</td>\n",
       "      <td>...</td>\n",
       "    </tr>\n",
       "    <tr>\n",
       "      <th>1191</th>\n",
       "      <td>0.015984</td>\n",
       "      <td>(soda, sardines, peppers)</td>\n",
       "    </tr>\n",
       "    <tr>\n",
       "      <th>1192</th>\n",
       "      <td>0.015984</td>\n",
       "      <td>(peppers, sardines, steak)</td>\n",
       "    </tr>\n",
       "    <tr>\n",
       "      <th>1193</th>\n",
       "      <td>0.011988</td>\n",
       "      <td>(peppers, sardines, turkey)</td>\n",
       "    </tr>\n",
       "    <tr>\n",
       "      <th>1194</th>\n",
       "      <td>0.006993</td>\n",
       "      <td>(soda, sardines, turkey)</td>\n",
       "    </tr>\n",
       "    <tr>\n",
       "      <th>1195</th>\n",
       "      <td>0.005994</td>\n",
       "      <td>(turkey, sardines, steak)</td>\n",
       "    </tr>\n",
       "  </tbody>\n",
       "</table>\n",
       "<p>1196 rows × 2 columns</p>\n",
       "</div>"
      ],
      "text/plain": [
       "       support                     itemsets\n",
       "0     0.313686                     (apples)\n",
       "1     0.304695                   (artichok)\n",
       "2     0.362637                    (avocado)\n",
       "3     0.391608                   (baguette)\n",
       "4     0.073926                   (bordeaux)\n",
       "...        ...                          ...\n",
       "1191  0.015984    (soda, sardines, peppers)\n",
       "1192  0.015984   (peppers, sardines, steak)\n",
       "1193  0.011988  (peppers, sardines, turkey)\n",
       "1194  0.006993     (soda, sardines, turkey)\n",
       "1195  0.005994    (turkey, sardines, steak)\n",
       "\n",
       "[1196 rows x 2 columns]"
      ]
     },
     "execution_count": 47,
     "metadata": {},
     "output_type": "execute_result"
    }
   ],
   "source": [
    "from mlxtend.frequent_patterns import apriori,association_rules\n",
    "frequent_itemsets = apriori(X, min_support=0.005,max_len=3,use_colnames = True)\n",
    "frequent_itemsets "
   ]
  },
  {
   "cell_type": "code",
   "execution_count": 48,
   "metadata": {},
   "outputs": [
    {
     "data": {
      "text/plain": [
       "<bound method DataFrame.sort_values of        support                       itemsets\n",
       "11    0.599401                     (heineken)\n",
       "9     0.487512                      (cracker)\n",
       "12    0.485514                       (hering)\n",
       "14    0.472527                       (olives)\n",
       "5     0.402597                      (bourbon)\n",
       "...        ...                            ...\n",
       "511   0.005994  (avocado, sardines, bordeaux)\n",
       "512   0.005994      (soda, avocado, bordeaux)\n",
       "514   0.005994       (bourbon, avocado, coke)\n",
       "533   0.005994     (olives, avocado, chicken)\n",
       "1195  0.005994      (turkey, sardines, steak)\n",
       "\n",
       "[1196 rows x 2 columns]>"
      ]
     },
     "execution_count": 48,
     "metadata": {},
     "output_type": "execute_result"
    }
   ],
   "source": [
    "frequent_itemsets.sort_values('support',ascending = False,inplace=True)\n",
    "frequent_itemsets.sort_values "
   ]
  },
  {
   "cell_type": "code",
   "execution_count": 49,
   "metadata": {},
   "outputs": [
    {
     "data": {
      "text/html": [
       "<div>\n",
       "<style scoped>\n",
       "    .dataframe tbody tr th:only-of-type {\n",
       "        vertical-align: middle;\n",
       "    }\n",
       "\n",
       "    .dataframe tbody tr th {\n",
       "        vertical-align: top;\n",
       "    }\n",
       "\n",
       "    .dataframe thead th {\n",
       "        text-align: right;\n",
       "    }\n",
       "</style>\n",
       "<table border=\"1\" class=\"dataframe\">\n",
       "  <thead>\n",
       "    <tr style=\"text-align: right;\">\n",
       "      <th></th>\n",
       "      <th>antecedents</th>\n",
       "      <th>consequents</th>\n",
       "      <th>antecedent support</th>\n",
       "      <th>consequent support</th>\n",
       "      <th>support</th>\n",
       "      <th>confidence</th>\n",
       "      <th>lift</th>\n",
       "      <th>leverage</th>\n",
       "      <th>conviction</th>\n",
       "    </tr>\n",
       "  </thead>\n",
       "  <tbody>\n",
       "    <tr>\n",
       "      <th>593</th>\n",
       "      <td>(steak)</td>\n",
       "      <td>(apples, corned_b)</td>\n",
       "      <td>0.226773</td>\n",
       "      <td>0.150849</td>\n",
       "      <td>0.101898</td>\n",
       "      <td>0.449339</td>\n",
       "      <td>2.978732</td>\n",
       "      <td>0.067690</td>\n",
       "      <td>1.542058</td>\n",
       "    </tr>\n",
       "    <tr>\n",
       "      <th>588</th>\n",
       "      <td>(apples, corned_b)</td>\n",
       "      <td>(steak)</td>\n",
       "      <td>0.150849</td>\n",
       "      <td>0.226773</td>\n",
       "      <td>0.101898</td>\n",
       "      <td>0.675497</td>\n",
       "      <td>2.978732</td>\n",
       "      <td>0.067690</td>\n",
       "      <td>2.382801</td>\n",
       "    </tr>\n",
       "    <tr>\n",
       "      <th>324</th>\n",
       "      <td>(ice_crea, chicken)</td>\n",
       "      <td>(coke)</td>\n",
       "      <td>0.139860</td>\n",
       "      <td>0.295704</td>\n",
       "      <td>0.122877</td>\n",
       "      <td>0.878571</td>\n",
       "      <td>2.971115</td>\n",
       "      <td>0.081520</td>\n",
       "      <td>5.800082</td>\n",
       "    </tr>\n",
       "    <tr>\n",
       "      <th>329</th>\n",
       "      <td>(coke)</td>\n",
       "      <td>(ice_crea, chicken)</td>\n",
       "      <td>0.295704</td>\n",
       "      <td>0.139860</td>\n",
       "      <td>0.122877</td>\n",
       "      <td>0.415541</td>\n",
       "      <td>2.971115</td>\n",
       "      <td>0.081520</td>\n",
       "      <td>1.471684</td>\n",
       "    </tr>\n",
       "    <tr>\n",
       "      <th>219</th>\n",
       "      <td>(ice_crea, sardines)</td>\n",
       "      <td>(coke)</td>\n",
       "      <td>0.150849</td>\n",
       "      <td>0.295704</td>\n",
       "      <td>0.131868</td>\n",
       "      <td>0.874172</td>\n",
       "      <td>2.956238</td>\n",
       "      <td>0.087261</td>\n",
       "      <td>5.597297</td>\n",
       "    </tr>\n",
       "    <tr>\n",
       "      <th>222</th>\n",
       "      <td>(coke)</td>\n",
       "      <td>(ice_crea, sardines)</td>\n",
       "      <td>0.295704</td>\n",
       "      <td>0.150849</td>\n",
       "      <td>0.131868</td>\n",
       "      <td>0.445946</td>\n",
       "      <td>2.956238</td>\n",
       "      <td>0.087261</td>\n",
       "      <td>1.532614</td>\n",
       "    </tr>\n",
       "    <tr>\n",
       "      <th>424</th>\n",
       "      <td>(coke)</td>\n",
       "      <td>(chicken, sardines)</td>\n",
       "      <td>0.295704</td>\n",
       "      <td>0.134865</td>\n",
       "      <td>0.116883</td>\n",
       "      <td>0.395270</td>\n",
       "      <td>2.930856</td>\n",
       "      <td>0.077003</td>\n",
       "      <td>1.430614</td>\n",
       "    </tr>\n",
       "    <tr>\n",
       "      <th>421</th>\n",
       "      <td>(chicken, sardines)</td>\n",
       "      <td>(coke)</td>\n",
       "      <td>0.134865</td>\n",
       "      <td>0.295704</td>\n",
       "      <td>0.116883</td>\n",
       "      <td>0.866667</td>\n",
       "      <td>2.930856</td>\n",
       "      <td>0.077003</td>\n",
       "      <td>5.282218</td>\n",
       "    </tr>\n",
       "    <tr>\n",
       "      <th>221</th>\n",
       "      <td>(ice_crea)</td>\n",
       "      <td>(sardines, coke)</td>\n",
       "      <td>0.312687</td>\n",
       "      <td>0.146853</td>\n",
       "      <td>0.131868</td>\n",
       "      <td>0.421725</td>\n",
       "      <td>2.871748</td>\n",
       "      <td>0.085949</td>\n",
       "      <td>1.475331</td>\n",
       "    </tr>\n",
       "    <tr>\n",
       "      <th>220</th>\n",
       "      <td>(sardines, coke)</td>\n",
       "      <td>(ice_crea)</td>\n",
       "      <td>0.146853</td>\n",
       "      <td>0.312687</td>\n",
       "      <td>0.131868</td>\n",
       "      <td>0.897959</td>\n",
       "      <td>2.871748</td>\n",
       "      <td>0.085949</td>\n",
       "      <td>6.735664</td>\n",
       "    </tr>\n",
       "  </tbody>\n",
       "</table>\n",
       "</div>"
      ],
      "text/plain": [
       "              antecedents           consequents  antecedent support  \\\n",
       "593               (steak)    (apples, corned_b)            0.226773   \n",
       "588    (apples, corned_b)               (steak)            0.150849   \n",
       "324   (ice_crea, chicken)                (coke)            0.139860   \n",
       "329                (coke)   (ice_crea, chicken)            0.295704   \n",
       "219  (ice_crea, sardines)                (coke)            0.150849   \n",
       "222                (coke)  (ice_crea, sardines)            0.295704   \n",
       "424                (coke)   (chicken, sardines)            0.295704   \n",
       "421   (chicken, sardines)                (coke)            0.134865   \n",
       "221            (ice_crea)      (sardines, coke)            0.312687   \n",
       "220      (sardines, coke)            (ice_crea)            0.146853   \n",
       "\n",
       "     consequent support   support  confidence      lift  leverage  conviction  \n",
       "593            0.150849  0.101898    0.449339  2.978732  0.067690    1.542058  \n",
       "588            0.226773  0.101898    0.675497  2.978732  0.067690    2.382801  \n",
       "324            0.295704  0.122877    0.878571  2.971115  0.081520    5.800082  \n",
       "329            0.139860  0.122877    0.415541  2.971115  0.081520    1.471684  \n",
       "219            0.295704  0.131868    0.874172  2.956238  0.087261    5.597297  \n",
       "222            0.150849  0.131868    0.445946  2.956238  0.087261    1.532614  \n",
       "424            0.134865  0.116883    0.395270  2.930856  0.077003    1.430614  \n",
       "421            0.295704  0.116883    0.866667  2.930856  0.077003    5.282218  \n",
       "221            0.146853  0.131868    0.421725  2.871748  0.085949    1.475331  \n",
       "220            0.312687  0.131868    0.897959  2.871748  0.085949    6.735664  "
      ]
     },
     "execution_count": 49,
     "metadata": {},
     "output_type": "execute_result"
    }
   ],
   "source": [
    "rules = association_rules(frequent_itemsets, metric=\"lift\", min_threshold=1)\n",
    "rules.head(20)\n",
    "rules.sort_values('lift',ascending = False).head(10)  "
   ]
  },
  {
   "cell_type": "code",
   "execution_count": null,
   "metadata": {},
   "outputs": [],
   "source": []
  }
 ],
 "metadata": {
  "kernelspec": {
   "display_name": "Python 3",
   "language": "python",
   "name": "python3"
  },
  "language_info": {
   "codemirror_mode": {
    "name": "ipython",
    "version": 3
   },
   "file_extension": ".py",
   "mimetype": "text/x-python",
   "name": "python",
   "nbconvert_exporter": "python",
   "pygments_lexer": "ipython3",
   "version": "3.8.8"
  }
 },
 "nbformat": 4,
 "nbformat_minor": 2
}
